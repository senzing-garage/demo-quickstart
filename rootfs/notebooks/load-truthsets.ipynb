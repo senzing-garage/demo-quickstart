{
 "cells": [
  {
   "cell_type": "markdown",
   "id": "671ae8b2-3d6a-4802-a544-2ca4c66a2497",
   "metadata": {},
   "source": [
    "# Load Senzing Truth-Sets\n",
    "\n",
    "These instructions load the [Senzing Truth-Sets]\n",
    "\n",
    "[Senzing Truth-Sets]: https://github.com/Senzing/truth-sets"
   ]
  },
  {
   "cell_type": "markdown",
   "id": "63f822b0-afa1-4a30-988a-41b949827fb0",
   "metadata": {},
   "source": [
    "## Identify data sources\n",
    "\n",
    "To add Truth Set data sources to the Senzing configuration, copy/paste the following block of code into the interactive Python session and press the Enter key. Example:"
   ]
  },
  {
   "cell_type": "markdown",
   "id": "4ef6b70a-ce44-4d22-81b6-eba6606eb2be",
   "metadata": {},
   "source": [
    "Import packages.\n",
    "\n",
    "- `TRUTHSET_DATASOURCES` contains the datasources used by the Truth Sets\n",
    "- `TRUTHSET_CUSTOMER_RECORDS`, `TRUTHSET_REFERENCE_RECORDS`, and `TRUTHSET_WATCHLIST_RECORDS` are lists of records to be inserted."
   ]
  },
  {
   "cell_type": "code",
   "execution_count": null,
   "id": "de03a1c2-d7b1-40a9-8154-1df47cd49fef",
   "metadata": {},
   "outputs": [],
   "source": [
    "import grpc\n",
    "from senzing_grpc import SzAbstractFactory, SzEngineFlags, SzError\n",
    "from senzing_truthset import (\n",
    "    TRUTHSET_CUSTOMER_RECORDS,\n",
    "    TRUTHSET_DATASOURCES,\n",
    "    TRUTHSET_REFERENCE_RECORDS,\n",
    "    TRUTHSET_WATCHLIST_RECORDS,\n",
    ")"
   ]
  },
  {
   "cell_type": "markdown",
   "id": "7df1865e-38e5-416a-835b-b326b4eaf7a5",
   "metadata": {},
   "source": [
    "Create Senzing object."
   ]
  },
  {
   "cell_type": "code",
   "execution_count": null,
   "id": "3272f76c-dc95-4ff8-b573-8bddd55fb779",
   "metadata": {},
   "outputs": [],
   "source": [
    "sz_abstract_factory = SzAbstractFactory(\n",
    "    grpc_channel=grpc.insecure_channel(\"localhost:8261\")\n",
    ")\n",
    "sz_config = sz_abstract_factory.create_sz_config()\n",
    "sz_configmanager = sz_abstract_factory.create_sz_configmanager()\n",
    "sz_diagnostic = sz_abstract_factory.create_sz_diagnostic()\n",
    "sz_engine = sz_abstract_factory.create_sz_engine()"
   ]
  },
  {
   "cell_type": "markdown",
   "id": "583094aa-9a08-4ad7-a1bf-4b11f19d63aa",
   "metadata": {},
   "source": [
    "Get existing Senzing configuration."
   ]
  },
  {
   "cell_type": "code",
   "execution_count": null,
   "id": "fbf17cc3-3273-4097-90a2-f0b9a21674a1",
   "metadata": {},
   "outputs": [],
   "source": [
    "old_config_id = sz_configmanager.get_default_config_id()\n",
    "OLD_JSON_CONFIG = sz_configmanager.get_config(old_config_id)\n",
    "config_handle = sz_config.import_config(OLD_JSON_CONFIG)  "
   ]
  },
  {
   "cell_type": "markdown",
   "id": "e1eeadba-2c85-4e99-802e-3f223997da28",
   "metadata": {},
   "source": [
    "Add DataSources to existing Senzing configuration."
   ]
  },
  {
   "cell_type": "code",
   "execution_count": null,
   "id": "97854ac2-ad01-4663-9f6c-4afd816230f9",
   "metadata": {},
   "outputs": [],
   "source": [
    "try:\n",
    "    for datasource in TRUTHSET_DATASOURCES.keys():\n",
    "        sz_config.add_data_source(config_handle, datasource)\n",
    "except SzError as err:\n",
    "    print(err)"
   ]
  },
  {
   "cell_type": "markdown",
   "id": "d07bd30b-16c5-4b8d-aaff-207ae7615dc4",
   "metadata": {},
   "source": [
    "Persist new Senzing configuration."
   ]
  },
  {
   "cell_type": "code",
   "execution_count": null,
   "id": "32217742-9e09-4778-b7fe-1e23817251ec",
   "metadata": {},
   "outputs": [],
   "source": [
    "NEW_JSON_CONFIG = sz_config.export_config(config_handle)\n",
    "new_config_id = sz_configmanager.add_config(\n",
    "    NEW_JSON_CONFIG, \"Add TruthSet datasources\"\n",
    ")\n",
    "sz_configmanager.replace_default_config_id(old_config_id, new_config_id)    "
   ]
  },
  {
   "cell_type": "markdown",
   "id": "898d386c-6674-44d3-b1cc-c48c4da4768e",
   "metadata": {},
   "source": [
    "Update other Senzing objects"
   ]
  },
  {
   "cell_type": "code",
   "execution_count": null,
   "id": "df805089-7a9a-4e4e-b959-c320819e855b",
   "metadata": {},
   "outputs": [],
   "source": [
    "sz_engine.reinitialize(new_config_id)\n",
    "sz_diagnostic.reinitialize(new_config_id)"
   ]
  },
  {
   "cell_type": "markdown",
   "id": "104ce2bd-2b53-48d6-a3de-a1bc73629aa4",
   "metadata": {},
   "source": [
    "## Add records"
   ]
  },
  {
   "cell_type": "markdown",
   "id": "8232f541-91cd-4662-8f06-15d0fb473e09",
   "metadata": {},
   "source": [
    "Identify records"
   ]
  },
  {
   "cell_type": "code",
   "execution_count": null,
   "id": "099cc7b1-58e2-43a1-9815-a4cd9ec5487f",
   "metadata": {},
   "outputs": [],
   "source": [
    "record_sets = [\n",
    "    TRUTHSET_CUSTOMER_RECORDS,\n",
    "    TRUTHSET_REFERENCE_RECORDS,\n",
    "    TRUTHSET_WATCHLIST_RECORDS,\n",
    "]"
   ]
  },
  {
   "cell_type": "markdown",
   "id": "915b379c-4a17-440b-a30d-4db402a639d4",
   "metadata": {},
   "source": [
    "Prime engine"
   ]
  },
  {
   "cell_type": "code",
   "execution_count": null,
   "id": "04206dd4-2259-4fca-a9c9-b4f4031b32ef",
   "metadata": {},
   "outputs": [],
   "source": [
    "sz_engine.prime_engine()"
   ]
  },
  {
   "cell_type": "markdown",
   "id": "418d6d13-3475-4c2a-aa50-73afb93e6302",
   "metadata": {},
   "source": [
    "Call Senzing to add records"
   ]
  },
  {
   "cell_type": "code",
   "execution_count": null,
   "id": "cb8318ec-cd73-4e43-8349-586c8dd0dbfb",
   "metadata": {},
   "outputs": [],
   "source": [
    "for record_set in record_sets:\n",
    "    for record in record_set.values():\n",
    "        info = sz_engine.add_record(\n",
    "            record.get(\"DataSource\"),\n",
    "            record.get(\"Id\"),\n",
    "            record.get(\"Json\"),\n",
    "            SzEngineFlags.SZ_WITH_INFO,\n",
    "        )\n",
    "        print(info)"
   ]
  }
 ],
 "metadata": {
  "kernelspec": {
   "display_name": "Python 3 (ipykernel)",
   "language": "python",
   "name": "python3"
  },
  "language_info": {
   "codemirror_mode": {
    "name": "ipython",
    "version": 3
   },
   "file_extension": ".py",
   "mimetype": "text/x-python",
   "name": "python",
   "nbconvert_exporter": "python",
   "pygments_lexer": "ipython3",
   "version": "3.9.2"
  }
 },
 "nbformat": 4,
 "nbformat_minor": 5
}

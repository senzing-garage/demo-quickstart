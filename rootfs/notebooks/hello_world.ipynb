{
 "cells": [
  {
   "cell_type": "markdown",
   "id": "3598a158-3183-492d-8173-b08f6e2c0af3",
   "metadata": {},
   "source": [
    "# Senzing Hello World\n",
    "\n",
    "The following is a quick test of connectivity to Senzing using Python over gRPC.\n"
   ]
  },
  {
   "cell_type": "code",
   "execution_count": null,
   "id": "68ee0170-b9bf-4552-b218-497cc46a3dbd",
   "metadata": {},
   "outputs": [],
   "source": [
    "import json\n",
    "\n",
    "import grpc\n",
    "from senzing_grpc import SzAbstractFactory\n",
    "\n",
    "sz_abstract_factory = SzAbstractFactory(\n",
    "    grpc_channel=grpc.insecure_channel(\"localhost:8261\")\n",
    ")\n",
    "sz_product = sz_abstract_factory.create_sz_product()\n",
    "print(json.dumps(json.loads(sz_product.get_version()), indent=2))"
   ]
  }
 ],
 "metadata": {
  "kernelspec": {
   "display_name": "Python 3 (ipykernel)",
   "language": "python",
   "name": "python3"
  },
  "language_info": {
   "codemirror_mode": {
    "name": "ipython",
    "version": 3
   },
   "file_extension": ".py",
   "mimetype": "text/x-python",
   "name": "python",
   "nbconvert_exporter": "python",
   "pygments_lexer": "ipython3",
   "version": "3.9.2"
  }
 },
 "nbformat": 4,
 "nbformat_minor": 5
}

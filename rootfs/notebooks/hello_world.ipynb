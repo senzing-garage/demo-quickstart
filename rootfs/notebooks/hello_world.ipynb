{
 "cells": [
  {
   "cell_type": "markdown",
   "id": "3598a158-3183-492d-8173-b08f6e2c0af3",
   "metadata": {},
   "source": [
    "# Senzing Hello World\n",
    "\n",
    "The following is a quick test of connectivity to Senzing using Python over gRPC.\n",
    "\n",
    "**Hints**:\n",
    "1. To step through the cells one at a time, \n",
    "   click on the\n",
    "   ![Run this cell and advance](img/step.png)\n",
    "   (\"Run this cell and advance (Shift+Enter)\") icon\n",
    "   at the top of this notebook repeatedly.\n",
    "1. To run all cells, \n",
    "   click on the\n",
    "   ![Restart the kernel and run all cells](img/play.png)\n",
    "   (\"Restart the kernel and run all cells\") icon\n",
    "   at the top of this notebook. \n"
   ]
  },
  {
   "cell_type": "markdown",
   "id": "06b6ced9-6728-496b-b037-e5740fb5b99c",
   "metadata": {},
   "source": [
    "Import python packages."
   ]
  },
  {
   "cell_type": "code",
   "execution_count": null,
   "id": "68ee0170-b9bf-4552-b218-497cc46a3dbd",
   "metadata": {},
   "outputs": [],
   "source": [
    "import json\n",
    "\n",
    "import grpc\n",
    "from senzing_grpc import SzAbstractFactory"
   ]
  },
  {
   "cell_type": "markdown",
   "id": "563342b8-10f2-4eef-a887-21e6471076a5",
   "metadata": {},
   "source": [
    "Create an abstract factory for accessing Senzing via gRPC."
   ]
  },
  {
   "cell_type": "code",
   "execution_count": null,
   "id": "79b07536-ec75-4288-b5e7-22427f510c5b",
   "metadata": {},
   "outputs": [],
   "source": [
    "sz_abstract_factory = SzAbstractFactory(\n",
    "    grpc_channel=grpc.insecure_channel(\"localhost:8261\")\n",
    ")"
   ]
  },
  {
   "cell_type": "markdown",
   "id": "b1b455d7-7d09-4c64-bdfe-abada6d72d1c",
   "metadata": {},
   "source": [
    "Create a Senzing object."
   ]
  },
  {
   "cell_type": "code",
   "execution_count": null,
   "id": "be478e8e-a16c-4c05-9f01-7bda4025d953",
   "metadata": {},
   "outputs": [],
   "source": [
    "sz_product = sz_abstract_factory.create_sz_product()"
   ]
  },
  {
   "cell_type": "markdown",
   "id": "0b832dd8-02fb-46a7-9556-b42bd7fafb34",
   "metadata": {},
   "source": [
    "Use Senzing object."
   ]
  },
  {
   "cell_type": "code",
   "execution_count": null,
   "id": "02e3e512-4492-4d52-8bd3-1bc8f08b8a97",
   "metadata": {},
   "outputs": [],
   "source": [
    "print(json.dumps(json.loads(sz_product.get_version()), indent=2))"
   ]
  }
 ],
 "metadata": {
  "kernelspec": {
   "display_name": "Python 3 (ipykernel)",
   "language": "python",
   "name": "python3"
  },
  "language_info": {
   "codemirror_mode": {
    "name": "ipython",
    "version": 3
   },
   "file_extension": ".py",
   "mimetype": "text/x-python",
   "name": "python",
   "nbconvert_exporter": "python",
   "pygments_lexer": "ipython3",
   "version": "3.9.2"
  }
 },
 "nbformat": 4,
 "nbformat_minor": 5
}

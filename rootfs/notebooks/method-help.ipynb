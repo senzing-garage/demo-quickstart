{
 "cells": [
  {
   "cell_type": "markdown",
   "id": "671ae8b2-3d6a-4802-a544-2ca4c66a2497",
   "metadata": {},
   "source": [
    "# Show method help"
   ]
  },
  {
   "cell_type": "markdown",
   "id": "4ef6b70a-ce44-4d22-81b6-eba6606eb2be",
   "metadata": {},
   "source": [
    "Import Python packages."
   ]
  },
  {
   "cell_type": "code",
   "execution_count": null,
   "id": "de03a1c2-d7b1-40a9-8154-1df47cd49fef",
   "metadata": {},
   "outputs": [],
   "source": [
    "import grpc\n",
    "from senzing_grpc import SzAbstractFactory"
   ]
  },
  {
   "cell_type": "markdown",
   "id": "7df1865e-38e5-416a-835b-b326b4eaf7a5",
   "metadata": {},
   "source": [
    "Create Senzing object."
   ]
  },
  {
   "cell_type": "code",
   "execution_count": null,
   "id": "3272f76c-dc95-4ff8-b573-8bddd55fb779",
   "metadata": {},
   "outputs": [],
   "source": [
    "sz_abstract_factory = SzAbstractFactory(\n",
    "    grpc_channel=grpc.insecure_channel(\"localhost:8261\")\n",
    ")\n",
    "sz_engine = sz_abstract_factory.create_sz_engine()"
   ]
  },
  {
   "cell_type": "markdown",
   "id": "b0c8b51d-9c43-41be-ab98-62ad9360edfe",
   "metadata": {},
   "source": [
    "List all methods for a Senzing object."
   ]
  },
  {
   "cell_type": "code",
   "execution_count": null,
   "id": "38514ed8-a6f3-4873-8888-48c568b24449",
   "metadata": {},
   "outputs": [],
   "source": [
    "print(sz_engine.help())"
   ]
  },
  {
   "cell_type": "markdown",
   "id": "7a05d6be-ea6c-4983-ba24-46faeb5511d3",
   "metadata": {},
   "source": [
    "Print help for a specific method."
   ]
  },
  {
   "cell_type": "code",
   "execution_count": null,
   "id": "88c97c82-574c-4557-bd4d-686e513d1d40",
   "metadata": {},
   "outputs": [],
   "source": [
    "print(sz_engine.help(\"get_entity_by_record_id\"))"
   ]
  }
 ],
 "metadata": {
  "kernelspec": {
   "display_name": "Python 3 (ipykernel)",
   "language": "python",
   "name": "python3"
  },
  "language_info": {
   "codemirror_mode": {
    "name": "ipython",
    "version": 3
   },
   "file_extension": ".py",
   "mimetype": "text/x-python",
   "name": "python",
   "nbconvert_exporter": "python",
   "pygments_lexer": "ipython3",
   "version": "3.9.2"
  }
 },
 "nbformat": 4,
 "nbformat_minor": 5
}

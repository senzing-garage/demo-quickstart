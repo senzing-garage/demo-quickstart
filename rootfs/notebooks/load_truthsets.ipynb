{
 "cells": [
  {
   "cell_type": "markdown",
   "id": "671ae8b2-3d6a-4802-a544-2ca4c66a2497",
   "metadata": {},
   "source": [
    "# Load Senzing truth-sets\n",
    "\n",
    "These instructions load the [Senzing truth-sets] into the Senzing engine.\n",
    "\n",
    "[Senzing truth-sets]: https://github.com/Senzing/truth-sets"
   ]
  },
  {
   "cell_type": "markdown",
   "id": "e034c7cc-1c3d-4a88-a83c-f98041572d5a",
   "metadata": {},
   "source": [
    "## Prepare Python enviroment"
   ]
  },
  {
   "cell_type": "markdown",
   "id": "4ef6b70a-ce44-4d22-81b6-eba6606eb2be",
   "metadata": {},
   "source": [
    "Import Python packages."
   ]
  },
  {
   "cell_type": "code",
   "execution_count": null,
   "id": "de03a1c2-d7b1-40a9-8154-1df47cd49fef",
   "metadata": {},
   "outputs": [],
   "source": [
    "import json\n",
    "import shutil\n",
    "\n",
    "import grpc\n",
    "import requests\n",
    "from senzing_grpc import SzAbstractFactory, SzEngineFlags, SzError"
   ]
  },
  {
   "cell_type": "markdown",
   "id": "5f089e33-847d-4da7-8bb5-4edef5288e72",
   "metadata": {},
   "source": [
    "Set environment specific variables."
   ]
  },
  {
   "cell_type": "code",
   "execution_count": null,
   "id": "ff9189d1-852d-46b0-9e2e-36f524c9038e",
   "metadata": {},
   "outputs": [],
   "source": [
    "home_path = \"/notebooks/\"\n",
    "truth_set_url_prefix = \"https://raw.githubusercontent.com/Senzing/truth-sets/refs/heads/main/truthsets/demo/\"\n",
    "truth_set_filenames = [\n",
    "    \"customers.json\",\n",
    "    \"reference.json\",\n",
    "    \"watchlist.json\",\n",
    "]"
   ]
  },
  {
   "cell_type": "markdown",
   "id": "a2f2238a-dc2c-4385-9c19-1633ee035bcd",
   "metadata": {},
   "source": [
    "Download truth-set files."
   ]
  },
  {
   "cell_type": "code",
   "execution_count": null,
   "id": "04555a6e-9c48-4a9b-b8b0-e7285b602fc8",
   "metadata": {},
   "outputs": [],
   "source": [
    "for filename in truth_set_filenames:\n",
    "    url = truth_set_url_prefix + filename\n",
    "    filepath = home_path + filename\n",
    "    response = requests.get(url, stream=True, timeout=10)\n",
    "    response.raw.decode_content = True\n",
    "    with open(filepath, \"wb\") as file:\n",
    "        shutil.copyfileobj(response.raw, file)"
   ]
  },
  {
   "cell_type": "markdown",
   "id": "63f822b0-afa1-4a30-988a-41b949827fb0",
   "metadata": {},
   "source": [
    "## Identify data sources"
   ]
  },
  {
   "cell_type": "markdown",
   "id": "123bf61b-c967-49c2-8802-3d8ffc8dcfae",
   "metadata": {},
   "source": [
    "Discover `DATA_SOURCE` values in records."
   ]
  },
  {
   "cell_type": "code",
   "execution_count": null,
   "id": "7f5cecdf-649a-4a8b-ad64-d2fc3f37166d",
   "metadata": {},
   "outputs": [],
   "source": [
    "datasources = []\n",
    "\n",
    "for filename in truth_set_filenames:\n",
    "    filepath = home_path + filename\n",
    "    with open(filepath, \"r\", encoding=\"utf-8\") as file:\n",
    "        for line in file:\n",
    "            line_as_dict = json.loads(line)\n",
    "            datasource = line_as_dict.get(\"DATA_SOURCE\")\n",
    "            if datasource not in datasources:\n",
    "                datasources.append(datasource)\n",
    "\n",
    "print(f\"Found the following DATA_SOURCE values in the data: {datasources}\")\n",
    "                "
   ]
  },
  {
   "cell_type": "markdown",
   "id": "57168a37-139b-44a1-957c-48ced52e684f",
   "metadata": {},
   "source": [
    "## Update Senzing configuration"
   ]
  },
  {
   "cell_type": "markdown",
   "id": "7df1865e-38e5-416a-835b-b326b4eaf7a5",
   "metadata": {},
   "source": [
    "Create an abstract factory for accessing Senzing via gRPC."
   ]
  },
  {
   "cell_type": "code",
   "execution_count": null,
   "id": "3272f76c-dc95-4ff8-b573-8bddd55fb779",
   "metadata": {},
   "outputs": [],
   "source": [
    "sz_abstract_factory = SzAbstractFactory(\n",
    "    grpc_channel=grpc.insecure_channel(\"localhost:8261\")\n",
    ")"
   ]
  },
  {
   "cell_type": "markdown",
   "id": "60c3824c-e3ac-4445-ac71-338361890405",
   "metadata": {},
   "source": [
    "Create Senzing objects."
   ]
  },
  {
   "cell_type": "code",
   "execution_count": null,
   "id": "301ce7eb-9069-4c8d-a1c4-ebe8f78d1bf6",
   "metadata": {},
   "outputs": [],
   "source": [
    "sz_config = sz_abstract_factory.create_sz_config()\n",
    "sz_configmanager = sz_abstract_factory.create_sz_configmanager()\n",
    "sz_diagnostic = sz_abstract_factory.create_sz_diagnostic()\n",
    "sz_engine = sz_abstract_factory.create_sz_engine()"
   ]
  },
  {
   "cell_type": "markdown",
   "id": "583094aa-9a08-4ad7-a1bf-4b11f19d63aa",
   "metadata": {},
   "source": [
    "Get current Senzing configuration."
   ]
  },
  {
   "cell_type": "code",
   "execution_count": null,
   "id": "fbf17cc3-3273-4097-90a2-f0b9a21674a1",
   "metadata": {},
   "outputs": [],
   "source": [
    "old_config_id = sz_configmanager.get_default_config_id()\n",
    "old_json_config = sz_configmanager.get_config(old_config_id)\n",
    "config_handle = sz_config.import_config(old_json_config)  "
   ]
  },
  {
   "cell_type": "markdown",
   "id": "e1eeadba-2c85-4e99-802e-3f223997da28",
   "metadata": {},
   "source": [
    "Add DataSources to Senzing configuration."
   ]
  },
  {
   "cell_type": "code",
   "execution_count": null,
   "id": "97854ac2-ad01-4663-9f6c-4afd816230f9",
   "metadata": {},
   "outputs": [],
   "source": [
    "for datasource in datasources:\n",
    "    try:\n",
    "        sz_config.add_data_source(config_handle, datasource)\n",
    "    except SzError as err:\n",
    "        print(err)"
   ]
  },
  {
   "cell_type": "markdown",
   "id": "d07bd30b-16c5-4b8d-aaff-207ae7615dc4",
   "metadata": {},
   "source": [
    "Persist new Senzing configuration."
   ]
  },
  {
   "cell_type": "code",
   "execution_count": null,
   "id": "32217742-9e09-4778-b7fe-1e23817251ec",
   "metadata": {},
   "outputs": [],
   "source": [
    "new_json_config = sz_config.export_config(config_handle)\n",
    "new_config_id = sz_configmanager.add_config(\n",
    "    new_json_config, \"Add TruthSet datasources\"\n",
    ")\n",
    "sz_configmanager.replace_default_config_id(old_config_id, new_config_id)    "
   ]
  },
  {
   "cell_type": "markdown",
   "id": "898d386c-6674-44d3-b1cc-c48c4da4768e",
   "metadata": {},
   "source": [
    "With the change in Senzing configuration, Senzing objects need to be updated."
   ]
  },
  {
   "cell_type": "code",
   "execution_count": null,
   "id": "df805089-7a9a-4e4e-b959-c320819e855b",
   "metadata": {},
   "outputs": [],
   "source": [
    "sz_engine.reinitialize(new_config_id)\n",
    "sz_diagnostic.reinitialize(new_config_id)"
   ]
  },
  {
   "cell_type": "markdown",
   "id": "104ce2bd-2b53-48d6-a3de-a1bc73629aa4",
   "metadata": {},
   "source": [
    "## Add records"
   ]
  },
  {
   "cell_type": "markdown",
   "id": "418d6d13-3475-4c2a-aa50-73afb93e6302",
   "metadata": {},
   "source": [
    "Call Senzing to add records."
   ]
  },
  {
   "cell_type": "code",
   "execution_count": null,
   "id": "cb8318ec-cd73-4e43-8349-586c8dd0dbfb",
   "metadata": {},
   "outputs": [],
   "source": [
    "for filename in truth_set_filenames:\n",
    "    filepath = home_path + filename\n",
    "    with open(filepath, \"r\") as file:\n",
    "        for line in file:\n",
    "            try: \n",
    "                line_as_dict = json.loads(line)\n",
    "                info = sz_engine.add_record(\n",
    "                    line_as_dict.get(\"DATA_SOURCE\"),\n",
    "                    line_as_dict.get(\"RECORD_ID\"),\n",
    "                    line,\n",
    "                    SzEngineFlags.SZ_WITH_INFO,\n",
    "                )\n",
    "                print(info)\n",
    "            except SzError as err:\n",
    "                print(err)                "
   ]
  },
  {
   "cell_type": "markdown",
   "id": "150379ba-871b-4507-a558-4f64aec5f45d",
   "metadata": {},
   "source": [
    "## View results"
   ]
  },
  {
   "cell_type": "markdown",
   "id": "8dba6b42-b3c4-46db-ad7d-15dc8b7bd69c",
   "metadata": {},
   "source": [
    "Retrieve an entity by identifying a record of the entity."
   ]
  },
  {
   "cell_type": "code",
   "execution_count": null,
   "id": "f38595da-ca2f-44bb-88d2-915308c1462b",
   "metadata": {},
   "outputs": [],
   "source": [
    "customer_1070_entity = sz_engine.get_entity_by_record_id(\"CUSTOMERS\", \"1070\")\n",
    "print(json.dumps(json.loads(customer_1070_entity), indent=2))"
   ]
  },
  {
   "cell_type": "markdown",
   "id": "a8d1c756-a677-404b-90a1-cc7cb6b2d10a",
   "metadata": {},
   "source": [
    "Search for entities by attributes."
   ]
  },
  {
   "cell_type": "code",
   "execution_count": null,
   "id": "be90ce26-8f67-4429-bf82-558106967616",
   "metadata": {},
   "outputs": [],
   "source": [
    "search_query = {\n",
    "    \"name_full\": \"robert smith\",\n",
    "    \"date_of_birth\": \"11/12/1978\",\n",
    "}\n",
    "search_result = sz_engine.search_by_attributes(json.dumps(search_query))\n",
    "print(json.dumps(json.loads(search_result), indent=2))"
   ]
  }
 ],
 "metadata": {
  "kernelspec": {
   "display_name": "Python 3 (ipykernel)",
   "language": "python",
   "name": "python3"
  },
  "language_info": {
   "codemirror_mode": {
    "name": "ipython",
    "version": 3
   },
   "file_extension": ".py",
   "mimetype": "text/x-python",
   "name": "python",
   "nbconvert_exporter": "python",
   "pygments_lexer": "ipython3",
   "version": "3.9.2"
  }
 },
 "nbformat": 4,
 "nbformat_minor": 5
}

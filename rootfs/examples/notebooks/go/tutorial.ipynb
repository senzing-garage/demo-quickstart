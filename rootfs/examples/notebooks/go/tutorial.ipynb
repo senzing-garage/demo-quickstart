{
 "cells": [
  {
   "cell_type": "markdown",
   "id": "f6c85fc5-9435-4201-9d21-6a17513880d3",
   "metadata": {
    "tags": []
   },
   "source": [
    "# Welcome to GoNB\n",
    "\n",
    "[*GoNB*](https://github.com/janpfeifer/gonb) is a *Go* notebook kernel. It allows one to easily run *Go* code in a *Jupyter Notebook* and variations.\n",
    "\n",
    "In this tutorial we will walk through most of its features, and explain how it works.\n",
    "\n",
    "To install, on a typical linux system:\n",
    "\n",
    "```shell\n",
    "$ go install github.com/janpfeifer/gonb@latest\n",
    "$ gonb --install\n",
    "```\n",
    "\n",
    "After if you start your [JupyterLab](https://jupyter.org/) or equivalent, it should pick it up.\n",
    "(TODO: Mac and Windows version. Notice in windows I usually run in [WSL](https://learn.microsoft.com/en-us/windows/wsl/install)).\n",
    "\n",
    "## Hello World!\n",
    "\n",
    "Whenever a cell is executed, *gonb* saves the cell content of the cell to a *Go* file, auto-imports missing dependencies (when it can guess), compiles and runs it. It may seem a lot, but its pretty fast (except\n",
    "maybe the first cell run that is usually a little slower) and feels interactive. "
   ]
  },
  {
   "cell_type": "code",
   "execution_count": 1,
   "id": "430b4b44-0012-4086-8460-5ba81d20a699",
   "metadata": {},
   "outputs": [
    {
     "name": "stdout",
     "output_type": "stream",
     "text": [
      "Hello World!"
     ]
    }
   ],
   "source": [
    "func main() {\n",
    "    fmt.Printf(\"Hello World!\")\n",
    "}"
   ]
  },
  {
   "cell_type": "markdown",
   "id": "a936cc25-a399-43d8-8590-4bbf116a9c15",
   "metadata": {},
   "source": [
    "Easy, right ? Now when trying different things, to avoid having to write `func main()` at every cell, *gonb* provides a short cut: \"%%\". Anything after a \"%%\" will be wrapped inside a `func main() { ... }`.\n",
    "\n",
    "So, let's redo our example above:"
   ]
  },
  {
   "cell_type": "code",
   "execution_count": 2,
   "id": "781a15d2-469e-4c93-b45e-c18067787f97",
   "metadata": {},
   "outputs": [
    {
     "name": "stdout",
     "output_type": "stream",
     "text": [
      "Hello World!"
     ]
    }
   ],
   "source": [
    "%%\n",
    "fmt.Printf(\"Hello World!\")"
   ]
  },
  {
   "cell_type": "markdown",
   "id": "1917b045-6b6a-47bb-a9ed-dfac8fecaca7",
   "metadata": {},
   "source": [
    "## Globals and Updates\n",
    "\n",
    "Imports, functions, constants, types and variables global declarations are memorized once executed, and carry over from one cell to another.\n",
    "\n",
    "So one can work on different functions let's say on different cells.\n",
    "\n",
    "Let's test it out:"
   ]
  },
  {
   "cell_type": "code",
   "execution_count": 3,
   "id": "1c73bb12-8e2e-49a8-ae72-60d2c022e25f",
   "metadata": {},
   "outputs": [],
   "source": [
    "func incr[T interface{constraints.Float|constraints.Integer}](x T) T {\n",
    "    return x+T(1)\n",
    "}"
   ]
  },
  {
   "cell_type": "markdown",
   "id": "35bb337a-1a73-4d0d-a411-3eec6c1e8507",
   "metadata": {},
   "source": [
    "Ok, now we have `incr` defined to any numeric type, we can use it in all our future cells.\n",
    "\n",
    "Some quick tests:"
   ]
  },
  {
   "cell_type": "code",
   "execution_count": 4,
   "id": "d1414e76-3fa9-4046-827b-e449cc638e81",
   "metadata": {},
   "outputs": [
    {
     "name": "stdout",
     "output_type": "stream",
     "text": [
      "incr: x=2, y=4.141593\n"
     ]
    }
   ],
   "source": [
    "%%\n",
    "x := incr(1)\n",
    "y := incr(math.Pi)\n",
    "fmt.Printf(\"incr: x=%d, y=%f\\n\", x, y)"
   ]
  },
  {
   "cell_type": "markdown",
   "id": "7c1b28f7-b36f-4ec3-9239-99f8352c01fb",
   "metadata": {},
   "source": [
    "> **Note**: Only the various declarations are carried over from one cell to another, not the results of the execution, including updates to variables.\n",
    "> \n",
    "> So for instance, if we initialize a variable `startValue` with 1, then increment it in one cell. Next time we execute a new cell, it will be again initialized to 1. "
   ]
  },
  {
   "cell_type": "code",
   "execution_count": 5,
   "id": "5549f231-4061-4ec7-9e1c-8ae56c7c82d7",
   "metadata": {},
   "outputs": [
    {
     "name": "stdout",
     "output_type": "stream",
     "text": [
      "current startValue=2.000000\n"
     ]
    }
   ],
   "source": [
    "var startValue = float32(1)\n",
    "\n",
    "%%\n",
    "startValue = incr(startValue)\n",
    "fmt.Printf(\"current startValue=%f\\n\", startValue)"
   ]
  },
  {
   "cell_type": "markdown",
   "id": "df2be63f-991f-4c4d-acf3-d705fa2b6d96",
   "metadata": {},
   "source": [
    "Now if we execute again, `startValue` is again initialized to 1:"
   ]
  },
  {
   "cell_type": "code",
   "execution_count": 6,
   "id": "2111a24e-2627-463a-b936-d8476ba69005",
   "metadata": {},
   "outputs": [
    {
     "name": "stdout",
     "output_type": "stream",
     "text": [
      "current startValue=1.000000\n"
     ]
    }
   ],
   "source": [
    "%%\n",
    "fmt.Printf(\"current startValue=%f\\n\", startValue)"
   ]
  },
  {
   "cell_type": "markdown",
   "id": "83c85334-6323-4b75-b9a2-184c0d83ed1c",
   "metadata": {},
   "source": [
    "## Imports\n",
    "\n",
    "A few things to remember from imports in *gonb*:\n",
    "\n",
    "* Like all other global declarations, they are memorized and carry over from one cell to the other. Still it's good practice to have each cell import what it needs -- no harm in importing the same thing multiple times.\n",
    "* *gonb* runs *goimports* before compiling the code: that means it will be able to automatically add import statements for builtin packages (in the examples above we never wrote `import \"fmt\"`, and it just worked).\n",
    "* *gonb* runs `go get` before compiling the code. This automatically fetches an external import dependency. That is convenient in most cases, but in case you want to get an external *Go* module at an specific version, you can do it manually with something like `!*go get <github.com/user/my_go_module>@<my_version>`. See below on running shell commands.\n",
    "\n",
    "Let's create a simple example that imports a delighful progress-bar library. Notice it automatically fetches the lastest version of the library `github.com/schollz/progressbar/v3` -- and the execution of the cell the first time may take a few seconds because of that.\n"
   ]
  },
  {
   "cell_type": "code",
   "execution_count": null,
   "id": "cbfa0e91-0209-48f5-962e-fc43dbc6b5bb",
   "metadata": {},
   "outputs": [
    {
     "name": "stdout",
     "output_type": "stream",
     "text": [
      " 100% |████████████████████████████████████████| (25 steps/s) [3s:0s]:0s]\n",
      "Done\n"
     ]
    }
   ],
   "source": [
    "import progressbar \"github.com/schollz/progressbar/v3\"\n",
    "\n",
    "%%\n",
    "bar := progressbar.NewOptions(100,\n",
    "                              progressbar.OptionUseANSICodes(true),\n",
    "                              progressbar.OptionShowIts(),\n",
    "                              progressbar.OptionSetItsString(\"steps\"))\n",
    "for i := 0; i < 100; i++ {\n",
    "    bar.Add(1)\n",
    "    time.Sleep(40 * time.Millisecond)\n",
    "}\n",
    "fmt.Printf(\"\\nDone\\n\")"
   ]
  },
  {
   "cell_type": "markdown",
   "id": "452a879c-f36a-4c77-8c72-7daeeee6c319",
   "metadata": {},
   "source": [
    "## Displaying HTML, Image and others\n",
    "\n",
    "One of the things that makes working in Notebooks better than using a terminal is that one can display rich content, like dynamically generated images, plots, HTML, even videos and sound.\n",
    "\n",
    "We'll follow with a few examples of what is already supported.\n",
    "\n",
    "### Improved Hello World!\n",
    "\n",
    "*gonb* includes the accompanying library *gonbUI* that handles the interfacing to the Notebook through a very simple API:\n"
   ]
  },
  {
   "cell_type": "code",
   "execution_count": 9,
   "id": "48c217c5-6712-496e-8281-1179a487ad08",
   "metadata": {},
   "outputs": [
    {
     "data": {
      "text/html": [
       "<span style=\"background:#cec; border-radius: 3px;\">Hello <b>World</b>!</span>"
      ]
     },
     "metadata": {},
     "output_type": "display_data"
    }
   ],
   "source": [
    "import \"github.com/janpfeifer/gonb/gonbui\"\n",
    "\n",
    "%%\n",
    "gonbui.DisplayHTML(`<span style=\"background:#cec; border-radius: 3px;\">Hello <b>World</b>!</span>`)"
   ]
  },
  {
   "cell_type": "markdown",
   "id": "78f82dcb-3bf4-4c43-8f41-3b8dc3fe3461",
   "metadata": {},
   "source": [
    "### Fractals\n",
    "\n",
    "Let's draw a fractal, using another fun package: [github.com/benc-uk/gofract](\"github.com/benc-uk/gofract\")"
   ]
  },
  {
   "cell_type": "code",
   "execution_count": 10,
   "id": "e5f298cd-a260-493c-9c59-dd3d79706116",
   "metadata": {},
   "outputs": [
    {
     "name": "stdout",
     "output_type": "stream",
     "text": [
      "lastRenderTime=2.866808\n"
     ]
    },
    {
     "data": {
      "image/png": "[encoded data removed]"
     },
     "metadata": {},
     "output_type": "display_data"
    }
   ],
   "source": [
    "import \"github.com/benc-uk/gofract/pkg/fractals\"\n",
    "import \"github.com/benc-uk/gofract/pkg/colors\"\n",
    "\n",
    "%%\n",
    "imgWidth := 320\n",
    "\n",
    "// Default fractal\n",
    "f := fractals.Fractal{\n",
    "    FractType:    \"mandelbrot\",\n",
    "    Center:       fractals.ComplexPair{-0.6, 0.0},\n",
    "    MagFactor:    1.0,\n",
    "    MaxIter:      90,\n",
    "    W:            3.0,\n",
    "    H:            2.0,\n",
    "    ImgWidth:     imgWidth,\n",
    "    JuliaSeed:    fractals.ComplexPair{0.355, 0.355},\n",
    "    InnerColor:   \"#000000\",\n",
    "    FullScreen:   false,\n",
    "    ColorRepeats: 2,\n",
    "}\n",
    "gradient := colors.GradientTable{}\n",
    "gradient.AddToTable(\"#000762\", 0.0)\n",
    "gradient.AddToTable(\"#0B48C3\", 0.2)\n",
    "gradient.AddToTable(\"#ffffff\", 0.4)\n",
    "gradient.AddToTable(\"#E3A000\", 0.5)\n",
    "gradient.AddToTable(\"#000762\", 0.9)\n",
    "imgHeight := int(float64(imgWidth) * float64(f.H/f.W))\n",
    "img := image.NewRGBA(image.Rect(0, 0, f.ImgWidth, imgHeight))\n",
    "lastRenderTime := f.Render(img, gradient)\n",
    "fmt.Printf(\"lastRenderTime=%v\\n\", lastRenderTime)\n",
    "gonbui.DisplayImage(img)\n"
   ]
  },
  {
   "cell_type": "markdown",
   "id": "87fb9828-c892-447b-9eb1-0717a96c342b",
   "metadata": {},
   "source": [
    "### SVG Drawing\n",
    "\n",
    "From the amazing [SVGo library](https://github.com/ajstarks/svgo), I really wish I was that creative.\n",
    "Below is Antony Stark's Shining example, [demoed here](https://speakerdeck.com/ajstarks/svgo-code-plus-picture-examples)"
   ]
  },
  {
   "cell_type": "code",
   "execution_count": null,
   "id": "48d813a8-8d4e-4ab7-b374-10a73977ec7b",
   "metadata": {},
   "outputs": [
    {
     "data": {
      "text/html": [
       "<div><?xml version=\"1.0\"?>\n",
       "<!-- Generated by SVGo -->\n",
       "<svg width=\"500\" height=\"500\"\n",
       "     xmlns=\"http://www.w3.org/2000/svg\"\n",
       "     xmlns:xlink=\"http://www.w3.org/1999/xlink\">\n",
       "<defs>\n",
       "<g id=\"unit\">\n",
       "<polyline points=\"0,100 0,40 50,10 100,40 100,100\" style=\"fill:none\" />\n",
       "<polygon points=\"50,40 70,50 70,75 50,85 30,75 30,50\" />\n",
       "</g>\n",
       "<g id=\"runit\">\n",
       "<g transform=\"translate(150,180) rotate(180)\">\n",
       "<use x=\"0\" y=\"0\" xlink:href=\"#unit\" />\n",
       "</g>\n",
       "</g>\n",
       "</defs>\n",
       "<rect x=\"0\" y=\"0\" width=\"500\" height=\"500\" style=\"fill:rgb(227,78,25)\" />\n",
       "<g style=\"stroke:rgb(65,52,44);stroke-width:12;fill:rgb(153,29,40)\">\n",
       "<use x=\"-50\" y=\"0\" xlink:href=\"#unit\" />\n",
       "<use x=\"-50\" y=\"0\" xlink:href=\"#runit\" />\n",
       "<use x=\"50\" y=\"0\" xlink:href=\"#unit\" />\n",
       "<use x=\"50\" y=\"0\" xlink:href=\"#runit\" />\n",
       "<use x=\"150\" y=\"0\" xlink:href=\"#unit\" />\n",
       "<use x=\"150\" y=\"0\" xlink:href=\"#runit\" />\n",
       "<use x=\"250\" y=\"0\" xlink:href=\"#unit\" />\n",
       "<use x=\"250\" y=\"0\" xlink:href=\"#runit\" />\n",
       "<use x=\"350\" y=\"0\" xlink:href=\"#unit\" />\n",
       "<use x=\"350\" y=\"0\" xlink:href=\"#runit\" />\n",
       "<use x=\"450\" y=\"0\" xlink:href=\"#unit\" />\n",
       "<use x=\"450\" y=\"0\" xlink:href=\"#runit\" />\n",
       "<use x=\"-50\" y=\"130\" xlink:href=\"#unit\" />\n",
       "<use x=\"-50\" y=\"130\" xlink:href=\"#runit\" />\n",
       "<use x=\"50\" y=\"130\" xlink:href=\"#unit\" />\n",
       "<use x=\"50\" y=\"130\" xlink:href=\"#runit\" />\n",
       "<use x=\"150\" y=\"130\" xlink:href=\"#unit\" />\n",
       "<use x=\"150\" y=\"130\" xlink:href=\"#runit\" />\n",
       "<use x=\"250\" y=\"130\" xlink:href=\"#unit\" />\n",
       "<use x=\"250\" y=\"130\" xlink:href=\"#runit\" />\n",
       "<use x=\"350\" y=\"130\" xlink:href=\"#unit\" />\n",
       "<use x=\"350\" y=\"130\" xlink:href=\"#runit\" />\n",
       "<use x=\"450\" y=\"130\" xlink:href=\"#unit\" />\n",
       "<use x=\"450\" y=\"130\" xlink:href=\"#runit\" />\n",
       "<use x=\"-50\" y=\"260\" xlink:href=\"#unit\" />\n",
       "<use x=\"-50\" y=\"260\" xlink:href=\"#runit\" />\n",
       "<use x=\"50\" y=\"260\" xlink:href=\"#unit\" />\n",
       "<use x=\"50\" y=\"260\" xlink:href=\"#runit\" />\n",
       "<use x=\"150\" y=\"260\" xlink:href=\"#unit\" />\n",
       "<use x=\"150\" y=\"260\" xlink:href=\"#runit\" />\n",
       "<use x=\"250\" y=\"260\" xlink:href=\"#unit\" />\n",
       "<use x=\"250\" y=\"260\" xlink:href=\"#runit\" />\n",
       "<use x=\"350\" y=\"260\" xlink:href=\"#unit\" />\n",
       "<use x=\"350\" y=\"260\" xlink:href=\"#runit\" />\n",
       "<use x=\"450\" y=\"260\" xlink:href=\"#unit\" />\n",
       "<use x=\"450\" y=\"260\" xlink:href=\"#runit\" />\n",
       "<use x=\"-50\" y=\"390\" xlink:href=\"#unit\" />\n",
       "<use x=\"-50\" y=\"390\" xlink:href=\"#runit\" />\n",
       "<use x=\"50\" y=\"390\" xlink:href=\"#unit\" />\n",
       "<use x=\"50\" y=\"390\" xlink:href=\"#runit\" />\n",
       "<use x=\"150\" y=\"390\" xlink:href=\"#unit\" />\n",
       "<use x=\"150\" y=\"390\" xlink:href=\"#runit\" />\n",
       "<use x=\"250\" y=\"390\" xlink:href=\"#unit\" />\n",
       "<use x=\"250\" y=\"390\" xlink:href=\"#runit\" />\n",
       "<use x=\"350\" y=\"390\" xlink:href=\"#unit\" />\n",
       "<use x=\"350\" y=\"390\" xlink:href=\"#runit\" />\n",
       "<use x=\"450\" y=\"390\" xlink:href=\"#unit\" />\n",
       "<use x=\"450\" y=\"390\" xlink:href=\"#runit\" />\n",
       "</g>\n",
       "</svg>\n",
       "</div>"
      ]
     },
     "metadata": {},
     "output_type": "display_data"
    }
   ],
   "source": [
    "import \"bytes\"\n",
    "import svgo \"github.com/ajstarks/svgo\"\n",
    "import \"github.com/janpfeifer/gonb/gonbui\"\n",
    "\n",
    "func Shining(width, height int) string {\n",
    "    buf := bytes.NewBuffer(nil)\n",
    "    canvas := svgo.New(buf)\n",
    "    xp := []int{50, 70, 70, 50, 30, 30}\n",
    "    yp := []int{40, 50, 75, 85, 75, 50}\n",
    "    xl := []int{0, 0, 50, 100, 100}\n",
    "    yl := []int{100, 40, 10, 40, 100}\n",
    "    bgcolor := \"rgb(227,78,25)\"\n",
    "    bkcolor := \"rgb(153,29,40)\"\n",
    "    stcolor := \"rgb(65,52,44)\"\n",
    "    stwidth := 12\n",
    "    stylefmt := \"stroke:%s;stroke-width:%d;fill:%s\"\n",
    "    canvas.Start(width, height)\n",
    "    canvas.Def()\n",
    "    canvas.Gid(\"unit\")\n",
    "    canvas.Polyline(xl, yl, \"fill:none\")\n",
    "    canvas.Polygon(xp, yp)\n",
    "    canvas.Gend()\n",
    "    canvas.Gid(\"runit\")\n",
    "    canvas.TranslateRotate(150, 180, 180)\n",
    "    canvas.Use(0, 0, \"#unit\")\n",
    "    canvas.Gend()\n",
    "    canvas.Gend()\n",
    "    canvas.DefEnd()\n",
    "    canvas.Rect(0, 0, width, height, \"fill:\"+bgcolor)\n",
    "    canvas.Gstyle(fmt.Sprintf(stylefmt, stcolor, stwidth, bkcolor))\n",
    "    for y := 0; y < height; y += 130 {\n",
    "        for x := -50; x < width; x += 100 {\n",
    "            canvas.Use(x, y, \"#unit\")\n",
    "            canvas.Use(x, y, \"#runit\")\n",
    "        }\n",
    "    }\n",
    "    canvas.Gend()\n",
    "    canvas.End()\n",
    "    return buf.String()\n",
    "}\n",
    "\n",
    "%%\n",
    "gonbui.DisplaySVG(Shining(500, 500))"
   ]
  },
  {
   "cell_type": "markdown",
   "id": "61449cd0-4a9a-4934-ae73-5aa504edf3fb",
   "metadata": {},
   "source": [
    "### Plotting with [Margaid (SVG)](https://github.com/erkkah/margaid)\n",
    "\n",
    "A real pearl!\n",
    "\n",
    "Since its latest update is not yet \"released\" (tagged in Git), we needed to get the version on the specific commit. See \"Executing Shell Commands\" below."
   ]
  },
  {
   "cell_type": "code",
   "execution_count": 12,
   "id": "1fda7399-ecb1-44c2-b05c-fb52d188822a",
   "metadata": {},
   "outputs": [
    {
     "name": "stderr",
     "output_type": "stream",
     "text": [
      "go: downloading github.com/erkkah/margaid v0.1.1-0.20230128143048-d60b2efd2f5a\n",
      "go: added github.com/erkkah/margaid v0.1.1-0.20230128143048-d60b2efd2f5a\n"
     ]
    }
   ],
   "source": [
    "!*go get -u github.com/erkkah/margaid@d60b2efd2f5acc5d8fbbe13eaf85f1532e11a2fb"
   ]
  },
  {
   "cell_type": "code",
   "execution_count": 13,
   "id": "6904a8ef-5a4c-412f-ad75-58910d933b76",
   "metadata": {},
   "outputs": [
    {
     "data": {
      "text/html": [
       "<div><svg viewbox=\"0 0 640 480\" style=\"background-color:#f8f8f8\" preserveAspectRatio=\"xMidYMid meet\" xmlns=\"http://www.w3.org/2000/svg\" width=\"640\" height=\"480\"><defs><marker refY=\"5\" markerUnits=\"userSpaceOnUse\" markerWidth=\"2%\" markerHeight=\"2%\" id=\"circle\" viewBox=\"0 0 10 10 \" refX=\"5\"><circle cy=\"5\" r=\"3\" fill=\"none\" stroke=\"black\" cx=\"5\"/></marker><marker markerHeight=\"2%\" id=\"filled-circle\" viewBox=\"0 0 10 10 \" refX=\"5\" refY=\"5\" markerUnits=\"userSpaceOnUse\" markerWidth=\"2%\"><circle cx=\"5\" cy=\"5\" r=\"3\" fill=\"black\" stroke=\"none\"/></marker><marker id=\"square\" viewBox=\"0 0 10 10 \" refX=\"5\" refY=\"5\" markerUnits=\"userSpaceOnUse\" markerWidth=\"2%\" markerHeight=\"2%\"><rect fill=\"none\" stroke=\"black\" x=\"2\" y=\"2\" width=\"6\" height=\"6\"/></marker><marker refY=\"5\" markerUnits=\"userSpaceOnUse\" markerWidth=\"2%\" markerHeight=\"2%\" id=\"filled-square\" viewBox=\"0 0 10 10 \" refX=\"5\"><rect fill=\"black\" stroke=\"none\" x=\"2\" y=\"2\" width=\"6\" height=\"6\"/></marker></defs><g marker-start=\"url(#square)\" stroke=\"hsl(90, 47%, 65%)\" marker-end=\"url(#square)\" transform=\"translate(70 410 )scale(1 -1 )\" stroke-width=\"1px\" stroke-linejoin=\"round\" fill=\"none\" stroke-linecap=\"round\" marker-mid=\"url(#square)\"><path vector-effect=\"non-scaling-stroke\" d=\"M10,6.800000e+00 L6.333333e+01,4.306667e+01 L1.166667e+02,7.933333e+01 L170,1.156000e+02 L2.233333e+02,1.518667e+02 L2.766667e+02,1.881333e+02 L330,2.244000e+02 L3.833333e+02,2.606667e+02 L4.366667e+02,2.969333e+02 L490,3.332000e+02 \"/></g><g stroke-width=\"3.14px\" stroke-linejoin=\"round\" fill=\"none\" stroke=\"hsl(301, 88%, 65%)\" stroke-linecap=\"round\" transform=\"translate(70 410 )scale(1 -1 )\"><path vector-effect=\"non-scaling-stroke\" d=\"M1.000000e+01,6.800000e+00 C1.888889e+01,6.875434e+00 4.555556e+01,7.018758e+00 6.333333e+01,7.252602e+00 C8.111111e+01,7.486446e+00 9.888889e+01,7.711993e+00 1.166667e+02,8.203066e+00 C1.344444e+02,8.694139e+00 1.522222e+02,9.167786e+00 1.700000e+02,1.019904e+01 C1.877778e+02,1.123029e+01 2.055556e+02,1.222495e+01 2.233333e+02,1.439059e+01 C2.411111e+02,1.655622e+01 2.588889e+02,1.864500e+01 2.766667e+02,2.319283e+01 C2.944444e+02,2.774066e+01 3.122222e+02,3.212711e+01 3.300000e+02,4.167755e+01 C3.477778e+02,5.122798e+01 3.655556e+02,6.043953e+01 3.833333e+02,8.049545e+01 C4.011111e+02,1.005514e+02 4.188889e+02,1.198956e+02 4.366667e+02,1.620130e+02 C4.544444e+02,2.041305e+02 4.811111e+02,3.046688e+02 4.900000e+02,3.332000e+02 \"/></g><g stroke-linejoin=\"round\" transform=\"translate(70 410 )scale(1 -1 )\" fill=\"none\" stroke-linecap=\"round\" marker-mid=\"url(#filled-circle)\" stroke-width=\"3px\" marker-start=\"url(#filled-circle)\" stroke=\"hsl(152, 76%, 65%)\" marker-end=\"url(#filled-circle)\"><path vector-effect=\"non-scaling-stroke\" d=\"M1.000000e+01,2.182456e+02 C1.888889e+01,2.283266e+02 4.555556e+01,2.754247e+02 6.333333e+01,2.787314e+02 C8.111111e+01,2.820380e+02 9.888889e+01,2.396605e+02 1.166667e+02,2.380855e+02 C1.344444e+02,2.365106e+02 1.522222e+02,2.717610e+02 1.700000e+02,2.692816e+02 C1.877778e+02,2.668022e+02 2.055556e+02,2.257349e+02 2.233333e+02,2.232091e+02 C2.411111e+02,2.206834e+02 2.588889e+02,2.451104e+02 2.766667e+02,2.541270e+02 C2.944444e+02,2.631436e+02 3.122222e+02,2.747703e+02 3.300000e+02,2.773088e+02 C3.477778e+02,2.798472e+02 3.655556e+02,2.801849e+02 3.833333e+02,2.693578e+02 C4.011111e+02,2.585308e+02 4.188889e+02,2.285050e+02 4.366667e+02,2.123467e+02 C4.544444e+02,1.961884e+02 4.811111e+02,1.790644e+02 4.900000e+02,1.724079e+02 \"/></g><g fill=\"none\" stroke=\"black\" stroke-linecap=\"round\" transform=\"translate(70 410 )scale(1 -1 )\" stroke-width=\"2px\" stroke-linejoin=\"round\"><path vector-effect=\"non-scaling-stroke\" d=\"M10,0 L10,-6 M6.333333e+01,0 L6.333333e+01,-6 M1.166667e+02,0 L1.166667e+02,-6 M170,0 L170,-6 M2.233333e+02,0 L2.233333e+02,-6 M2.766667e+02,0 L2.766667e+02,-6 M330,0 L330,-6 M3.833333e+02,0 L3.833333e+02,-6 M4.366667e+02,0 L4.366667e+02,-6 M490,0 L490,-6 \"/></g><g fill=\"black\" stroke-linecap=\"round\" text-anchor=\"middle\" stroke-linejoin=\"round\" font-family=\"sans-serif\" dominant-baseline=\"hanging\" transform=\"translate(70 410 )scale(1 1 )\" font-size=\"12px\" font-weight=\"normal\" stroke-width=\"2px\" font-style=\"normal\" stroke=\"black\"><text stroke=\"none\" vector-effect=\"non-scaling-stroke\" x=\"10\" y=\"10\" dominant-baseline=\"hanging\">1</text><text x=\"6.333333e+01\" y=\"10\" dominant-baseline=\"hanging\" stroke=\"none\" vector-effect=\"non-scaling-stroke\">2</text><text stroke=\"none\" vector-effect=\"non-scaling-stroke\" x=\"1.166667e+02\" y=\"10\" dominant-baseline=\"hanging\">3</text><text vector-effect=\"non-scaling-stroke\" x=\"170\" y=\"10\" dominant-baseline=\"hanging\" stroke=\"none\">4</text><text stroke=\"none\" vector-effect=\"non-scaling-stroke\" x=\"2.233333e+02\" y=\"10\" dominant-baseline=\"hanging\">5</text><text x=\"2.766667e+02\" y=\"10\" dominant-baseline=\"hanging\" stroke=\"none\" vector-effect=\"non-scaling-stroke\">6</text><text x=\"330\" y=\"10\" dominant-baseline=\"hanging\" stroke=\"none\" vector-effect=\"non-scaling-stroke\">7</text><text stroke=\"none\" vector-effect=\"non-scaling-stroke\" x=\"3.833333e+02\" y=\"10\" dominant-baseline=\"hanging\">8</text><text dominant-baseline=\"hanging\" stroke=\"none\" vector-effect=\"non-scaling-stroke\" x=\"4.366667e+02\" y=\"10\">9</text><text dominant-baseline=\"hanging\" stroke=\"none\" vector-effect=\"non-scaling-stroke\" x=\"490\" y=\"10\">10</text></g><g stroke-linejoin=\"round\" font-family=\"sans-serif\" transform=\"translate(70 410 )scale(1 1 )rotate(0 0 0 )\" font-size=\"12px\" font-weight=\"bold\" fill=\"black\" stroke=\"black\" font-style=\"normal\" text-anchor=\"middle\" stroke-linecap=\"round\" dominant-baseline=\"baseline\" stroke-width=\"2px\"><text x=\"250\" y=\"-6\" dominant-baseline=\"baseline\" stroke=\"none\" vector-effect=\"non-scaling-stroke\">X</text></g><g fill=\"black\" stroke-linecap=\"round\" font-size=\"12px\" font-weight=\"bold\" stroke-width=\"2px\" stroke-linejoin=\"round\" font-style=\"normal\" stroke=\"black\" transform=\"translate(70 410 )scale(1 -1 )\" text-anchor=\"middle\" font-family=\"sans-serif\" dominant-baseline=\"baseline\"><path vector-effect=\"non-scaling-stroke\" d=\"M0,2.472591e+01 L-6,2.472591e+01 M0,5.860766e+01 L-6,5.860766e+01 M0,9.248942e+01 L-6,9.248942e+01 M0,1.263712e+02 L-6,1.263712e+02 M0,1.602529e+02 L-6,1.602529e+02 M0,1.941347e+02 L-6,1.941347e+02 M0,2.280164e+02 L-6,2.280164e+02 M0,2.618982e+02 L-6,2.618982e+02 M0,2.957799e+02 L-6,2.957799e+02 M0,3.296617e+02 L-6,3.296617e+02 \"/></g><g font-size=\"12px\" font-family=\"sans-serif\" font-style=\"normal\" transform=\"translate(70 410 )scale(1 1 )\" font-weight=\"normal\" stroke-width=\"2px\" stroke-linejoin=\"round\" text-anchor=\"end\" fill=\"black\" stroke=\"black\" stroke-linecap=\"round\" dominant-baseline=\"middle\"><text x=\"-10\" y=\"-2.472591e+01\" dominant-baseline=\"middle\" stroke=\"none\" vector-effect=\"non-scaling-stroke\">1.0</text><text stroke=\"none\" vector-effect=\"non-scaling-stroke\" x=\"-10\" y=\"-5.860766e+01\" dominant-baseline=\"middle\">2.0</text><text stroke=\"none\" vector-effect=\"non-scaling-stroke\" x=\"-10\" y=\"-9.248942e+01\" dominant-baseline=\"middle\">4.0</text><text stroke=\"none\" vector-effect=\"non-scaling-stroke\" x=\"-10\" y=\"-1.263712e+02\" dominant-baseline=\"middle\">8.0</text><text x=\"-10\" y=\"-1.602529e+02\" dominant-baseline=\"middle\" stroke=\"none\" vector-effect=\"non-scaling-stroke\">16.0</text><text stroke=\"none\" vector-effect=\"non-scaling-stroke\" x=\"-10\" y=\"-1.941347e+02\" dominant-baseline=\"middle\">32.0</text><text vector-effect=\"non-scaling-stroke\" x=\"-10\" y=\"-2.280164e+02\" dominant-baseline=\"middle\" stroke=\"none\">64.0</text><text stroke=\"none\" vector-effect=\"non-scaling-stroke\" x=\"-10\" y=\"-2.618982e+02\" dominant-baseline=\"middle\">128.0</text><text y=\"-2.957799e+02\" dominant-baseline=\"middle\" stroke=\"none\" vector-effect=\"non-scaling-stroke\" x=\"-10\">256.0</text><text stroke=\"none\" vector-effect=\"non-scaling-stroke\" x=\"-10\" y=\"-3.296617e+02\" dominant-baseline=\"middle\">512.0</text></g><g dominant-baseline=\"hanging\" stroke-width=\"2px\" stroke=\"black\" stroke-linecap=\"round\" transform=\"translate(70 410 )scale(1 1 )rotate(-90 0 0 )\" text-anchor=\"middle\" fill=\"black\" font-style=\"normal\" font-size=\"12px\" font-weight=\"bold\" stroke-linejoin=\"round\" font-family=\"sans-serif\"><text y=\"6\" dominant-baseline=\"hanging\" stroke=\"none\" vector-effect=\"non-scaling-stroke\" x=\"170\">Y</text></g><g stroke=\"gray\" stroke-linecap=\"round\" stroke-linejoin=\"round\" font-family=\"sans-serif\" transform=\"translate(70 410 )scale(1 -1 )\" font-weight=\"bold\" text-anchor=\"middle\" font-style=\"normal\" dominant-baseline=\"hanging\" stroke-width=\"0.5px\" font-size=\"12px\" fill=\"black\"><path d=\"M0,2.472591e+01 L500,2.472591e+01 M0,5.860766e+01 L500,5.860766e+01 M0,9.248942e+01 L500,9.248942e+01 M0,1.263712e+02 L500,1.263712e+02 M0,1.602529e+02 L500,1.602529e+02 M0,1.941347e+02 L500,1.941347e+02 M0,2.280164e+02 L500,2.280164e+02 M0,2.618982e+02 L500,2.618982e+02 M0,2.957799e+02 L500,2.957799e+02 M0,3.296617e+02 L500,3.296617e+02 \" vector-effect=\"non-scaling-stroke\"/></g><g font-size=\"12px\" font-weight=\"bold\" text-anchor=\"middle\" stroke=\"black\" font-style=\"normal\" font-family=\"sans-serif\" fill=\"none\" stroke-linecap=\"round\" dominant-baseline=\"hanging\" stroke-width=\"2px\" stroke-linejoin=\"round\"><rect y=\"70\" width=\"500\" height=\"340\" vector-effect=\"non-scaling-stroke\" x=\"70\"/><g font-size=\"18px\" fill=\"black\" dominant-baseline=\"middle\"><text x=\"320\" y=\"35\" dominant-baseline=\"middle\" stroke=\"none\" vector-effect=\"non-scaling-stroke\">A diagram of sorts 📊 📈</text></g></g></svg></div>"
      ]
     },
     "metadata": {},
     "output_type": "display_data"
    }
   ],
   "source": [
    "import \"bytes\"\n",
    "import \"github.com/janpfeifer/gonb/gonbui\"\n",
    "import mg \"github.com/erkkah/margaid\"\n",
    "\n",
    "func mgPlot(width, height int) string {\n",
    "    randomSeries := mg.NewSeries()\n",
    "    rand.Seed(time.Now().Unix())\n",
    "    for i := float64(0); i < 10; i++ {\n",
    "        randomSeries.Add(mg.MakeValue(i+1, 200*rand.Float64()))\n",
    "    }\n",
    "\n",
    "    testSeries := mg.NewSeries()\n",
    "    multiplier := 2.1\n",
    "    v := 0.33\n",
    "    for i := float64(0); i < 10; i++ {\n",
    "        v *= multiplier\n",
    "        testSeries.Add(mg.MakeValue(i+1, v))\n",
    "    }\n",
    "\n",
    "    diagram := mg.New(width, height,\n",
    "        mg.WithAutorange(mg.XAxis, testSeries),\n",
    "        mg.WithAutorange(mg.YAxis, testSeries),\n",
    "        mg.WithAutorange(mg.Y2Axis, testSeries),\n",
    "        mg.WithProjection(mg.YAxis, mg.Log),\n",
    "        mg.WithInset(70),\n",
    "        mg.WithPadding(2),\n",
    "        mg.WithColorScheme(90),\n",
    "        mg.WithBackgroundColor(\"#f8f8f8\"),\n",
    "    )\n",
    "\n",
    "    diagram.Line(testSeries, mg.UsingAxes(mg.XAxis, mg.YAxis), mg.UsingMarker(\"square\"), mg.UsingStrokeWidth(1))\n",
    "    diagram.Smooth(testSeries, mg.UsingAxes(mg.XAxis, mg.Y2Axis), mg.UsingStrokeWidth(3.14))\n",
    "    diagram.Smooth(randomSeries, mg.UsingAxes(mg.XAxis, mg.YAxis), mg.UsingMarker(\"filled-circle\"))\n",
    "    diagram.Axis(testSeries, mg.XAxis, diagram.ValueTicker('f', 0, 10), false, \"X\")\n",
    "    diagram.Axis(testSeries, mg.YAxis, diagram.ValueTicker('f', 1, 2), true, \"Y\")\n",
    "\n",
    "    diagram.Frame()\n",
    "    diagram.Title(\"A diagram of sorts 📊 📈\")\n",
    "    buf := bytes.NewBuffer(nil)\n",
    "    diagram.Render(buf)\n",
    "    return buf.String()\n",
    "}\n",
    "\n",
    "%%\n",
    "gonbui.DisplaySVG(mgPlot(640, 480))"
   ]
  },
  {
   "cell_type": "markdown",
   "id": "9b6d9d8f-de5e-4154-9f09-21bb3b2f545f",
   "metadata": {},
   "source": [
    "### Plotting with [Gonum Plot](https://github.com/gonum/plot) (SVG and PNG)\n",
    "\n"
   ]
  },
  {
   "cell_type": "code",
   "execution_count": null,
   "id": "58248364-f1b3-4e56-adc7-7034a1f6c56d",
   "metadata": {},
   "outputs": [
    {
     "data": {
      "image/png": "[encoded data removed]"
     },
     "metadata": {},
     "output_type": "display_data"
    }
   ],
   "source": [
    "import (\n",
    "    \"bytes\"\n",
    "    \"math/rand\"\n",
    "\n",
    "    \"github.com/janpfeifer/gonb/gonbui\"\n",
    "    \"gonum.org/v1/plot\"\n",
    "    \"gonum.org/v1/plot/plotter\"\n",
    "    \"gonum.org/v1/plot/plotutil\"\n",
    "    \"gonum.org/v1/plot/vg\"\n",
    ")\n",
    "\n",
    "// randomPoints returns some random x, y points.\n",
    "func randomPoints(n int) plotter.XYs {\n",
    "    pts := make(plotter.XYs, n)\n",
    "    for i := range pts {\n",
    "        if i == 0 {\n",
    "            pts[i].X = rand.Float64()\n",
    "        } else {\n",
    "            pts[i].X = pts[i-1].X + rand.Float64()\n",
    "        }\n",
    "        pts[i].Y = pts[i].X + 10*rand.Float64()\n",
    "    }\n",
    "    return pts\n",
    "}\n",
    "\n",
    "func GonumPlotExample(width, height int, format string) []byte {\n",
    "    rand.Seed(int64(0))\n",
    "\n",
    "    p := plot.New()\n",
    "\n",
    "    p.Title.Text = \"Plotutil example\"\n",
    "    p.X.Label.Text = \"X\"\n",
    "    p.Y.Label.Text = \"Y\"\n",
    "\n",
    "    err := plotutil.AddLinePoints(p,\n",
    "        \"First\", randomPoints(15),\n",
    "        \"Second\", randomPoints(15),\n",
    "        \"Third\", randomPoints(15))\n",
    "    if err != nil {\n",
    "        panic(err)\n",
    "    }\n",
    "\n",
    "    buf := bytes.NewBuffer(nil)\n",
    "    writerTo, err := p.WriterTo(vg.Points(float64(width)), vg.Points(float64(height)), format)\n",
    "    if err != nil {\n",
    "        panic(err)\n",
    "    }\n",
    "    writerTo.WriteTo(buf)\n",
    "    return buf.Bytes()\n",
    "}\n",
    "\n",
    "%%\n",
    "gonbui.DisplayPNG(GonumPlotExample(400, 200, \"png\"))"
   ]
  },
  {
   "cell_type": "markdown",
   "id": "c311053c-84f4-43d4-84a3-87e9d987907f",
   "metadata": {},
   "source": [
    "The version in SVG looks better though:"
   ]
  },
  {
   "cell_type": "code",
   "execution_count": 16,
   "id": "b5e2269c-3f8c-4f61-9b73-317d0c71498c",
   "metadata": {},
   "outputs": [
    {
     "data": {
      "text/html": [
       "<div><?xml version=\"1.0\"?>\n",
       "<!-- Generated by SVGo and Plotinum VG -->\n",
       "<svg width=\"400pt\" height=\"200pt\" viewBox=\"0 0 400 200\"\n",
       "\txmlns=\"http://www.w3.org/2000/svg\"\n",
       "\txmlns:xlink=\"http://www.w3.org/1999/xlink\">\n",
       "<g transform=\"scale(1, -1) translate(0, -200)\">\n",
       "<path d=\"M0,0L400,0L400,200L0,200Z\" style=\"fill:#FFFFFF\" />\n",
       "<text x=\"160.5\" y=\"-190.61\" transform=\"scale(1, -1)\"\n",
       "\tstyle=\"font-family:Liberation Serif;font-variant:normal;font-weight:normal;font-style:normal;font-size:12px\">Plotutil example</text>\n",
       "<text x=\"216.73\" y=\"-3.9023\" transform=\"scale(1, -1)\"\n",
       "\tstyle=\"font-family:Liberation Serif;font-variant:normal;font-weight:normal;font-style:normal;font-size:12px\">X</text>\n",
       "<text x=\"79.663\" y=\"-16.541\" transform=\"scale(1, -1)\"\n",
       "\tstyle=\"font-family:Liberation Serif;font-variant:normal;font-weight:normal;font-style:normal;font-size:10px\">1</text>\n",
       "<text x=\"205.32\" y=\"-16.541\" transform=\"scale(1, -1)\"\n",
       "\tstyle=\"font-family:Liberation Serif;font-variant:normal;font-weight:normal;font-style:normal;font-size:10px\">4</text>\n",
       "<text x=\"330.97\" y=\"-16.541\" transform=\"scale(1, -1)\"\n",
       "\tstyle=\"font-family:Liberation Serif;font-variant:normal;font-weight:normal;font-style:normal;font-size:10px\">7</text>\n",
       "<path d=\"M82.163,24.363L82.163,32.363\" style=\"fill:none;stroke:#000000;stroke-width:0.5\" />\n",
       "<path d=\"M207.82,24.363L207.82,32.363\" style=\"fill:none;stroke:#000000;stroke-width:0.5\" />\n",
       "<path d=\"M333.47,24.363L333.47,32.363\" style=\"fill:none;stroke:#000000;stroke-width:0.5\" />\n",
       "<path d=\"M124.05,28.363L124.05,32.363\" style=\"fill:none;stroke:#000000;stroke-width:0.5\" />\n",
       "<path d=\"M165.93,28.363L165.93,32.363\" style=\"fill:none;stroke:#000000;stroke-width:0.5\" />\n",
       "<path d=\"M249.7,28.363L249.7,32.363\" style=\"fill:none;stroke:#000000;stroke-width:0.5\" />\n",
       "<path d=\"M291.59,28.363L291.59,32.363\" style=\"fill:none;stroke:#000000;stroke-width:0.5\" />\n",
       "<path d=\"M375.36,28.363L375.36,32.363\" style=\"fill:none;stroke:#000000;stroke-width:0.5\" />\n",
       "<path d=\"M44.635,32.363L397.5,32.363\" style=\"fill:none;stroke:#000000;stroke-width:0.5\" />\n",
       "<g transform=\"rotate(90)\">\n",
       "<text x=\"109.13\" y=\"9.3867\" transform=\"scale(1, -1)\"\n",
       "\tstyle=\"font-family:Liberation Serif;font-variant:normal;font-weight:normal;font-style:normal;font-size:12px\">Y</text>\n",
       "</g>\n",
       "<text x=\"20.885\" y=\"-50.403\" transform=\"scale(1, -1)\"\n",
       "\tstyle=\"font-family:Liberation Serif;font-variant:normal;font-weight:normal;font-style:normal;font-size:10px\">3</text>\n",
       "<text x=\"20.885\" y=\"-106.95\" transform=\"scale(1, -1)\"\n",
       "\tstyle=\"font-family:Liberation Serif;font-variant:normal;font-weight:normal;font-style:normal;font-size:10px\">9</text>\n",
       "<text x=\"15.885\" y=\"-163.5\" transform=\"scale(1, -1)\"\n",
       "\tstyle=\"font-family:Liberation Serif;font-variant:normal;font-weight:normal;font-style:normal;font-size:10px\">15</text>\n",
       "<path d=\"M28.385,52.688L36.385,52.688\" style=\"fill:none;stroke:#000000;stroke-width:0.5\" />\n",
       "<path d=\"M28.385,109.24L36.385,109.24\" style=\"fill:none;stroke:#000000;stroke-width:0.5\" />\n",
       "<path d=\"M28.385,165.79L36.385,165.79\" style=\"fill:none;stroke:#000000;stroke-width:0.5\" />\n",
       "<path d=\"M32.385,80.963L36.385,80.963\" style=\"fill:none;stroke:#000000;stroke-width:0.5\" />\n",
       "<path d=\"M32.385,137.51L36.385,137.51\" style=\"fill:none;stroke:#000000;stroke-width:0.5\" />\n",
       "<path d=\"M36.385,42.709L36.385,184.21\" style=\"fill:none;stroke:#000000;stroke-width:0.5\" />\n",
       "<path d=\"M79.868,56.41L107.34,44.626L122.74,70.252L130.8,106.55L168.38,69.011L180.46,141.03L216.06,89.702L241.57,93.615L274.01,78.657L306.98,159.77L321.91,127.96L343.28,115.26L352.04,159.89L368.88,125.2L397.5,146.03\" style=\"fill:none;stroke:#F15A60\" />\n",
       "<path d=\"M82.368,56.41A2.5,2.5 0 1 1 77.368,56.41A2.5,2.5 0 1 1 82.368,56.41Z\" style=\"fill:none;stroke:#F15A60;stroke-width:0.5\" />\n",
       "<path d=\"M109.84,44.626A2.5,2.5 0 1 1 104.84,44.626A2.5,2.5 0 1 1 109.84,44.626Z\" style=\"fill:none;stroke:#F15A60;stroke-width:0.5\" />\n",
       "<path d=\"M125.24,70.252A2.5,2.5 0 1 1 120.24,70.252A2.5,2.5 0 1 1 125.24,70.252Z\" style=\"fill:none;stroke:#F15A60;stroke-width:0.5\" />\n",
       "<path d=\"M133.3,106.55A2.5,2.5 0 1 1 128.3,106.55A2.5,2.5 0 1 1 133.3,106.55Z\" style=\"fill:none;stroke:#F15A60;stroke-width:0.5\" />\n",
       "<path d=\"M170.88,69.011A2.5,2.5 0 1 1 165.88,69.011A2.5,2.5 0 1 1 170.88,69.011Z\" style=\"fill:none;stroke:#F15A60;stroke-width:0.5\" />\n",
       "<path d=\"M182.96,141.03A2.5,2.5 0 1 1 177.96,141.03A2.5,2.5 0 1 1 182.96,141.03Z\" style=\"fill:none;stroke:#F15A60;stroke-width:0.5\" />\n",
       "<path d=\"M218.56,89.702A2.5,2.5 0 1 1 213.56,89.702A2.5,2.5 0 1 1 218.56,89.702Z\" style=\"fill:none;stroke:#F15A60;stroke-width:0.5\" />\n",
       "<path d=\"M244.07,93.615A2.5,2.5 0 1 1 239.07,93.615A2.5,2.5 0 1 1 244.07,93.615Z\" style=\"fill:none;stroke:#F15A60;stroke-width:0.5\" />\n",
       "<path d=\"M276.51,78.657A2.5,2.5 0 1 1 271.51,78.657A2.5,2.5 0 1 1 276.51,78.657Z\" style=\"fill:none;stroke:#F15A60;stroke-width:0.5\" />\n",
       "<path d=\"M309.48,159.77A2.5,2.5 0 1 1 304.48,159.77A2.5,2.5 0 1 1 309.48,159.77Z\" style=\"fill:none;stroke:#F15A60;stroke-width:0.5\" />\n",
       "<path d=\"M324.41,127.96A2.5,2.5 0 1 1 319.41,127.96A2.5,2.5 0 1 1 324.41,127.96Z\" style=\"fill:none;stroke:#F15A60;stroke-width:0.5\" />\n",
       "<path d=\"M345.78,115.26A2.5,2.5 0 1 1 340.78,115.26A2.5,2.5 0 1 1 345.78,115.26Z\" style=\"fill:none;stroke:#F15A60;stroke-width:0.5\" />\n",
       "<path d=\"M354.54,159.89A2.5,2.5 0 1 1 349.54,159.89A2.5,2.5 0 1 1 354.54,159.89Z\" style=\"fill:none;stroke:#F15A60;stroke-width:0.5\" />\n",
       "<path d=\"M371.38,125.2A2.5,2.5 0 1 1 366.38,125.2A2.5,2.5 0 1 1 371.38,125.2Z\" style=\"fill:none;stroke:#F15A60;stroke-width:0.5\" />\n",
       "<path d=\"M400,146.03A2.5,2.5 0 1 1 395,146.03A2.5,2.5 0 1 1 400,146.03Z\" style=\"fill:none;stroke:#F15A60;stroke-width:0.5\" />\n",
       "<path d=\"M44.635,55.174L50.972,95.749L64.131,64.509L91.261,69.782L113.98,42.709L135.68,56.707L167.34,109.8L202.97,68.908L241.64,158.46L261.37,152.84L263.14,151.83L281.12,169.57L282.49,153.91L306.98,164.62L308.83,133.44\" style=\"fill:none;stroke:#7AC36A;stroke-dasharray:6,2\" />\n",
       "<path d=\"M42.501,53.04L46.769,53.04L46.769,57.307L42.501,57.307Z\" style=\"fill:none;stroke:#7AC36A;stroke-width:0.5\" />\n",
       "<path d=\"M48.838,93.615L53.106,93.615L53.106,97.883L48.838,97.883Z\" style=\"fill:none;stroke:#7AC36A;stroke-width:0.5\" />\n",
       "<path d=\"M61.997,62.375L66.264,62.375L66.264,66.643L61.997,66.643Z\" style=\"fill:none;stroke:#7AC36A;stroke-width:0.5\" />\n",
       "<path d=\"M89.127,67.648L93.395,67.648L93.395,71.916L89.127,71.916Z\" style=\"fill:none;stroke:#7AC36A;stroke-width:0.5\" />\n",
       "<path d=\"M111.84,40.575L116.11,40.575L116.11,44.843L111.84,44.843Z\" style=\"fill:none;stroke:#7AC36A;stroke-width:0.5\" />\n",
       "<path d=\"M133.54,54.573L137.81,54.573L137.81,58.841L133.54,58.841Z\" style=\"fill:none;stroke:#7AC36A;stroke-width:0.5\" />\n",
       "<path d=\"M165.21,107.67L169.47,107.67L169.47,111.94L165.21,111.94Z\" style=\"fill:none;stroke:#7AC36A;stroke-width:0.5\" />\n",
       "<path d=\"M200.84,66.774L205.1,66.774L205.1,71.041L200.84,71.041Z\" style=\"fill:none;stroke:#7AC36A;stroke-width:0.5\" />\n",
       "<path d=\"M239.5,156.32L243.77,156.32L243.77,160.59L239.5,160.59Z\" style=\"fill:none;stroke:#7AC36A;stroke-width:0.5\" />\n",
       "<path d=\"M259.24,150.71L263.51,150.71L263.51,154.98L259.24,154.98Z\" style=\"fill:none;stroke:#7AC36A;stroke-width:0.5\" />\n",
       "<path d=\"M261,149.7L265.27,149.7L265.27,153.97L261,153.97Z\" style=\"fill:none;stroke:#7AC36A;stroke-width:0.5\" />\n",
       "<path d=\"M278.98,167.44L283.25,167.44L283.25,171.71L278.98,171.71Z\" style=\"fill:none;stroke:#7AC36A;stroke-width:0.5\" />\n",
       "<path d=\"M280.36,151.78L284.63,151.78L284.63,156.04L280.36,156.04Z\" style=\"fill:none;stroke:#7AC36A;stroke-width:0.5\" />\n",
       "<path d=\"M304.85,162.49L309.11,162.49L309.11,166.76L304.85,166.76Z\" style=\"fill:none;stroke:#7AC36A;stroke-width:0.5\" />\n",
       "<path d=\"M306.69,131.31L310.96,131.31L310.96,135.58L306.69,135.58Z\" style=\"fill:none;stroke:#7AC36A;stroke-width:0.5\" />\n",
       "<path d=\"M66.787,78.776L77.07,43.538L109.96,118.98L128.64,71.59L144.57,135.41L165.3,64.788L197.16,100.42L206.78,88.315L245.33,90.366L282.1,155.28L309.6,167.35L329.17,167.73L361.56,179.34L361.72,184.21L370.83,182.78\" style=\"fill:none;stroke:#5A9BD4;stroke-dasharray:2,2\" />\n",
       "<path d=\"M66.787,81.901L64.081,77.214L69.493,77.214Z\" style=\"fill:none;stroke:#5A9BD4;stroke-width:0.5\" />\n",
       "<path d=\"M77.07,46.663L74.363,41.975L79.776,41.975Z\" style=\"fill:none;stroke:#5A9BD4;stroke-width:0.5\" />\n",
       "<path d=\"M109.96,122.1L107.25,117.42L112.67,117.42Z\" style=\"fill:none;stroke:#5A9BD4;stroke-width:0.5\" />\n",
       "<path d=\"M128.64,74.715L125.93,70.028L131.34,70.028Z\" style=\"fill:none;stroke:#5A9BD4;stroke-width:0.5\" />\n",
       "<path d=\"M144.57,138.54L141.87,133.85L147.28,133.85Z\" style=\"fill:none;stroke:#5A9BD4;stroke-width:0.5\" />\n",
       "<path d=\"M165.3,67.913L162.6,63.226L168.01,63.226Z\" style=\"fill:none;stroke:#5A9BD4;stroke-width:0.5\" />\n",
       "<path d=\"M197.16,103.55L194.45,98.86L199.86,98.86Z\" style=\"fill:none;stroke:#5A9BD4;stroke-width:0.5\" />\n",
       "<path d=\"M206.78,91.44L204.07,86.752L209.48,86.752Z\" style=\"fill:none;stroke:#5A9BD4;stroke-width:0.5\" />\n",
       "<path d=\"M245.33,93.491L242.62,88.804L248.04,88.804Z\" style=\"fill:none;stroke:#5A9BD4;stroke-width:0.5\" />\n",
       "<path d=\"M282.1,158.41L279.39,153.72L284.81,153.72Z\" style=\"fill:none;stroke:#5A9BD4;stroke-width:0.5\" />\n",
       "<path d=\"M309.6,170.47L306.9,165.78L312.31,165.78Z\" style=\"fill:none;stroke:#5A9BD4;stroke-width:0.5\" />\n",
       "<path d=\"M329.17,170.86L326.46,166.17L331.88,166.17Z\" style=\"fill:none;stroke:#5A9BD4;stroke-width:0.5\" />\n",
       "<path d=\"M361.56,182.46L358.85,177.78L364.26,177.78Z\" style=\"fill:none;stroke:#5A9BD4;stroke-width:0.5\" />\n",
       "<path d=\"M361.72,187.34L359.01,182.65L364.43,182.65Z\" style=\"fill:none;stroke:#5A9BD4;stroke-width:0.5\" />\n",
       "<path d=\"M370.83,185.9L368.13,181.21L373.54,181.21Z\" style=\"fill:none;stroke:#5A9BD4;stroke-width:0.5\" />\n",
       "<path d=\"M380,65.668L400,65.668\" style=\"fill:none;stroke:#F15A60\" />\n",
       "<path d=\"M392.5,65.668A2.5,2.5 0 1 1 387.5,65.668A2.5,2.5 0 1 1 392.5,65.668Z\" style=\"fill:none;stroke:#F15A60;stroke-width:0.5\" />\n",
       "<text x=\"354.99\" y=\"-63.181\" transform=\"scale(1, -1)\"\n",
       "\tstyle=\"font-family:Liberation Serif;font-variant:normal;font-weight:normal;font-style:normal;font-size:12px\">First</text>\n",
       "<path d=\"M380,55.484L400,55.484\" style=\"fill:none;stroke:#7AC36A;stroke-dasharray:6,2\" />\n",
       "<path d=\"M387.87,53.35L392.13,53.35L392.13,57.618L387.87,57.618Z\" style=\"fill:none;stroke:#7AC36A;stroke-width:0.5\" />\n",
       "<text x=\"341.67\" y=\"-52.997\" transform=\"scale(1, -1)\"\n",
       "\tstyle=\"font-family:Liberation Serif;font-variant:normal;font-weight:normal;font-style:normal;font-size:12px\">Second</text>\n",
       "<path d=\"M380,45.301L400,45.301\" style=\"fill:none;stroke:#5A9BD4;stroke-dasharray:2,2\" />\n",
       "<path d=\"M390,48.426L387.29,43.738L392.71,43.738Z\" style=\"fill:none;stroke:#5A9BD4;stroke-width:0.5\" />\n",
       "<text x=\"350.34\" y=\"-42.813\" transform=\"scale(1, -1)\"\n",
       "\tstyle=\"font-family:Liberation Serif;font-variant:normal;font-weight:normal;font-style:normal;font-size:12px\">Third</text>\n",
       "</g>\n",
       "</svg>\n",
       "</div>"
      ]
     },
     "metadata": {},
     "output_type": "display_data"
    }
   ],
   "source": [
    "%%\n",
    "gonbui.DisplaySVG(string(GonumPlotExample(400, 200, \"svg\")))"
   ]
  },
  {
   "cell_type": "markdown",
   "id": "b2e0a724-0594-4462-88a4-6856a0dc2cb4",
   "metadata": {},
   "source": [
    "## Executing Shell Commands\n",
    "\n",
    "There are two variations to execute shell commands. They differ only on the directory\n",
    "from where they are executed.\n",
    "\n",
    "* `!` prefix executes what comes next should be executed as a shell command, on the same directory\n",
    "  where the kernel is executed -- typically the same directory where the notebook files is saved.\n"
   ]
  },
  {
   "cell_type": "code",
   "execution_count": 17,
   "id": "724e33f4-c5fa-4fbe-9d90-e411369a74f3",
   "metadata": {},
   "outputs": [
    {
     "name": "stdout",
     "output_type": "stream",
     "text": [
      "go version go1.20 linux/amd64\n",
      "/home/janpf/Projects/gonb/examples\n",
      "total 952\n",
      "-rw-r--r-- 1 janpf janpf  15917 Feb  9 13:42 hello_world.ipynb\n",
      "-rwxr-xr-x 1 janpf janpf 774123 Feb  9 13:42 tutorial.html\n",
      "-rw-r--r-- 1 janpf janpf 156958 Feb  9 14:00 tutorial.ipynb\n"
     ]
    }
   ],
   "source": [
    "!go version\n",
    "!pwd ; ls -l"
   ]
  },
  {
   "cell_type": "markdown",
   "id": "58a9dd1a-c30a-4d89-aada-efb91a989f20",
   "metadata": {},
   "source": [
    "* `!*` prefix executes what comes next as a shell command, on the temporary directory used \n",
    "  to compile the *Go* program when executing the cells. This includes the `go.mod` file, that\n",
    "  can be manipulated for special use cases, like importing a specific version of a module, \n",
    "  or to `redirect` a module to a local directory for development (see `Replace` section below)\n",
    "  \n",
    "Example:"
   ]
  },
  {
   "cell_type": "code",
   "execution_count": 18,
   "id": "be207993-219d-4a7f-a130-5111971fb867",
   "metadata": {},
   "outputs": [
    {
     "name": "stdout",
     "output_type": "stream",
     "text": [
      "/tmp/gonb_fb41a1f9\n",
      "total 10740\n",
      "-rw-r--r-- 1 janpf janpf     1268 Feb  9 14:01 go.mod\n",
      "-rwxr-xr-x 1 janpf janpf 10974996 Feb  9 14:01 gonb_fb41a1f9\n",
      "prw------- 1 janpf janpf        0 Feb  9 14:01 gonb_pipe_2390283674\n",
      "-rw-r--r-- 1 janpf janpf     9877 Feb  9 14:01 go.sum\n",
      "-rw-r--r-- 1 janpf janpf     3551 Feb  9 14:01 main.go\n"
     ]
    }
   ],
   "source": [
    "!*pwd ; ls -l"
   ]
  },
  {
   "cell_type": "markdown",
   "id": "c7155d4a-1076-4b63-bee5-bf0ae2baaeec",
   "metadata": {},
   "source": [
    "You can also use a `\\` at the end of the line to extend the shell command to multiple lines.\n",
    "\n",
    "Example:"
   ]
  },
  {
   "cell_type": "code",
   "execution_count": 19,
   "id": "8688859a-ec3b-4e54-99b4-abbd8542091d",
   "metadata": {},
   "outputs": [
    {
     "name": "stdout",
     "output_type": "stream",
     "text": [
      "Counting: 4 ...\n"
     ]
    }
   ],
   "source": [
    "!((ii=0)) ;\\\n",
    "while ((ii < 5)) ; do \\\n",
    "  printf \"\\rCounting: ${ii} ...\" ;\\\n",
    "  sleep 1;\\\n",
    "  ((ii+=1));\\\n",
    "done;\\\n",
    "echo"
   ]
  },
  {
   "cell_type": "markdown",
   "id": "fc3e1354-7a50-4db9-a82b-ad42d6e9c102",
   "metadata": {},
   "source": [
    "## \"Replace\", Developing Go with a notebook\n",
    "\n",
    "Using the `!*` command above we can easily \"replace\" a module to a local directory. This can be very handy\n",
    "for developing a library in a powerful IDE on the side, and using the *GoNB* notebook to execute tests\n",
    "and experiments. Changes in the library (in the IDE) when saved immediate take effect on the next cell execution.\n",
    "\n",
    "\n",
    "The accompaining library *gonbui* was implemented mostly in this fashion using a notebook, that started with:\n",
    "\n",
    "```\n",
    "!*go mod edit -replace github.com/janpfeifer/gonb=/home/janpf/Projects/gonb\n",
    "```\n",
    "\n",
    "Check out the results with:\n",
    "\n",
    "```\n",
    "!*cat go.mod\n",
    "```"
   ]
  },
  {
   "cell_type": "code",
   "execution_count": 20,
   "id": "3391f12e-131b-45b8-b270-6ba06abaac8c",
   "metadata": {},
   "outputs": [
    {
     "name": "stdout",
     "output_type": "stream",
     "text": [
      "module gonb_fb41a1f9\n",
      "\n",
      "go 1.20\n",
      "\n",
      "require (\n",
      "\tgithub.com/ajstarks/svgo v0.0.0-20211024235047-1546f124cd8b\n",
      "\tgithub.com/benc-uk/gofract v0.0.0-20230120162050-a6f644f92fd6\n",
      "\tgithub.com/erkkah/margaid v0.1.1-0.20230128143048-d60b2efd2f5a\n",
      "\tgithub.com/janpfeifer/gonb v0.0.0-00010101000000-000000000000\n",
      "\tgithub.com/schollz/progressbar/v3 v3.13.0\n",
      "\tgolang.org/x/exp v0.0.0-20230206171751-46f607a40771\n",
      "\tgonum.org/v1/plot v0.12.0\n",
      ")\n",
      "\n",
      "require (\n",
      "\tgit.sr.ht/~sbinet/gg v0.3.1 // indirect\n",
      "\tgithub.com/go-fonts/liberation v0.2.0 // indirect\n",
      "\tgithub.com/go-latex/latex v0.0.0-20210823091927-c0d11ff05a81 // indirect\n",
      "\tgithub.com/go-pdf/fpdf v0.6.0 // indirect\n",
      "\tgithub.com/golang/freetype v0.0.0-20170609003504-e2365dfdc4a0 // indirect\n",
      "\tgithub.com/lucasb-eyer/go-colorful v1.0.3 // indirect\n",
      "\tgithub.com/mattn/go-runewidth v0.0.14 // indirect\n",
      "\tgithub.com/mitchellh/colorstring v0.0.0-20190213212951-d06e56a500db // indirect\n",
      "\tgithub.com/pkg/errors v0.9.1 // indirect\n",
      "\tgithub.com/rivo/uniseg v0.4.3 // indirect\n",
      "\tgolang.org/x/image v0.0.0-20220902085622-e7cb96979f69 // indirect\n",
      "\tgolang.org/x/sys v0.4.0 // indirect\n",
      "\tgolang.org/x/term v0.4.0 // indirect\n",
      "\tgolang.org/x/text v0.3.7 // indirect\n",
      "\tgopkg.in/yaml.v2 v2.3.0 // indirect\n",
      ")\n",
      "\n",
      "replace github.com/janpfeifer/gonb => /home/janpf/Projects/gonb\n"
     ]
    }
   ],
   "source": [
    "!*go mod edit -replace github.com/janpfeifer/gonb=/home/janpf/Projects/gonb\n",
    "!*cat go.mod"
   ]
  },
  {
   "cell_type": "markdown",
   "id": "1c54e53a-037c-451e-9fd4-116d27c58296",
   "metadata": {},
   "source": [
    "## More ... and Help\n",
    "\n",
    "The library is new, and there is still development going on. Much more is planned (on the displaying side, auto-complete, contextual information, better error handling). For those\n",
    "who enjoy coding, help in improving *GoNB* is very welcome!\n",
    "\n",
    "Finally, there is also the `%help` command, which lists all the currently supported features:"
   ]
  },
  {
   "cell_type": "code",
   "execution_count": 21,
   "id": "ba9172b8-ede5-44cd-baa1-a58a1d668a98",
   "metadata": {},
   "outputs": [
    {
     "name": "stdout",
     "output_type": "stream",
     "text": [
      "GoNB is a Go kernel that compiles and executed on-the-fly Go code. \n",
      "\n",
      "When executing a cell, *GoNB* will save the cell contents (except non-Go commands see\n",
      "below) into a \"main.go\" file, compile and execute it.\n",
      "\n",
      "It also saves any global declarations (imports, functions, types, variables, constants)\n",
      "and reuse them at the next cell execution -- so you can define a function in one\n",
      "cell, and reuse in the next one. Just the \"func main()\" is not reused.\n",
      "\n",
      "A \"hello world\" example would look like:\n",
      "\n",
      "\tfunc main() {\n",
      "\t\tfmt.Printf(\"Hello world!\\n\");\n",
      "\t}\n",
      "\n",
      "But to avoid having to type \"func main()\" all the time, you can use \"%%\" and everything\n",
      "after is wrapped inside a \"func main() { ... }\". So our revised \"hello world\" looks like:\n",
      "\n",
      "\t%%\n",
      "\tfmt.Printf(\"Hello world!\\n\")\n",
      "\n",
      "\n",
      "- \"init()\" functions: since there is always only one definition per function name, \n",
      "  it's not possible for each cell to have it's own init() function. Instead GoNB\n",
      "  converts any function named \"init_<my_stuff>()\" to \"init()\" before compiling and\n",
      "  executing. This way each cell can create its own \"init_...()\" and have it called\n",
      "  at every cell execution.\n",
      "\n",
      "Special non-Go commands: \n",
      "\n",
      "- \"%main\" or \"%%\": Marks the lines as follows to be wrapped in a \"func main() {...}\" during \n",
      "  execution. A shortcut to quickly execute code. It also automatically includes \"flag.Parse()\"\n",
      "  as the very first statement.\n",
      "- \"%args\": Sets arguments to be passed when executing the Go code. This allows one to\n",
      "  use flags as a normal program.\n",
      "- \"%autoget\" and \"%noautoget\": Default is \"%autoget\", which automatically does \"go get\" for\n",
      "  packages not yet available.\n",
      "- \"%reset\": clears all memorized declarations (imports, functions, variables, types and \n",
      "  constants).\n",
      "- \"%with_inputs\": will prompt for inputs for the next shell command. Use this if\n",
      "  the next shell command (\"!\") you execute reads the stdin. Jupyter will require\n",
      "  you to enter one last value after the shell script executes.\n",
      "- \"%with_password\": will prompt for a password passed to the next shell command.\n",
      "  Do this is if your next shell command requires a password.\n",
      "\n",
      "Executing shell commands:\n",
      "\n",
      "- \"!<shell_cmd>\": executes the given command on a new shell. It makes it easy to run\n",
      "  commands on the kernels box, for instance to install requirements, or quickly\n",
      "  check contents of directories or files. Lines ending in \"\\\" are continued on\n",
      "  the next line -- so multi-line commands can be entered. But each command is\n",
      "  executed in its own shell, that is, variables and state is not carried over.\n",
      "- \"!*<shell_cmd>\": same as \"!<shell_cmd>\" except it first changes directory to\n",
      "  the temporary directory used to compile the go code -- the latest execution\n",
      "  is always saved in the file \"main.go\". It's also where the \"go.mod\" file for\n",
      "  the notebook is created and maintained. Useful for manipulating \"go.mod\",\n",
      "  for instance to get a package from some specific version, something \n",
      "  like \"!*go get github.com/my/package@v3\".\n"
     ]
    }
   ],
   "source": [
    "%help"
   ]
  }
 ],
 "metadata": {
  "kernelspec": {
   "display_name": "Go (gonb)",
   "language": "go",
   "name": "gonb"
  },
  "language_info": {
   "codemirror_mode": "",
   "file_extension": ".go",
   "mimetype": "",
   "name": "go",
   "nbconvert_exporter": "",
   "pygments_lexer": "",
   "version": "go1.20"
  }
 },
 "nbformat": 4,
 "nbformat_minor": 5
}

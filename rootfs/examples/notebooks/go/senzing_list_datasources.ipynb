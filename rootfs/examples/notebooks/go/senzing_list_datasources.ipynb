{
 "cells": [
  {
   "attachments": {},
   "cell_type": "markdown",
   "id": "ed864bf9-c2eb-409b-aa7a-0981ae8a9e1a",
   "metadata": {},
   "source": [
    "# List DataSources\n",
    "\n",
    "These instructions list the active datasources."
   ]
  },
  {
   "cell_type": "markdown",
   "id": "029ee6a9-5925-4f45-b06b-564308e3b485",
   "metadata": {},
   "source": [
    "## Prepare Go enviroment"
   ]
  },
  {
   "cell_type": "markdown",
   "id": "a954a605-4e27-4824-b8fa-0a9c5be389f3",
   "metadata": {},
   "source": [
    "Define global imports, types, variables, and functions."
   ]
  },
  {
   "cell_type": "code",
   "execution_count": null,
   "id": "c2793d3b-5476-416a-825f-79a4ebc29a4b",
   "metadata": {},
   "outputs": [],
   "source": [
    "import (\n",
    "\t\"google.golang.org/grpc\"\n",
    "\t\"google.golang.org/grpc/credentials/insecure\"\n",
    "    \"github.com/senzing-garage/sz-sdk-go-grpc/szabstractfactory\"\n",
    "    \"github.com/senzing-garage/sz-sdk-go/senzing\"    \n",
    ")\n",
    "\n",
    "var (\n",
    "    ctx = context.TODO()\n",
    "\tgrpcAddress    = \"localhost:8261\"\n",
    ")    "
   ]
  },
  {
   "cell_type": "markdown",
   "id": "40ff2c2b-291d-4006-8dbc-5b9a67154d0f",
   "metadata": {},
   "source": [
    "Create a function for testing error conditions."
   ]
  },
  {
   "cell_type": "code",
   "execution_count": null,
   "id": "3f98c8f9-2859-4652-bcd0-a21eba431af8",
   "metadata": {},
   "outputs": [],
   "source": [
    "func testErr(err error) {\n",
    "    if err != nil {\n",
    "        panic(err)\n",
    "    }\n",
    "}"
   ]
  },
  {
   "cell_type": "markdown",
   "id": "cedf89e5-c276-4438-9f78-f0126af73476",
   "metadata": {},
   "source": [
    "Create a function to construct a Senzing AbstractFactory."
   ]
  },
  {
   "cell_type": "code",
   "execution_count": null,
   "id": "f3568e8c-fb49-44d3-ba78-cdccc5a2d638",
   "metadata": {},
   "outputs": [],
   "source": [
    "func getSzAbstractFactory() senzing.SzAbstractFactory {\n",
    "    grpcConnection, err := grpc.NewClient(grpcAddress, grpc.WithTransportCredentials(insecure.NewCredentials()))\n",
    "    testErr(err)\n",
    "    return &szabstractfactory.Szabstractfactory{\n",
    "    \tGrpcConnection: grpcConnection,\n",
    "    }    \n",
    "}"
   ]
  },
  {
   "cell_type": "markdown",
   "id": "b43856c5-1406-4893-a93b-fa4b369bb0af",
   "metadata": {},
   "source": [
    "Create functions for getting Senzing objects from the SzAbstractFactory."
   ]
  },
  {
   "cell_type": "code",
   "execution_count": null,
   "id": "a0a8bb65-9ef7-4be2-a5d5-4d7d8bb26ea0",
   "metadata": {},
   "outputs": [],
   "source": [
    "func getSzConfig(ctx context.Context, szAbstractFactory senzing.SzAbstractFactory) senzing.SzConfig {\n",
    "    result, err := szAbstractFactory.CreateConfig(ctx)\n",
    "    testErr(err)\n",
    "    return result\n",
    "}\n",
    "\n",
    "func getSzConfigManager(ctx context.Context, szAbstractFactory senzing.SzAbstractFactory) senzing.SzConfigManager {\n",
    "    result, err := szAbstractFactory.CreateConfigManager(ctx)\n",
    "    testErr(err)\n",
    "    return result\n",
    "}"
   ]
  },
  {
   "cell_type": "markdown",
   "id": "185e8a0f-e414-4ef0-b26e-26ee2a64456b",
   "metadata": {},
   "source": [
    "Create a function to pretty print JSON."
   ]
  },
  {
   "cell_type": "code",
   "execution_count": null,
   "id": "8c4061b5-6e17-444e-91fe-44d32e5bbbec",
   "metadata": {},
   "outputs": [],
   "source": [
    "func prettyJSON(str string) (string, error) {\n",
    "    var prettyJSON bytes.Buffer\n",
    "    if err := json.Indent(&prettyJSON, []byte(str), \"\", \"    \"); err != nil {\n",
    "        return \"\", err\n",
    "    }\n",
    "    return prettyJSON.String(), nil\n",
    "}\n"
   ]
  },
  {
   "cell_type": "markdown",
   "id": "15e11d45-d174-4290-bfa5-ba28d5e96552",
   "metadata": {},
   "source": [
    "## Find and print the active datasources"
   ]
  },
  {
   "cell_type": "markdown",
   "id": "09b88a43-b5a7-48b0-afe9-e757ef1bca87",
   "metadata": {},
   "source": [
    "Create an [abstract factory] for accessing Senzing via gRPC.\n",
    "\n",
    "[abstract factory]: https://en.wikipedia.org/wiki/Abstract_factory_pattern"
   ]
  },
  {
   "cell_type": "code",
   "execution_count": null,
   "id": "e24fb162-be23-4ec7-86d1-65453d535550",
   "metadata": {},
   "outputs": [],
   "source": [
    "var szAbstractFactory = getSzAbstractFactory()"
   ]
  },
  {
   "cell_type": "markdown",
   "id": "385ea00f-92a9-4f90-a957-5c148acbdb77",
   "metadata": {},
   "source": [
    "Using the abstract factory, create Senzing objects.\n",
    "**Note:** This implementation is a little awkward, but it is needed to make global variables using the [gonb] Jupyter Kernel.\n",
    "Normally it would be something like:\n",
    "\n",
    "```go\n",
    "szConfig, err := szAbstractFactory.CreateConfig(ctx)\n",
    "```\n",
    "\n",
    "[gonb]: https://github.com/janpfeifer/gonb"
   ]
  },
  {
   "cell_type": "code",
   "execution_count": null,
   "id": "317997b0-d7fb-431a-ad40-8bede6439633",
   "metadata": {},
   "outputs": [],
   "source": [
    "var szConfig = getSzConfig(ctx, szAbstractFactory)\n",
    "var szConfigManager = getSzConfigManager(ctx, szAbstractFactory)"
   ]
  },
  {
   "cell_type": "markdown",
   "id": "9ea0deba-8ed6-45e4-85a2-7df083bd724f",
   "metadata": {},
   "source": [
    "Get the default configuration and pretty print the datasources."
   ]
  },
  {
   "cell_type": "code",
   "execution_count": null,
   "id": "178f794a-b19c-46f0-94cc-215ffea76aca",
   "metadata": {},
   "outputs": [],
   "source": [
    "%%\n",
    "ctx := context.TODO()\n",
    "\n",
    "defaultConfigID, err := szConfigManager.GetDefaultConfigID(ctx)\n",
    "testErr(err)\n",
    "\n",
    "configDefinition, err := szConfigManager.GetConfig(ctx, defaultConfigID)\n",
    "testErr(err)\n",
    "\n",
    "configHandle, err := szConfig.ImportConfig(ctx, configDefinition)\n",
    "testErr(err)\n",
    "\n",
    "dataSources, err := szConfig.GetDataSources(ctx, configHandle)\n",
    "testErr(err)\n",
    "\n",
    "dataSourcesPretty, err := prettyJSON(dataSources)\n",
    "testErr(err)\n",
    "\n",
    "fmt.Println(dataSourcesPretty)"
   ]
  }
 ],
 "metadata": {
  "kernelspec": {
   "display_name": "Go (gonb)",
   "language": "go",
   "name": "gonb"
  },
  "language_info": {
   "codemirror_mode": "",
   "file_extension": ".go",
   "mimetype": "",
   "name": "go",
   "nbconvert_exporter": "",
   "pygments_lexer": "",
   "version": "go1.23.3"
  }
 },
 "nbformat": 4,
 "nbformat_minor": 5
}

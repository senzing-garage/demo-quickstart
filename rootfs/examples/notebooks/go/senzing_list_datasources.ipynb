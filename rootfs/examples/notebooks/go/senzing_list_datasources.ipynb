{
 "cells": [
  {
   "attachments": {},
   "cell_type": "markdown",
   "id": "ed864bf9-c2eb-409b-aa7a-0981ae8a9e1a",
   "metadata": {},
   "source": [
    "# List DataSources\n",
    "\n",
    "These instructions list the active datasources."
   ]
  },
  {
   "cell_type": "markdown",
   "id": "029ee6a9-5925-4f45-b06b-564308e3b485",
   "metadata": {},
   "source": [
    "## Prepare Go enviroment"
   ]
  },
  {
   "cell_type": "markdown",
   "id": "a954a605-4e27-4824-b8fa-0a9c5be389f3",
   "metadata": {},
   "source": [
    "Define global imports, types, and variables."
   ]
  },
  {
   "cell_type": "code",
   "execution_count": null,
   "id": "c2793d3b-5476-416a-825f-79a4ebc29a4b",
   "metadata": {},
   "outputs": [],
   "source": [
    "import (\n",
    "\t\"google.golang.org/grpc\"\n",
    "\t\"google.golang.org/grpc/credentials/insecure\"\n",
    "    \"github.com/senzing-garage/sz-sdk-go-grpc/szabstractfactory\"\n",
    "    \"github.com/senzing-garage/sz-sdk-go/senzing\"    \n",
    ")\n",
    "\n",
    "var (\n",
    "    ctx = context.TODO()\n",
    "\tgrpcAddress    = \"localhost:8261\"\n",
    ")    "
   ]
  },
  {
   "cell_type": "markdown",
   "id": "5c874419-b35b-4274-ba9d-a69a552d4bd0",
   "metadata": {},
   "source": [
    "## Define functions"
   ]
  },
  {
   "cell_type": "markdown",
   "id": "40ff2c2b-291d-4006-8dbc-5b9a67154d0f",
   "metadata": {},
   "source": [
    "Create a function for testing error conditions."
   ]
  },
  {
   "cell_type": "code",
   "execution_count": null,
   "id": "3f98c8f9-2859-4652-bcd0-a21eba431af8",
   "metadata": {},
   "outputs": [],
   "source": [
    "func testErr(err error) {\n",
    "    if err != nil {\n",
    "        panic(err)\n",
    "    }\n",
    "}"
   ]
  },
  {
   "cell_type": "markdown",
   "id": "185e8a0f-e414-4ef0-b26e-26ee2a64456b",
   "metadata": {},
   "source": [
    "Create a function to pretty print JSON."
   ]
  },
  {
   "cell_type": "code",
   "execution_count": null,
   "id": "8c4061b5-6e17-444e-91fe-44d32e5bbbec",
   "metadata": {},
   "outputs": [],
   "source": [
    "func asPrettyJSON(str string) string {\n",
    "\tvar prettyJSON bytes.Buffer\n",
    "\tif err := json.Indent(&prettyJSON, []byte(str), \"\", \"    \"); err != nil {\n",
    "\t\treturn str\n",
    "\t}\n",
    "\treturn prettyJSON.String()\n",
    "}"
   ]
  },
  {
   "cell_type": "markdown",
   "id": "15e11d45-d174-4290-bfa5-ba28d5e96552",
   "metadata": {},
   "source": [
    "## Main"
   ]
  },
  {
   "cell_type": "markdown",
   "id": "9ea0deba-8ed6-45e4-85a2-7df083bd724f",
   "metadata": {},
   "source": [
    "Get the default configuration and pretty print the datasources."
   ]
  },
  {
   "cell_type": "code",
   "execution_count": null,
   "id": "178f794a-b19c-46f0-94cc-215ffea76aca",
   "metadata": {},
   "outputs": [],
   "source": [
    "%%\n",
    "\n",
    "// Create a Senzing AbstractFactory.\n",
    "\n",
    "grpcConnection, err := grpc.NewClient(grpcAddress, grpc.WithTransportCredentials(insecure.NewCredentials()))\n",
    "testErr(err)\n",
    "szAbstractFactory := &szabstractfactory.Szabstractfactory{\n",
    "    GrpcConnection: grpcConnection,\n",
    "}  \n",
    "\n",
    "// Create Senzing objects.\n",
    "\n",
    "szConfig, err := szAbstractFactory.CreateConfig(ctx)\n",
    "testErr(err)\n",
    "\n",
    "szConfigManager, err := szAbstractFactory.CreateConfigManager(ctx)\n",
    "testErr(err)\n",
    "\n",
    "// Get Default configuration.\n",
    "\n",
    "defaultConfigID, err := szConfigManager.GetDefaultConfigID(ctx)\n",
    "testErr(err)\n",
    "\n",
    "configDefinition, err := szConfigManager.GetConfig(ctx, defaultConfigID)\n",
    "testErr(err)\n",
    "\n",
    "configHandle, err := szConfig.ImportConfig(ctx, configDefinition)\n",
    "testErr(err)\n",
    "\n",
    "// Get datasources from Senzing configuration.\n",
    "\n",
    "dataSources, err := szConfig.GetDataSources(ctx, configHandle)\n",
    "testErr(err)\n",
    "\n",
    "fmt.Println(asPrettyJSON(dataSources))"
   ]
  }
 ],
 "metadata": {
  "kernelspec": {
   "display_name": "Go (gonb)",
   "language": "go",
   "name": "gonb"
  },
  "language_info": {
   "codemirror_mode": "",
   "file_extension": ".go",
   "mimetype": "",
   "name": "go",
   "nbconvert_exporter": "",
   "pygments_lexer": "",
   "version": "go1.23.2"
  }
 },
 "nbformat": 4,
 "nbformat_minor": 5
}

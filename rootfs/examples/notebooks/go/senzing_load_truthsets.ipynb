{
 "cells": [
  {
   "cell_type": "markdown",
   "id": "ed864bf9-c2eb-409b-aa7a-0981ae8a9e1a",
   "metadata": {},
   "source": [
    "# Load Senzing truth-sets\n",
    "\n",
    "These instructions load the [Senzing truth-sets] into the Senzing engine.\n",
    "\n",
    "In this exercise:\n",
    "\n",
    "1. [Senzing truth-sets] are downloaded from the internet.\n",
    "1. Data source names are extracted from the downloaded data.\n",
    "1. The data source names are added to the Senzing configuration.\n",
    "1. Records from the downloaded data are added to Senzing.\n",
    "1. Example queries are demonstrated.\n",
    "\n",
    "**Warning**:\n",
    "Remember that the notebooks are not permanent when using the Playground docker container. \n",
    "You can save a notebook to your workstation by selecting <b>File</b> > <b>Download</b> in Jupyter Lab.\n",
    "\n",
    "[Senzing truth-sets]: https://github.com/Senzing/truth-sets"
   ]
  },
  {
   "cell_type": "markdown",
   "id": "8a28a8ad-9db4-4841-82db-655bc01258b3",
   "metadata": {},
   "source": [
    "## Prepare Go enviroment"
   ]
  },
  {
   "cell_type": "markdown",
   "id": "a954a605-4e27-4824-b8fa-0a9c5be389f3",
   "metadata": {},
   "source": [
    "Define global imports, types, and variables."
   ]
  },
  {
   "cell_type": "code",
   "execution_count": null,
   "id": "c2793d3b-5476-416a-825f-79a4ebc29a4b",
   "metadata": {},
   "outputs": [],
   "source": [
    "import (\n",
    "\t\"google.golang.org/grpc\"\n",
    "\t\"google.golang.org/grpc/credentials/insecure\"\n",
    "    \"github.com/senzing-garage/sz-sdk-go-grpc/szabstractfactory\"\n",
    "    \"github.com/senzing-garage/sz-sdk-go/senzing\"\n",
    ")\n",
    "\n",
    "type DataSourceKey struct {\n",
    "    Data_Source string\n",
    "}\n",
    "\n",
    "type Record struct {\n",
    "    Data_Source string\n",
    "    Record_ID   string\n",
    "}\n",
    "\n",
    "var (\n",
    "    ctx = context.TODO()\n",
    "    err error\n",
    "\tgrpcAddress = \"localhost:8261\"\n",
    "    jsonDataSource DataSourceKey\n",
    "    jsonRecord Record\n",
    "    homePath = \"./\"\n",
    "    szConfig senzing.SzConfig\n",
    "    truthSetURLPrefix = \"https://raw.githubusercontent.com/Senzing/truth-sets/refs/heads/main/truthsets/demo/\"\n",
    "    truthSetFileNames = []string{\"customers.json\", \"reference.json\", \"watchlist.json\"}\n",
    ")"
   ]
  },
  {
   "cell_type": "markdown",
   "id": "ba138b36-d7c2-4679-80cf-e2bcf337a0ea",
   "metadata": {},
   "source": [
    "## Define functions"
   ]
  },
  {
   "cell_type": "markdown",
   "id": "aea8c8b1-37bd-4a57-88aa-80a4831d8edc",
   "metadata": {},
   "source": [
    "Create a function for testing error conditions."
   ]
  },
  {
   "cell_type": "code",
   "execution_count": null,
   "id": "408848dd-5143-424d-bba5-d3174d201fe8",
   "metadata": {},
   "outputs": [],
   "source": [
    "func testErr(err error) {\n",
    "    if err != nil {\n",
    "        panic(err)\n",
    "    }\n",
    "}"
   ]
  },
  {
   "cell_type": "markdown",
   "id": "23722b20-5ac9-44b8-9956-215da7e82839",
   "metadata": {},
   "source": [
    "Create a function for getting an SzAbstractFactory that talks over gRPC."
   ]
  },
  {
   "cell_type": "code",
   "execution_count": null,
   "id": "ceb65bc4-349f-4a1d-ad79-4de4dc8a608c",
   "metadata": {},
   "outputs": [],
   "source": [
    "func getSzAbstractFactory() senzing.SzAbstractFactory {\n",
    "    grpcConnection, err := grpc.NewClient(grpcAddress, grpc.WithTransportCredentials(insecure.NewCredentials()))\n",
    "    testErr(err)\n",
    "    return &szabstractfactory.Szabstractfactory{\n",
    "    \tGrpcConnection: grpcConnection,\n",
    "    }\n",
    "}"
   ]
  },
  {
   "cell_type": "markdown",
   "id": "70a1d1bb-0b64-4458-a737-9573772839d2",
   "metadata": {},
   "source": [
    " Create a function for downloading file via URL."
   ]
  },
  {
   "cell_type": "code",
   "execution_count": null,
   "id": "e401b3a3-f40b-4403-997a-4f28c0fdaba5",
   "metadata": {},
   "outputs": [],
   "source": [
    "func downloadFile(url string, filepath string) error {\n",
    "\toutputFile, err := os.Create(filepath)\n",
    "\tif err != nil {\n",
    "\t\treturn err\n",
    "\t}\n",
    "\tdefer outputFile.Close()\n",
    "\n",
    "\tresponse, err := http.Get(url)\n",
    "\tif err != nil {\n",
    "\t\treturn err\n",
    "\t}\n",
    "\tdefer response.Body.Close()\n",
    "\n",
    "\t_, err = io.Copy(outputFile, response.Body)\n",
    "\tif err != nil {\n",
    "\t\treturn err\n",
    "\t}\n",
    "\n",
    "\treturn nil\n",
    "}"
   ]
  },
  {
   "cell_type": "markdown",
   "id": "7957728f-b2f7-4bab-bdbf-7bfc3198824a",
   "metadata": {},
   "source": [
    "Create a function for extracting \"DATA_SOURCE\" values from a file of JSON lines."
   ]
  },
  {
   "cell_type": "code",
   "execution_count": null,
   "id": "953b633e-15ad-47d8-91b6-bb6f8e3b2308",
   "metadata": {},
   "outputs": [],
   "source": [
    "func extractDataSources(filePath string) []string {\n",
    "\tresult := []string{}\n",
    "\tfile, err := os.Open(filePath)\n",
    "\tif err != nil {\n",
    "\t\tpanic(err)\n",
    "\t}\n",
    "\tdefer file.Close()\n",
    "\n",
    "\tscanner := bufio.NewScanner(file)\n",
    "\tfor scanner.Scan() {\n",
    "\t\tline := scanner.Bytes()\n",
    "\t\terr := json.Unmarshal(line, &jsonDataSource)\n",
    "\t\ttestErr(err)\n",
    "\t\tif !slices.Contains(result, jsonDataSource.Data_Source) {\n",
    "\t\t\tresult = append(result, jsonDataSource.Data_Source)\n",
    "\t\t}\n",
    "\t}\n",
    "\n",
    "\tif err := scanner.Err(); err != nil {\n",
    "\t\tlog.Fatal(err)\n",
    "\t}\n",
    "\treturn result\n",
    "}"
   ]
  },
  {
   "cell_type": "markdown",
   "id": "4bc86c4c-ee69-48fd-b6ec-ad73ff526e0c",
   "metadata": {},
   "source": [
    " Create a function for adding datasource values to the Senzing configuration."
   ]
  },
  {
   "cell_type": "code",
   "execution_count": null,
   "id": "9567745f-f10e-4bf6-81c8-6faa9d428f52",
   "metadata": {},
   "outputs": [],
   "source": [
    "func addDatasourcesToSenzingConfig(szAbstractFactory senzing.SzAbstractFactory, dataSourceNames []string) error {\n",
    "\n",
    "\tszConfig, err := szAbstractFactory.CreateConfig(ctx)\n",
    "\tif err != nil {\n",
    "\t\treturn err\n",
    "\t}\n",
    "\n",
    "\tszConfigManager, err := szAbstractFactory.CreateConfigManager(ctx)\n",
    "\tif err != nil {\n",
    "\t\treturn err\n",
    "\t}\n",
    "\n",
    "\toldConfigID, err := szConfigManager.GetDefaultConfigID(ctx)\n",
    "\tif err != nil {\n",
    "\t\treturn err\n",
    "\t}\n",
    "\n",
    "\toldJsonConfig, err := szConfigManager.GetConfig(ctx, oldConfigID)\n",
    "\tif err != nil {\n",
    "\t\treturn err\n",
    "\t}\n",
    "\n",
    "\tconfigHandle, err := szConfig.ImportConfig(ctx, oldJsonConfig)\n",
    "\tif err != nil {\n",
    "\t\treturn err\n",
    "\t}\n",
    "\n",
    "\tfor _, value := range dataSourceNames {\n",
    "\t\t_, err := szConfig.AddDataSource(ctx, configHandle, value)\n",
    "\t\tif err != nil {\n",
    "\t\t\tfmt.Println(err)\n",
    "\t\t}\n",
    "\t}\n",
    "\n",
    "\tnewJsonConfig, err := szConfig.ExportConfig(ctx, configHandle)\n",
    "\tif err != nil {\n",
    "\t\treturn err\n",
    "\t}\n",
    "\n",
    "\tnewConfigID, err := szConfigManager.AddConfig(ctx, newJsonConfig, \"Add TruthSet datasources\")\n",
    "\tif err != nil {\n",
    "\t\treturn err\n",
    "\t}\n",
    "\n",
    "\terr = szConfigManager.ReplaceDefaultConfigID(ctx, oldConfigID, newConfigID)\n",
    "\tif err != nil {\n",
    "\t\treturn err\n",
    "\t}\n",
    "\n",
    "\terr = szAbstractFactory.Reinitialize(ctx, newConfigID)\n",
    "\tif err != nil {\n",
    "\t\treturn err\n",
    "\t}\n",
    "\n",
    "\treturn nil\n",
    "}"
   ]
  },
  {
   "cell_type": "markdown",
   "id": "8750b0b3-e7bf-4204-bf2e-a741828498d1",
   "metadata": {},
   "source": [
    "Create a function for adding records into Senzing."
   ]
  },
  {
   "cell_type": "code",
   "execution_count": null,
   "id": "42a2b782-71b9-417c-b29a-b9d86838ef11",
   "metadata": {},
   "outputs": [],
   "source": [
    "func addRecords(szAbstractFactory senzing.SzAbstractFactory, filepath string) error {\n",
    "    file, err := os.Open(filepath)\n",
    "\tif err != nil {\n",
    "\t\treturn err\n",
    "\t}\n",
    "    defer file.Close()\n",
    "\n",
    "    szEngine, err := szAbstractFactory.CreateEngine(ctx)\n",
    "\tif err != nil {\n",
    "\t\treturn err\n",
    "\t}\n",
    "\n",
    "    scanner := bufio.NewScanner(file)\n",
    "    for scanner.Scan() {\n",
    "        line := scanner.Bytes()\n",
    "        err := json.Unmarshal(line, &jsonRecord)\n",
    "\t    if err != nil {\n",
    "\t\t    return err\n",
    "\t    }\n",
    "        result, err := szEngine.AddRecord(ctx, jsonRecord.Data_Source, jsonRecord.Record_ID, string(line), senzing.SzWithInfo)\n",
    "\t    if err != nil {\n",
    "\t\t    return err\n",
    "\t    }\n",
    "        fmt.Println(result)\n",
    "    }\n",
    "    return nil\n",
    "}"
   ]
  },
  {
   "cell_type": "markdown",
   "id": "dbe8f2d2-4248-40e3-868d-5f2d383d8abc",
   "metadata": {},
   "source": [
    "Create a function to pretty print JSON."
   ]
  },
  {
   "cell_type": "code",
   "execution_count": null,
   "id": "e4bbcc6c-7051-4a60-9574-a8214d71cfe7",
   "metadata": {},
   "outputs": [],
   "source": [
    "func asPrettyJSON(str string) string {\n",
    "\tvar prettyJSON bytes.Buffer\n",
    "\tif err := json.Indent(&prettyJSON, []byte(str), \"\", \"    \"); err != nil {\n",
    "\t\treturn str\n",
    "\t}\n",
    "\treturn prettyJSON.String()\n",
    "}"
   ]
  },
  {
   "cell_type": "markdown",
   "id": "538fecaf-fea7-4098-92f7-0249efcf5945",
   "metadata": {},
   "source": [
    "## Main"
   ]
  },
  {
   "cell_type": "markdown",
   "id": "9ea0deba-8ed6-45e4-85a2-7df083bd724f",
   "metadata": {},
   "source": [
    "Download truth-set files."
   ]
  },
  {
   "cell_type": "code",
   "execution_count": null,
   "id": "178f794a-b19c-46f0-94cc-215ffea76aca",
   "metadata": {},
   "outputs": [],
   "source": [
    "%%\n",
    "for i := 0; i < len(truthSetFileNames); i++ {\n",
    "    url := fmt.Sprintf(\"%s/%s\", truthSetURLPrefix, truthSetFileNames[i])\n",
    "    filepath := fmt.Sprintf(\"%s%s\", homePath, truthSetFileNames[i])\n",
    "    err := downloadFile(url, filepath)\n",
    "    testErr(err)\n",
    "}"
   ]
  },
  {
   "cell_type": "markdown",
   "id": "edb6eba8-f9ec-4838-a11f-afac1a204abb",
   "metadata": {},
   "source": [
    "Create an [abstract factory] for accessing Senzing via gRPC.\n",
    "\n",
    "[abstract factory]: https://en.wikipedia.org/wiki/Abstract_factory_pattern"
   ]
  },
  {
   "cell_type": "code",
   "execution_count": null,
   "id": "f15d4a45-0efb-470e-9ab5-ab4c983c9bb1",
   "metadata": {},
   "outputs": [],
   "source": [
    "var szAbstractFactory = getSzAbstractFactory()"
   ]
  },
  {
   "cell_type": "markdown",
   "id": "4bf3bee2-0286-421e-aa10-3dcff1c8f575",
   "metadata": {},
   "source": [
    "Add datasources to the Senzing configuration."
   ]
  },
  {
   "cell_type": "code",
   "execution_count": null,
   "id": "b0c77e7b-1205-4750-842d-f6c26ea058e8",
   "metadata": {},
   "outputs": [],
   "source": [
    "%%\n",
    "// Discover DATA_SOURCE values in records.\n",
    "\n",
    "dataSources := []string{}\n",
    "for _, value := range truthSetFileNames {\n",
    "    partialDataSources := extractDataSources(fmt.Sprintf(\"%s%s\", homePath, value))\n",
    "    dataSources = append(dataSources, partialDataSources...)\n",
    "}\n",
    "fmt.Printf(\"Found the following DATA_SOURCE values in the data: %v\\n\", dataSources)\n",
    "\n",
    "// Update Senzing configuration.\n",
    "\n",
    "err = addDatasourcesToSenzingConfig(szAbstractFactory, dataSources)"
   ]
  },
  {
   "cell_type": "markdown",
   "id": "9e51c9d5-51b3-476a-86b6-ad05d1ba9295",
   "metadata": {},
   "source": [
    "Add records."
   ]
  },
  {
   "cell_type": "code",
   "execution_count": null,
   "id": "f52449a5-77c0-470a-9c69-0abd8d5ca28d",
   "metadata": {},
   "outputs": [],
   "source": [
    "%%\n",
    "for _, value := range truthSetFileNames {\n",
    "    err = addRecords(szAbstractFactory, fmt.Sprintf(\"%s%s\", homePath, value))\n",
    "}"
   ]
  },
  {
   "cell_type": "markdown",
   "id": "f43f49c9-3aa2-49f4-baa7-68a801f83fc9",
   "metadata": {},
   "source": [
    "## View results"
   ]
  },
  {
   "cell_type": "markdown",
   "id": "ac81b0b0-1c17-450c-b04e-18c4ef54fc24",
   "metadata": {},
   "source": [
    "Retrieve an entity by identifying a record of the entity. Use the `SZ_ENTITY_INCLUDE_RECORD_SUMMARY` flag from among the [get_entity flags].\n",
    "\n",
    "[get_entity flags]: https://senzing.com/docs/4_beta/flags/flags_get_entity/"
   ]
  },
  {
   "cell_type": "code",
   "execution_count": null,
   "id": "a1d50a95-6470-4e5f-944d-41e0662f92cf",
   "metadata": {},
   "outputs": [],
   "source": [
    "%%\n",
    "szEngine, err := szAbstractFactory.CreateEngine(ctx)\n",
    "testErr(err)\n",
    "\n",
    "customer1070Entity, err := szEngine.GetEntityByRecordID(ctx, \"CUSTOMERS\", \"1070\", senzing.SzEntityIncludeRecordSummary)\n",
    "testErr(err)\n",
    "fmt.Println(asPrettyJSON(customer1070Entity))"
   ]
  },
  {
   "cell_type": "markdown",
   "id": "8996fd0d-f607-4a91-84f6-093dd4e88e97",
   "metadata": {},
   "source": [
    "Search for entities by attributes."
   ]
  },
  {
   "cell_type": "code",
   "execution_count": null,
   "id": "1ff90ba8-7054-42a1-a8b1-133b9dd7f81e",
   "metadata": {},
   "outputs": [],
   "source": [
    "%%\n",
    "szEngine, err := szAbstractFactory.CreateEngine(ctx)\n",
    "testErr(err)\n",
    "\n",
    "searchProfile := \"\"\n",
    "searchQuery := `{\n",
    "    \"name_full\": \"robert smith\",\n",
    "    \"date_of_birth\": \"11/12/1978\"\n",
    "}`\n",
    "\n",
    "searchResult, err := szEngine.SearchByAttributes(ctx, searchQuery, searchProfile, senzing.SzSearchByAttributesDefaultFlags)\n",
    "testErr(err)\n",
    "fmt.Println(asPrettyJSON(searchResult))"
   ]
  }
 ],
 "metadata": {
  "kernelspec": {
   "display_name": "Go (gonb)",
   "language": "go",
   "name": "gonb"
  },
  "language_info": {
   "codemirror_mode": "",
   "file_extension": ".go",
   "mimetype": "",
   "name": "go",
   "nbconvert_exporter": "",
   "pygments_lexer": "",
   "version": "go1.23.2"
  }
 },
 "nbformat": 4,
 "nbformat_minor": 5
}

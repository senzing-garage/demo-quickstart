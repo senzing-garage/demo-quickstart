{
 "cells": [
  {
   "cell_type": "markdown",
   "id": "ed864bf9-c2eb-409b-aa7a-0981ae8a9e1a",
   "metadata": {},
   "source": [
    "# Load Senzing truth-sets\n",
    "\n",
    "These instructions load the [Senzing truth-sets] into the Senzing engine.\n",
    "\n",
    "In this exercise:\n",
    "\n",
    "1. [Senzing truth-sets] are downloaded from the internet.\n",
    "1. Data source names are extracted from the downloaded data.\n",
    "1. The data source names are added to the Senzing configuration.\n",
    "1. Records from the downloaded data are added to Senzing.\n",
    "1. Example queries are demonstrated.\n",
    "\n",
    "**Warning**:\n",
    "Remember that the notebooks are not permanent when using the Playground docker container. \n",
    "You can save a notebook to your workstation by selecting <b>File</b> > <b>Download</b> in Jupyter Lab.\n",
    "\n",
    "[Senzing truth-sets]: https://github.com/Senzing/truth-sets"
   ]
  },
  {
   "cell_type": "markdown",
   "id": "8a28a8ad-9db4-4841-82db-655bc01258b3",
   "metadata": {},
   "source": [
    "## Prepare Go enviroment"
   ]
  },
  {
   "cell_type": "markdown",
   "id": "a954a605-4e27-4824-b8fa-0a9c5be389f3",
   "metadata": {},
   "source": [
    "Create a function for creating the Senzing AbstractFactory."
   ]
  },
  {
   "cell_type": "code",
   "execution_count": null,
   "id": "c2793d3b-5476-416a-825f-79a4ebc29a4b",
   "metadata": {},
   "outputs": [],
   "source": [
    "import (\n",
    "\t\"google.golang.org/grpc\"\n",
    "\t\"google.golang.org/grpc/credentials/insecure\"\n",
    "    \"github.com/senzing-garage/sz-sdk-go-grpc/szabstractfactory\"\n",
    "    \"github.com/senzing-garage/sz-sdk-go/senzing\"    \n",
    ")\n",
    "\n",
    "type DataSourceKey struct {\n",
    "    Data_Source      string\n",
    "}\n",
    "\n",
    "var (\n",
    "\tgrpcAddress    = \"localhost:8261\"\n",
    "    jsonDataSource DataSourceKey\n",
    ")   "
   ]
  },
  {
   "cell_type": "code",
   "execution_count": null,
   "id": "408848dd-5143-424d-bba5-d3174d201fe8",
   "metadata": {},
   "outputs": [],
   "source": [
    "func testErr(err error) {\n",
    "    if err != nil {\n",
    "        panic(err)\n",
    "    }\n",
    "}\n"
   ]
  },
  {
   "cell_type": "code",
   "execution_count": null,
   "id": "ceb65bc4-349f-4a1d-ad79-4de4dc8a608c",
   "metadata": {},
   "outputs": [],
   "source": [
    "func getSzAbstractFactory() senzing.SzAbstractFactory {\n",
    "    grpcConnection, err := grpc.NewClient(grpcAddress, grpc.WithTransportCredentials(insecure.NewCredentials()))\n",
    "    testErr(err)\n",
    "    return &szabstractfactory.Szabstractfactory{\n",
    "    \tGrpcConnection: grpcConnection,\n",
    "    }    \n",
    "} "
   ]
  },
  {
   "cell_type": "code",
   "execution_count": null,
   "id": "53c70932-3f43-46ce-adb1-411b5ba4bde1",
   "metadata": {},
   "outputs": [],
   "source": [
    "func getTruthSetFilenames() []string {\n",
    "    return []string{\n",
    "    \"customers.json\",\n",
    "    \"reference.json\",\n",
    "    \"watchlist.json\",\n",
    "    }\n",
    "}    "
   ]
  },
  {
   "cell_type": "code",
   "execution_count": null,
   "id": "e401b3a3-f40b-4403-997a-4f28c0fdaba5",
   "metadata": {},
   "outputs": [],
   "source": [
    "func downloadFile(url string, filepath string) error {\n",
    "\toutputFile, err := os.Create(filepath)\n",
    "\tif err != nil {\n",
    "\t\treturn err\n",
    "\t}\n",
    "\tdefer outputFile.Close()\n",
    "\n",
    "\tresponse, err := http.Get(url)\n",
    "\tif err != nil {\n",
    "\t\treturn err\n",
    "\t}\n",
    "\tdefer response.Body.Close()\n",
    "\n",
    "\t_, err = io.Copy(outputFile, response.Body)\n",
    "\tif err != nil {\n",
    "\t\treturn err\n",
    "\t}\n",
    "\n",
    "\treturn nil\n",
    "}"
   ]
  },
  {
   "cell_type": "markdown",
   "id": "9ea0deba-8ed6-45e4-85a2-7df083bd724f",
   "metadata": {},
   "source": [
    "Set environment variables for downloading truth-set files."
   ]
  },
  {
   "cell_type": "code",
   "execution_count": null,
   "id": "178f794a-b19c-46f0-94cc-215ffea76aca",
   "metadata": {},
   "outputs": [],
   "source": [
    "%%\n",
    "homePath := \"./\"\n",
    "truthSetURLPrefix := \"https://raw.githubusercontent.com/Senzing/truth-sets/refs/heads/main/truthsets/demo/\"\n",
    "truthSetFilenames := getTruthSetFilenames()\n",
    "\n",
    "for i := 0; i < len(truthSetFilenames); i++ {\n",
    "    url := fmt.Sprintf(\"%s/%s\", truthSetURLPrefix, truthSetFilenames[i])\n",
    "    filepath := fmt.Sprintf(\"%s%s\", homePath, truthSetFilenames[i])\n",
    "    err := downloadFile(url, filepath)\n",
    "    testErr(err)\n",
    "}"
   ]
  },
  {
   "cell_type": "markdown",
   "id": "c138b8bc-d300-4f50-82e6-287c0ff99018",
   "metadata": {},
   "source": [
    "Download truth-set files."
   ]
  },
  {
   "cell_type": "code",
   "execution_count": null,
   "id": "680215db-bb4b-4fb8-b948-a8871995e05d",
   "metadata": {},
   "outputs": [],
   "source": []
  },
  {
   "cell_type": "markdown",
   "id": "3a73d9c6-e25a-4617-b20b-1984d387f927",
   "metadata": {},
   "source": [
    "## Identify data sources"
   ]
  },
  {
   "cell_type": "markdown",
   "id": "75cfe9ad-ecaf-4f1a-a380-c8fb54fd00a5",
   "metadata": {},
   "source": [
    "Discover `DATA_SOURCE` values in records."
   ]
  },
  {
   "cell_type": "code",
   "execution_count": null,
   "id": "3e153ec0-f932-4efa-a68b-74d89266fc3b",
   "metadata": {},
   "outputs": [],
   "source": [
    "%%\n",
    "homePath := \"./\"\n",
    "truthSetFilenames := getTruthSetFilenames()\n",
    "\n",
    "result := []string{}\n",
    "\n",
    "for i := 0; i < len(truthSetFilenames); i++ {\n",
    "    filepath := fmt.Sprintf(\"%s%s\", homePath, truthSetFilenames[i])\n",
    "    file, err := os.Open(filepath)\n",
    "    if err != nil {\n",
    "        panic(err)\n",
    "    }\n",
    "    defer file.Close()   \n",
    "\n",
    "\n",
    "    scanner := bufio.NewScanner(file)\n",
    "    for scanner.Scan() {\n",
    "        line := scanner.Bytes()\n",
    "        err := json.Unmarshal(line, &jsonDataSource)  \n",
    "        testErr(err)\n",
    "        fmt.Printf(\">>> %s\\n\", jsonDataSource.Data_Source)\n",
    "        if !slices.Contains(result, jsonDataSource.Data_Source) {\n",
    "            fmt.Printf(\">>>>> Adding: %s\\n\", jsonDataSource.Data_Source)\n",
    "            result = append(result, jsonDataSource.Data_Source) \n",
    "        }        \n",
    "    }\n",
    "\n",
    "\n",
    "    if err := scanner.Err(); err != nil {\n",
    "        log.Fatal(err)\n",
    "    }    \n",
    "}\n",
    "fmt.Printf(\">>>>>X %v\\n\", result)\n"
   ]
  },
  {
   "cell_type": "markdown",
   "id": "847fe215-7295-451d-af26-e02b96785c8c",
   "metadata": {},
   "source": [
    "## Update Senzing configuration"
   ]
  },
  {
   "cell_type": "markdown",
   "id": "edb6eba8-f9ec-4838-a11f-afac1a204abb",
   "metadata": {},
   "source": [
    "Create an [abstract factory] for accessing Senzing via gRPC.\n",
    "\n",
    "[abstract factory]: https://en.wikipedia.org/wiki/Abstract_factory_pattern"
   ]
  },
  {
   "cell_type": "code",
   "execution_count": null,
   "id": "f15d4a45-0efb-470e-9ab5-ab4c983c9bb1",
   "metadata": {},
   "outputs": [],
   "source": []
  },
  {
   "cell_type": "markdown",
   "id": "4bf3bee2-0286-421e-aa10-3dcff1c8f575",
   "metadata": {},
   "source": [
    "Using the abstract factory, create Senzing objects."
   ]
  },
  {
   "cell_type": "code",
   "execution_count": null,
   "id": "e63c8471-baa5-4f58-ba0c-2fcef6f1d86c",
   "metadata": {},
   "outputs": [],
   "source": []
  },
  {
   "cell_type": "markdown",
   "id": "9d66494e-ecc7-4fe2-a563-8aa0e41616c6",
   "metadata": {},
   "source": [
    "Get current Senzing configuration."
   ]
  },
  {
   "cell_type": "code",
   "execution_count": null,
   "id": "8857f25b-d55d-42e4-a6e3-1d7bc35b57c1",
   "metadata": {},
   "outputs": [],
   "source": []
  },
  {
   "cell_type": "markdown",
   "id": "ed24476a-0979-4c6b-9243-d119a7d49f48",
   "metadata": {},
   "source": [
    "Add DataSources to Senzing configuration."
   ]
  },
  {
   "cell_type": "code",
   "execution_count": null,
   "id": "34b8cf1e-ba63-4084-8486-9426cfeecf31",
   "metadata": {},
   "outputs": [],
   "source": []
  },
  {
   "cell_type": "markdown",
   "id": "3bfd934f-1041-405f-9253-db4096385e39",
   "metadata": {},
   "source": [
    "Persist new Senzing configuration."
   ]
  },
  {
   "cell_type": "code",
   "execution_count": null,
   "id": "8beac8c5-3368-4cef-b561-d90b541c3e3a",
   "metadata": {},
   "outputs": [],
   "source": []
  },
  {
   "cell_type": "markdown",
   "id": "2ffc09e3-dc87-4fc0-9b01-63f3d8885661",
   "metadata": {},
   "source": [
    "With the change in Senzing configuration, Senzing objects need to be updated."
   ]
  },
  {
   "cell_type": "code",
   "execution_count": null,
   "id": "9c843e84-cc89-460c-9036-641d78218c6a",
   "metadata": {},
   "outputs": [],
   "source": []
  },
  {
   "cell_type": "markdown",
   "id": "3bca3570-9da5-4aca-b9db-1c01695e97d8",
   "metadata": {},
   "source": [
    "## Add records"
   ]
  },
  {
   "cell_type": "markdown",
   "id": "35ed65ef-5607-4807-9c13-3c1c7907bc6a",
   "metadata": {},
   "source": [
    "Print help for `sz_engine.add_record()` to see parameters."
   ]
  },
  {
   "cell_type": "code",
   "execution_count": null,
   "id": "eaa34d6e-0dfe-4af6-b6d7-f0f219ecc7b4",
   "metadata": {},
   "outputs": [],
   "source": []
  },
  {
   "cell_type": "markdown",
   "id": "3dc91753-7825-4eda-a64b-b1bb2a48f944",
   "metadata": {},
   "source": [
    "Call Senzing repeatedly to add records."
   ]
  },
  {
   "cell_type": "code",
   "execution_count": null,
   "id": "3bbbd3f9-6d35-48e5-9927-eea2805bcc74",
   "metadata": {},
   "outputs": [],
   "source": []
  },
  {
   "cell_type": "markdown",
   "id": "f43f49c9-3aa2-49f4-baa7-68a801f83fc9",
   "metadata": {},
   "source": [
    "## View results"
   ]
  },
  {
   "cell_type": "markdown",
   "id": "ac81b0b0-1c17-450c-b04e-18c4ef54fc24",
   "metadata": {},
   "source": [
    "Retrieve an entity by identifying a record of the entity. Use the `SZ_ENTITY_INCLUDE_RECORD_SUMMARY` flag from among the [get_entity flags].\n",
    "\n",
    "[get_entity flags]: https://senzing.com/docs/4_beta/flags/flags_get_entity/"
   ]
  },
  {
   "cell_type": "code",
   "execution_count": null,
   "id": "a1d50a95-6470-4e5f-944d-41e0662f92cf",
   "metadata": {},
   "outputs": [],
   "source": []
  },
  {
   "cell_type": "markdown",
   "id": "8996fd0d-f607-4a91-84f6-093dd4e88e97",
   "metadata": {},
   "source": [
    "Search for entities by attributes."
   ]
  },
  {
   "cell_type": "code",
   "execution_count": null,
   "id": "1ff90ba8-7054-42a1-a8b1-133b9dd7f81e",
   "metadata": {},
   "outputs": [],
   "source": []
  }
 ],
 "metadata": {
  "kernelspec": {
   "display_name": "Go (gonb)",
   "language": "go",
   "name": "gonb"
  },
  "language_info": {
   "codemirror_mode": "",
   "file_extension": ".go",
   "mimetype": "",
   "name": "go",
   "nbconvert_exporter": "",
   "pygments_lexer": "",
   "version": "go1.23.3"
  }
 },
 "nbformat": 4,
 "nbformat_minor": 5
}

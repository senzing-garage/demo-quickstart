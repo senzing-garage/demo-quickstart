{
 "cells": [
  {
   "cell_type": "markdown",
   "id": "ed864bf9-c2eb-409b-aa7a-0981ae8a9e1a",
   "metadata": {},
   "source": [
    "# Load Senzing truth-sets\n",
    "\n",
    "These instructions load the [Senzing truth-sets] into the Senzing engine.\n",
    "\n",
    "In this exercise:\n",
    "\n",
    "1. [Senzing truth-sets] are downloaded from the internet.\n",
    "1. Data source names are extracted from the downloaded data.\n",
    "1. The data source names are added to the Senzing configuration.\n",
    "1. Records from the downloaded data are added to Senzing.\n",
    "1. Example queries are demonstrated.\n",
    "\n",
    "**Warning**:\n",
    "Remember that the notebooks are not permanent when using the Playground docker container. \n",
    "You can save a notebook to your workstation by selecting <b>File</b> > <b>Download</b> in Jupyter Lab.\n",
    "\n",
    "[Senzing truth-sets]: https://github.com/Senzing/truth-sets"
   ]
  },
  {
   "cell_type": "markdown",
   "id": "8a28a8ad-9db4-4841-82db-655bc01258b3",
   "metadata": {},
   "source": [
    "## Prepare Go enviroment"
   ]
  },
  {
   "cell_type": "markdown",
   "id": "a954a605-4e27-4824-b8fa-0a9c5be389f3",
   "metadata": {},
   "source": [
    "Create a function for creating the Senzing AbstractFactory."
   ]
  },
  {
   "cell_type": "code",
   "execution_count": 1,
   "id": "c2793d3b-5476-416a-825f-79a4ebc29a4b",
   "metadata": {},
   "outputs": [],
   "source": [
    "import (\n",
    "\t\"google.golang.org/grpc\"\n",
    "\t\"google.golang.org/grpc/credentials/insecure\"\n",
    "    \"github.com/senzing-garage/sz-sdk-go-grpc/szabstractfactory\"\n",
    "    \"github.com/senzing-garage/sz-sdk-go/senzing\"    \n",
    ")\n",
    "\n",
    "var (\n",
    "\tgrpcAddress    = \"localhost:8261\"\n",
    ")   "
   ]
  },
  {
   "cell_type": "code",
   "execution_count": 2,
   "id": "408848dd-5143-424d-bba5-d3174d201fe8",
   "metadata": {},
   "outputs": [],
   "source": [
    "func testErr(err error) {\n",
    "    if err != nil {\n",
    "        panic(err)\n",
    "    }\n",
    "}\n"
   ]
  },
  {
   "cell_type": "code",
   "execution_count": 3,
   "id": "ceb65bc4-349f-4a1d-ad79-4de4dc8a608c",
   "metadata": {},
   "outputs": [],
   "source": [
    "func getSzAbstractFactory() senzing.SzAbstractFactory {\n",
    "    grpcConnection, err := grpc.NewClient(grpcAddress, grpc.WithTransportCredentials(insecure.NewCredentials()))\n",
    "    testErr(err)\n",
    "    return &szabstractfactory.Szabstractfactory{\n",
    "    \tGrpcConnection: grpcConnection,\n",
    "    }    \n",
    "} "
   ]
  },
  {
   "cell_type": "code",
   "execution_count": 4,
   "id": "53c70932-3f43-46ce-adb1-411b5ba4bde1",
   "metadata": {},
   "outputs": [],
   "source": [
    "func getTruthSetFilenames() []string {\n",
    "    return []string{\n",
    "    \"customers.json\",\n",
    "    \"reference.json\",\n",
    "    \"watchlist.json\",\n",
    "    }\n",
    "}    "
   ]
  },
  {
   "cell_type": "code",
   "execution_count": 5,
   "id": "e401b3a3-f40b-4403-997a-4f28c0fdaba5",
   "metadata": {},
   "outputs": [],
   "source": [
    "func downloadFile(url string, filepath string) error {\n",
    "\toutputFile, err := os.Create(filepath)\n",
    "\tif err != nil {\n",
    "\t\treturn err\n",
    "\t}\n",
    "\tdefer outputFile.Close()\n",
    "\n",
    "\tresponse, err := http.Get(url)\n",
    "\tif err != nil {\n",
    "\t\treturn err\n",
    "\t}\n",
    "\tdefer response.Body.Close()\n",
    "\n",
    "\t_, err = io.Copy(outputFile, response.Body)\n",
    "\tif err != nil {\n",
    "\t\treturn err\n",
    "\t}\n",
    "\n",
    "\treturn nil\n",
    "}"
   ]
  },
  {
   "cell_type": "markdown",
   "id": "9ea0deba-8ed6-45e4-85a2-7df083bd724f",
   "metadata": {},
   "source": [
    "Set environment variables for downloading truth-set files."
   ]
  },
  {
   "cell_type": "code",
   "execution_count": 6,
   "id": "178f794a-b19c-46f0-94cc-215ffea76aca",
   "metadata": {},
   "outputs": [],
   "source": [
    "%%\n",
    "homePath := \"./\"\n",
    "truthSetURLPrefix := \"https://raw.githubusercontent.com/Senzing/truth-sets/refs/heads/main/truthsets/demo/\"\n",
    "truthSetFilenames := getTruthSetFilenames()\n",
    "\n",
    "for i := 0; i < len(truthSetFilenames); i++ {\n",
    "    url := fmt.Sprintf(\"%s/%s\", truthSetURLPrefix, truthSetFilenames[i])\n",
    "    filepath := fmt.Sprintf(\"%s%s\", homePath, truthSetFilenames[i])\n",
    "    err := downloadFile(url, filepath)\n",
    "    testErr(err)\n",
    "}"
   ]
  },
  {
   "cell_type": "markdown",
   "id": "c138b8bc-d300-4f50-82e6-287c0ff99018",
   "metadata": {},
   "source": [
    "Download truth-set files."
   ]
  },
  {
   "cell_type": "code",
   "execution_count": null,
   "id": "680215db-bb4b-4fb8-b948-a8871995e05d",
   "metadata": {},
   "outputs": [],
   "source": []
  },
  {
   "cell_type": "markdown",
   "id": "3a73d9c6-e25a-4617-b20b-1984d387f927",
   "metadata": {},
   "source": [
    "## Identify data sources"
   ]
  },
  {
   "cell_type": "markdown",
   "id": "75cfe9ad-ecaf-4f1a-a380-c8fb54fd00a5",
   "metadata": {},
   "source": [
    "Discover `DATA_SOURCE` values in records."
   ]
  },
  {
   "cell_type": "code",
   "execution_count": 7,
   "id": "3e153ec0-f932-4efa-a68b-74d89266fc3b",
   "metadata": {},
   "outputs": [
    {
     "name": "stdout",
     "output_type": "stream",
     "text": [
      "{\"DATA_SOURCE\": \"CUSTOMERS\", \"RECORD_ID\": \"1001\", \"RECORD_TYPE\": \"PERSON\", \"PRIMARY_NAME_LAST\": \"Smith\", \"PRIMARY_NAME_FIRST\": \"Robert\", \"DATE_OF_BIRTH\": \"12/11/1978\", \"ADDR_TYPE\": \"MAILING\", \"ADDR_LINE1\": \"123 Main Street, Las Vegas NV 89132\", \"PHONE_TYPE\": \"HOME\", \"PHONE_NUMBER\": \"702-919-1300\", \"EMAIL_ADDRESS\": \"bsmith@work.com\", \"DATE\": \"1/2/18\", \"STATUS\": \"Active\", \"AMOUNT\": \"100\"}\n",
      "{\"DATA_SOURCE\": \"CUSTOMERS\", \"RECORD_ID\": \"1002\", \"RECORD_TYPE\": \"PERSON\", \"PRIMARY_NAME_LAST\": \"Smith\", \"PRIMARY_NAME_FIRST\": \"Bob\", \"DATE_OF_BIRTH\": \"11/12/1978\", \"ADDR_TYPE\": \"HOME\", \"ADDR_LINE1\": \"1515 Adela Lane\", \"ADDR_CITY\": \"Las Vegas\", \"ADDR_STATE\": \"NV\", \"ADDR_POSTAL_CODE\": \"89111\", \"PHONE_TYPE\": \"MOBILE\", \"PHONE_NUMBER\": \"702-919-1300\", \"DATE\": \"3/10/17\", \"STATUS\": \"Inactive\", \"AMOUNT\": \"200\"}\n",
      "{\"DATA_SOURCE\": \"CUSTOMERS\", \"RECORD_ID\": \"1003\", \"RECORD_TYPE\": \"PERSON\", \"PRIMARY_NAME_LAST\": \"Smith\", \"PRIMARY_NAME_FIRST\": \"Bob\", \"PRIMARY_NAME_MIDDLE\": \"J\", \"DATE_OF_BIRTH\": \"12/11/1978\", \"EMAIL_ADDRESS\": \"bsmith@work.com\", \"DATE\": \"4/9/16\", \"STATUS\": \"Inactive\", \"AMOUNT\": \"300\"}\n",
      "{\"DATA_SOURCE\": \"CUSTOMERS\", \"RECORD_ID\": \"1004\", \"RECORD_TYPE\": \"PERSON\", \"PRIMARY_NAME_LAST\": \"Smith\", \"PRIMARY_NAME_FIRST\": \"B\", \"DATE_OF_BIRTH\": \"11/12/1979\", \"ADDR_TYPE\": \"HOME\", \"ADDR_LINE1\": \"1515 Adela Ln\", \"ADDR_CITY\": \"Las Vegas\", \"ADDR_STATE\": \"NV\", \"ADDR_POSTAL_CODE\": \"89132\", \"EMAIL_ADDRESS\": \"bsmith@work.com\", \"DATE\": \"1/5/15\", \"STATUS\": \"Inactive\", \"AMOUNT\": \"400\"}\n",
      "{\"DATA_SOURCE\": \"CUSTOMERS\", \"RECORD_ID\": \"1005\", \"RECORD_TYPE\": \"PERSON\", \"PRIMARY_NAME_LAST\": \"Smith\", \"PRIMARY_NAME_FIRST\": \"Robbie\", \"DRIVERS_LICENSE_NUMBER\": \"112233\", \"DRIVERS_LICENSE_STATE\": \"NV\", \"ADDR_TYPE\": \"MAILING\", \"ADDR_LINE1\": \"123 E Main St\", \"ADDR_CITY\": \"Henderson\", \"ADDR_STATE\": \"NV\", \"ADDR_POSTAL_CODE\": \"89132\", \"DATE\": \"7/16/19\", \"STATUS\": \"Active\", \"AMOUNT\": \"500\"}\n",
      "{\"DATA_SOURCE\": \"CUSTOMERS\", \"RECORD_ID\": \"1009\", \"RECORD_TYPE\": \"PERSON\", \"PRIMARY_NAME_LAST\": \"Kusha\", \"PRIMARY_NAME_FIRST\": \"Edward\", \"DATE_OF_BIRTH\": \"3/1/1970\", \"SSN_NUMBER\": \"294-66-9999\", \"ADDR_TYPE\": \"HOME\", \"ADDR_LINE1\": \"1304 Poppy Hills Dr\", \"ADDR_CITY\": \"Blacklick\", \"ADDR_STATE\": \"OH\", \"ADDR_POSTAL_CODE\": \"43004\", \"EMAIL_ADDRESS\": \"Kusha123@hmail.com\", \"DATE\": \"1/7/18\", \"STATUS\": \"Active\", \"AMOUNT\": \"600\"}\n",
      "{\"DATA_SOURCE\": \"CUSTOMERS\", \"RECORD_ID\": \"1010\", \"RECORD_TYPE\": \"PERSON\", \"PRIMARY_NAME_LAST\": \"Kusha\", \"PRIMARY_NAME_FIRST\": \"Eddie\", \"DATE_OF_BIRTH\": \"Mar 1 1970\", \"ADDR_TYPE\": \"HOME\", \"ADDR_LINE1\": \"1304 Poppy Hills Dr\", \"ADDR_CITY\": \"Blacklick\", \"ADDR_STATE\": \"OHIO\", \"DATE\": \"1/8/16\", \"STATUS\": \"Inactive\", \"AMOUNT\": \"700\"}\n",
      "{\"DATA_SOURCE\": \"CUSTOMERS\", \"RECORD_ID\": \"1011\", \"RECORD_TYPE\": \"PERSON\", \"PRIMARY_NAME_LAST\": \"Knight\", \"PRIMARY_NAME_FIRST\": \"Ed\", \"DATE_OF_BIRTH\": \"3/1/70\", \"ADDR_TYPE\": \"HOME\", \"ADDR_LINE1\": \"1602 Brenville Pl\", \"ADDR_CITY\": \"San Francisco\", \"ADDR_STATE\": \"CA\", \"ADDR_POSTAL_CODE\": \"94105\", \"DATE\": \"10/9/15\", \"STATUS\": \"Terminated\", \"AMOUNT\": \"800\"}\n",
      "{\"DATA_SOURCE\": \"CUSTOMERS\", \"RECORD_ID\": \"1015\", \"RECORD_TYPE\": \"PERSON\", \"PRIMARY_NAME_LAST\": \"Kusha\", \"PRIMARY_NAME_FIRST\": \"Mary \", \"DATE_OF_BIRTH\": \"10/27/76\", \"SSN_NUMBER\": \"293-90-9090\", \"ADDR_TYPE\": \"HOME\", \"ADDR_LINE1\": \"1304 Poppy Hills Dr\", \"ADDR_CITY\": \"Blacklick\", \"ADDR_STATE\": \"OH\", \"ADDR_POSTAL_CODE\": \"43004\", \"PHONE_TYPE\": \"HOME\", \"PHONE_NUMBER\": \"512-353-8633\", \"EMAIL_ADDRESS\": \"Kusha123@hmail.com\", \"DATE\": \"1/10/18\", \"STATUS\": \"Active\", \"AMOUNT\": \"900\"}\n",
      "{\"DATA_SOURCE\": \"CUSTOMERS\", \"RECORD_ID\": \"1016\", \"RECORD_TYPE\": \"PERSON\", \"PRIMARY_NAME_LAST\": \"Kusha\", \"PRIMARY_NAME_FIRST\": \"Marie\", \"DATE_OF_BIRTH\": \"10/27/76\", \"ADDR_TYPE\": \"HOME\", \"ADDR_LINE1\": \"1304 Poppy Hills Dr\", \"ADDR_POSTAL_CODE\": \"43004\", \"DATE\": \"1/11/18\", \"STATUS\": \"Active\", \"AMOUNT\": \"100\"}\n",
      "{\"DATA_SOURCE\": \"CUSTOMERS\", \"RECORD_ID\": \"1017\", \"RECORD_TYPE\": \"PERSON\", \"PRIMARY_NAME_LAST\": \"Kusha\", \"PRIMARY_NAME_FIRST\": \"Mary \", \"SSN_NUMBER\": \"293-90-9090\", \"DATE\": \"1/12/18\", \"STATUS\": \"Active\", \"AMOUNT\": \"200\"}\n",
      "{\"DATA_SOURCE\": \"CUSTOMERS\", \"RECORD_ID\": \"1018\", \"RECORD_TYPE\": \"PERSON\", \"PRIMARY_NAME_LAST\": \"Kusha\", \"PRIMARY_NAME_FIRST\": \"Marie\", \"DATE_OF_BIRTH\": \"10/28/76\", \"PHONE_TYPE\": \"HOME\", \"PHONE_NUMBER\": \"512-353-8633\", \"DATE\": \"1/13/18\", \"STATUS\": \"Active\", \"AMOUNT\": \"300\"}\n",
      "{\"DATA_SOURCE\": \"CUSTOMERS\", \"RECORD_ID\": \"1019\", \"RECORD_TYPE\": \"PERSON\", \"PRIMARY_NAME_LAST\": \"Kusha\", \"PRIMARY_NAME_FIRST\": \"Mark\", \"DATE_OF_BIRTH\": \"9/28/97\", \"ADDR_TYPE\": \"HOME\", \"ADDR_LINE1\": \"1304 Poppy Hills Dr\", \"ADDR_CITY\": \"Blacklick\", \"ADDR_STATE\": \"OH\", \"ADDR_POSTAL_CODE\": \"43004\", \"EMAIL_ADDRESS\": \"Kusha123@hmail.com\", \"DATE\": \"1/14/18\", \"STATUS\": \"Active\", \"AMOUNT\": \"400\"}\n",
      "{\"DATA_SOURCE\": \"CUSTOMERS\", \"RECORD_ID\": \"1020\", \"RECORD_TYPE\": \"PERSON\", \"PRIMARY_NAME_LAST\": \"Kusha\", \"PRIMARY_NAME_FIRST\": \"Marsha\", \"DATE_OF_BIRTH\": \"9/28/97\", \"SSN_NUMBER\": \"201-77-7719\", \"ADDR_TYPE\": \"HOME\", \"ADDR_LINE1\": \"1304 Poppy Hills Dr\", \"ADDR_CITY\": \"Blacklick\", \"ADDR_STATE\": \"OH\", \"ADDR_POSTAL_CODE\": \"43004\", \"EMAIL_ADDRESS\": \"Kusha123@hmail.com\", \"DATE\": \"1/15/18\", \"STATUS\": \"Active\", \"AMOUNT\": \"500\"}\n",
      "{\"DATA_SOURCE\": \"CUSTOMERS\", \"RECORD_ID\": \"1022\", \"RECORD_TYPE\": \"PERSON\", \"PRIMARY_NAME_LAST\": \"Antoun\", \"PRIMARY_NAME_FIRST\": \"Mohamed\", \"DATE_OF_BIRTH\": \"1/7/80\", \"DATE\": \"1/16/18\", \"STATUS\": \"Active\", \"AMOUNT\": \"600\"}\n",
      "{\"DATA_SOURCE\": \"CUSTOMERS\", \"RECORD_ID\": \"1023\", \"RECORD_TYPE\": \"PERSON\", \"PRIMARY_NAME_LAST\": \"Antoun\", \"PRIMARY_NAME_FIRST\": \"Muhammed\", \"DATE_OF_BIRTH\": \"1/7/80\", \"DATE\": \"1/17/18\", \"STATUS\": \"Active\", \"AMOUNT\": \"700\"}\n",
      "{\"DATA_SOURCE\": \"CUSTOMERS\", \"RECORD_ID\": \"1025\", \"RECORD_TYPE\": \"PERSON\", \"PRIMARY_NAME_LAST\": \"Anderson\", \"PRIMARY_NAME_FIRST\": \"Darla\", \"DATE_OF_BIRTH\": \"1/7/80\", \"DATE\": \"1/18/18\", \"STATUS\": \"Active\", \"AMOUNT\": \"800\"}\n",
      "{\"DATA_SOURCE\": \"CUSTOMERS\", \"RECORD_ID\": \"1026\", \"RECORD_TYPE\": \"PERSON\", \"PRIMARY_NAME_LAST\": \"Anderson\", \"PRIMARY_NAME_FIRST\": \"Darlene\", \"DATE_OF_BIRTH\": \"1/7/80\", \"DATE\": \"1/19/18\", \"STATUS\": \"Active\", \"AMOUNT\": \"900\"}\n",
      "{\"DATA_SOURCE\": \"CUSTOMERS\", \"RECORD_ID\": \"1028\", \"RECORD_TYPE\": \"PERSON\", \"PRIMARY_NAME_LAST\": \"Dobbins Jr\", \"PRIMARY_NAME_FIRST\": \"David\", \"ADDR_TYPE\": \"MAILING\", \"ADDR_LINE1\": \"1450 N City Rd Suite 900\", \"ADDR_CITY\": \"Arlington\", \"ADDR_STATE\": \"VA\", \"ADDR_POSTAL_CODE\": \"23208\", \"DATE\": \"1/20/18\", \"STATUS\": \"Active\", \"AMOUNT\": \"100\"}\n",
      "{\"DATA_SOURCE\": \"CUSTOMERS\", \"RECORD_ID\": \"1030\", \"RECORD_TYPE\": \"PERSON\", \"PRIMARY_NAME_LAST\": \"Garski\", \"PRIMARY_NAME_FIRST\": \"Luis\", \"DATE_OF_BIRTH\": \"3/25/89\", \"ADDR_TYPE\": \"MAILING\", \"ADDR_LINE1\": \"445 Overpass Rd \", \"ADDR_CITY\": \"San Ramon \", \"ADDR_STATE\": \"CA \", \"ADDR_POSTAL_CODE\": \"927230000\", \"DATE\": \"1/21/18\", \"STATUS\": \"Active\", \"AMOUNT\": \"200\"}\n",
      "{\"DATA_SOURCE\": \"CUSTOMERS\", \"RECORD_ID\": \"1031\", \"RECORD_TYPE\": \"PERSON\", \"PRIMARY_NAME_LAST\": \"Garsky\", \"PRIMARY_NAME_FIRST\": \"Louis\", \"DATE_OF_BIRTH\": \"3/25/89\", \"ADDR_TYPE\": \"HOME\", \"ADDR_LINE1\": \"445 Overpass Rd San Ramon\", \"DATE\": \"1/22/18\", \"STATUS\": \"Active\", \"AMOUNT\": \"300\"}\n",
      "{\"DATA_SOURCE\": \"CUSTOMERS\", \"RECORD_ID\": \"1032\", \"RECORD_TYPE\": \"PERSON\", \"PRIMARY_NAME_LAST\": \"Shaw\", \"PRIMARY_NAME_FIRST\": \"Daniella\", \"DATE_OF_BIRTH\": \"20/8/1991\", \"PHONE_TYPE\": \"HOME\", \"PHONE_NUMBER\": \"202-321-3212\", \"DATE\": \"1/23/18\", \"STATUS\": \"Active\", \"AMOUNT\": \"400\"}\n",
      "{\"DATA_SOURCE\": \"CUSTOMERS\", \"RECORD_ID\": \"1033\", \"RECORD_TYPE\": \"PERSON\", \"PRIMARY_NAME_LAST\": \"Daniella\", \"PRIMARY_NAME_FIRST\": \"Shaw\", \"DATE_OF_BIRTH\": \"8/20/91\", \"ADDR_TYPE\": \"HOME\", \"ADDR_LINE1\": \"80 Delaware Ave SE Washington DC 40040\", \"PHONE_TYPE\": \"HOME\", \"PHONE_NUMBER\": \"321-3212\", \"DATE\": \"1/24/18\", \"STATUS\": \"Active\", \"AMOUNT\": \"500\"}\n",
      "{\"DATA_SOURCE\": \"CUSTOMERS\", \"RECORD_ID\": \"1034\", \"RECORD_TYPE\": \"PERSON\", \"PRIMARY_NAME_LAST\": \"Medina Sentosa\", \"PRIMARY_NAME_FIRST\": \"Maria Luis\", \"DATE_OF_BIRTH\": \"11/21/73\", \"ADDR_TYPE\": \"HOME\", \"ADDR_LINE1\": \"9304 W. 15th St La Blanca, FL 60527\", \"EMAIL_ADDRESS\": \"Maria Sentosa<msentosa@fmail.com>\", \"DATE\": \"1/25/18\", \"STATUS\": \"Active\", \"AMOUNT\": \"600\"}\n",
      "{\"DATA_SOURCE\": \"CUSTOMERS\", \"RECORD_ID\": \"1035\", \"RECORD_TYPE\": \"PERSON\", \"PRIMARY_NAME_LAST\": \"M Sentosa\", \"PRIMARY_NAME_FIRST\": \"Maria Luis\", \"DATE_OF_BIRTH\": \"11/12/73\", \"ADDR_TYPE\": \"HOME\", \"ADDR_LINE1\": \"9304 W. 15th St La Blanca, FL 60527\", \"DATE\": \"1/26/18\", \"STATUS\": \"Active\", \"AMOUNT\": \"700\"}\n",
      "{\"DATA_SOURCE\": \"CUSTOMERS\", \"RECORD_ID\": \"1036\", \"RECORD_TYPE\": \"PERSON\", \"PRIMARY_NAME_LAST\": \"Sentosa\", \"PRIMARY_NAME_FIRST\": \"Maria Luis\", \"DATE_OF_BIRTH\": \"11/12/73\", \"ADDR_TYPE\": \"HOME\", \"ADDR_LINE1\": \"9304 W. 15th St La Blanca, FL 60527\", \"DATE\": \"1/27/18\", \"STATUS\": \"Active\", \"AMOUNT\": \"800\"}\n",
      "{\"DATA_SOURCE\": \"CUSTOMERS\", \"RECORD_ID\": \"1039\", \"RECORD_TYPE\": \"PERSON\", \"PRIMARY_NAME_LAST\": \"Smith\", \"PRIMARY_NAME_FIRST\": \"John\", \"GENDER\": \"M\", \"DATE_OF_BIRTH\": \"10/10/70\", \"ADDR_TYPE\": \"HOME\", \"ADDR_LINE1\": \"3212 W. 32nd St Palm Harbor, FL 60527\", \"DATE\": \"1/28/18\", \"STATUS\": \"Active\", \"AMOUNT\": \"900\"}\n",
      "{\"DATA_SOURCE\": \"CUSTOMERS\", \"RECORD_ID\": \"1040\", \"RECORD_TYPE\": \"PERSON\", \"PRIMARY_NAME_LAST\": \"Smith\", \"PRIMARY_NAME_FIRST\": \"John\", \"DATE_OF_BIRTH\": \"3/15/90\", \"ADDR_TYPE\": \"HOME\", \"ADDR_LINE1\": \"3212 W. 32nd St Palm Harbor, FL 60527\", \"DATE\": \"1/29/18\", \"STATUS\": \"Active\", \"AMOUNT\": \"100\"}\n",
      "{\"DATA_SOURCE\": \"CUSTOMERS\", \"RECORD_ID\": \"1043\", \"RECORD_TYPE\": \"PERSON\", \"PRIMARY_NAME_LAST\": \"Smith\", \"PRIMARY_NAME_FIRST\": \"Patrick\", \"DATE_OF_BIRTH\": \"10/10/70\", \"PASSPORT_NUMBER\": \"10251111\", \"PASSPORT_COUNTRY\": \"US\", \"ADDR_TYPE\": \"HOME\", \"ADDR_LINE1\": \"3212 W. 32nd St Palm Harbor, FL 60527\", \"DATE\": \"1/30/18\", \"STATUS\": \"Active\", \"AMOUNT\": \"200\"}\n",
      "{\"DATA_SOURCE\": \"CUSTOMERS\", \"RECORD_ID\": \"1044\", \"RECORD_TYPE\": \"PERSON\", \"PRIMARY_NAME_LAST\": \"Smith\", \"PRIMARY_NAME_FIRST\": \"Patricia\", \"DATE_OF_BIRTH\": \"3/15/90\", \"PASSPORT_NUMBER\": \"10252222\", \"PASSPORT_COUNTRY\": \"US\", \"ADDR_TYPE\": \"HOME\", \"ADDR_LINE1\": \"3212 W. 32nd St Palm Harbor, FL 60527\", \"DATE\": \"1/31/18\", \"STATUS\": \"Active\", \"AMOUNT\": \"300\"}\n",
      "{\"DATA_SOURCE\": \"CUSTOMERS\", \"RECORD_ID\": \"1045\", \"RECORD_TYPE\": \"PERSON\", \"PRIMARY_NAME_LAST\": \"Smith\", \"PRIMARY_NAME_FIRST\": \"Pat\", \"PASSPORT_NUMBER\": \"10251111\", \"ADDR_TYPE\": \"HOME\", \"ADDR_LINE1\": \"3212 W. 32nd St Palm Harbor, FL 60527\", \"DATE\": \"1/2/18\", \"STATUS\": \"Active\", \"AMOUNT\": \"400\"}\n",
      "{\"DATA_SOURCE\": \"CUSTOMERS\", \"RECORD_ID\": \"1046\", \"RECORD_TYPE\": \"PERSON\", \"PRIMARY_NAME_LAST\": \"Smith\", \"PRIMARY_NAME_FIRST\": \"Pat\", \"PASSPORT_NUMBER\": \"10252222\", \"PASSPORT_COUNTRY\": \"USA\", \"ADDR_TYPE\": \"HOME\", \"ADDR_LINE1\": \"3212 W. 32nd St Palm Harbor, FL 60527\", \"DATE\": \"1/3/18\", \"STATUS\": \"Active\", \"AMOUNT\": \"500\"}\n",
      "{\"DATA_SOURCE\": \"CUSTOMERS\", \"RECORD_ID\": \"1047\", \"RECORD_TYPE\": \"PERSON\", \"PRIMARY_NAME_LAST\": \"Thompson\", \"PRIMARY_NAME_FIRST\": \"Zara\", \"EMAIL_ADDRESS\": \"sthomp45@fmail.com\", \"DATE\": \"1/4/18\", \"STATUS\": \"Active\", \"AMOUNT\": \"600\"}\n",
      "{\"DATA_SOURCE\": \"CUSTOMERS\", \"RECORD_ID\": \"1048\", \"RECORD_TYPE\": \"PERSON\", \"PRIMARY_NAME_LAST\": \"Tompson\", \"PRIMARY_NAME_FIRST\": \"Sarah\", \"EMAIL_ADDRESS\": \"sthomp45@fmail.com\", \"DATE\": \"1/5/18\", \"STATUS\": \"Active\", \"AMOUNT\": \"700\"}\n",
      "{\"DATA_SOURCE\": \"CUSTOMERS\", \"RECORD_ID\": \"1049\", \"RECORD_TYPE\": \"PERSON\", \"PRIMARY_NAME_LAST\": \"Thompson\", \"PRIMARY_NAME_FIRST\": \"Sahra\", \"EMAIL_ADDRESS\": \"sthomp45@fmail.com\", \"DATE\": \"1/6/18\", \"STATUS\": \"Active\", \"AMOUNT\": \"800\"}\n",
      "{\"DATA_SOURCE\": \"CUSTOMERS\", \"RECORD_ID\": \"1050\", \"RECORD_TYPE\": \"PERSON\", \"PRIMARY_NAME_LAST\": \"Toulouse\", \"PRIMARY_NAME_FIRST\": \"Lee\", \"DATE_OF_BIRTH\": \"2/1/85\", \"PASSPORT_NUMBER\": \"483290175\", \"PASSPORT_COUNTRY\": \"USA\", \"DATE\": \"1/7/18\", \"STATUS\": \"Active\", \"AMOUNT\": \"900\"}\n",
      "{\"DATA_SOURCE\": \"CUSTOMERS\", \"RECORD_ID\": \"1051\", \"RECORD_TYPE\": \"PERSON\", \"PRIMARY_NAME_LAST\": \"Toulouse\", \"PRIMARY_NAME_FIRST\": \"Leigh\", \"DATE_OF_BIRTH\": \"1/2/85\", \"PASSPORT_NUMBER\": \"483290175\", \"PASSPORT_COUNTRY\": \"US\", \"DATE\": \"1/8/18\", \"STATUS\": \"Active\", \"AMOUNT\": \"100\"}\n",
      "{\"DATA_SOURCE\": \"CUSTOMERS\", \"RECORD_ID\": \"1052\", \"RECORD_TYPE\": \"PERSON\", \"PRIMARY_NAME_LAST\": \"Toulouse\", \"PRIMARY_NAME_FIRST\": \"Lea\", \"PASSPORT_NUMBER\": \"483290175\", \"PASSPORT_COUNTRY\": \"US\", \"DATE\": \"1/9/18\", \"STATUS\": \"Active\", \"AMOUNT\": \"200\"}\n",
      "{\"DATA_SOURCE\": \"CUSTOMERS\", \"RECORD_ID\": \"1053\", \"RECORD_TYPE\": \"PERSON\", \"PRIMARY_NAME_LAST\": \"Smith\", \"PRIMARY_NAME_FIRST\": \"Beau\", \"PASSPORT_NUMBER\": \"72129291\", \"PASSPORT_COUNTRY\": \"CA\", \"ADDR_TYPE\": \"HOME\", \"ADDR_LINE1\": \"6371 E Foothill Dr, Orroville, CA \", \"DATE\": \"1/10/18\", \"STATUS\": \"Active\", \"AMOUNT\": \"300\"}\n",
      "{\"DATA_SOURCE\": \"CUSTOMERS\", \"RECORD_ID\": \"1054\", \"RECORD_TYPE\": \"PERSON\", \"PRIMARY_NAME_LAST\": \"Smith\", \"PRIMARY_NAME_FIRST\": \"Magdalena\", \"DATE_OF_BIRTH\": \"24-May-11\", \"DRIVERS_LICENSE_NUMBER\": \"93939211\", \"DRIVERS_LICENSE_STATE\": \"CA\", \"ADDR_TYPE\": \"HOME\", \"ADDR_LINE1\": \"6371 E Foothill Dr, Orroville, CA 95915\", \"DATE\": \"1/11/18\", \"STATUS\": \"Active\", \"AMOUNT\": \"400\"}\n",
      "{\"DATA_SOURCE\": \"CUSTOMERS\", \"RECORD_ID\": \"1055\", \"RECORD_TYPE\": \"PERSON\", \"PRIMARY_NAME_FIRST\": \"Beau\", \"PASSPORT_NUMBER\": \"72129291\", \"PASSPORT_COUNTRY\": \"CAN\", \"ADDR_TYPE\": \"HOME\", \"ADDR_LINE1\": \"6371 E Foothill Dr, 95915\", \"DATE\": \"1/12/18\", \"STATUS\": \"Active\", \"AMOUNT\": \"500\"}\n",
      "{\"DATA_SOURCE\": \"CUSTOMERS\", \"RECORD_ID\": \"1056\", \"RECORD_TYPE\": \"PERSON\", \"PRIMARY_NAME_LAST\": \"Jones\", \"PRIMARY_NAME_FIRST\": \"Magdalena\", \"DATE_OF_BIRTH\": \"5/24/11\", \"DRIVERS_LICENSE_NUMBER\": \"93939211\", \"DRIVERS_LICENSE_STATE\": \"CA\", \"ADDR_TYPE\": \"HOME\", \"ADDR_LINE1\": \"6371 E Foothill Dr, Orroville, CA \", \"DATE\": \"1/13/18\", \"STATUS\": \"Active\", \"AMOUNT\": \"600\"}\n",
      "{\"DATA_SOURCE\": \"CUSTOMERS\", \"RECORD_ID\": \"1057\", \"RECORD_TYPE\": \"PERSON\", \"PRIMARY_NAME_LAST\": \"Jones\", \"PRIMARY_NAME_FIRST\": \"Jay\", \"EMAIL_ADDRESS\": \"jjones@jones.com\", \"DATE\": \"1/14/18\", \"STATUS\": \"Active\", \"AMOUNT\": \"700\"}\n",
      "{\"DATA_SOURCE\": \"CUSTOMERS\", \"RECORD_ID\": \"1058\", \"RECORD_TYPE\": \"PERSON\", \"PRIMARY_NAME_LAST\": \"Jay\", \"PRIMARY_NAME_FIRST\": \"Jones\", \"EMAIL_ADDRESS\": \"\\\"Jay Jones\\\" <jjones@fmail.com>\", \"DATE\": \"1/15/18\", \"STATUS\": \"Active\", \"AMOUNT\": \"800\"}\n",
      "{\"DATA_SOURCE\": \"CUSTOMERS\", \"RECORD_ID\": \"1059\", \"RECORD_TYPE\": \"PERSON\", \"PRIMARY_NAME_LAST\": \"Roderick\", \"PRIMARY_NAME_FIRST\": \"Ray\", \"PHONE_TYPE\": \"HOME\", \"PHONE_NUMBER\": \"971-421-8250\", \"DATE\": \"1/16/18\", \"STATUS\": \"Active\", \"AMOUNT\": \"900\"}\n",
      "{\"DATA_SOURCE\": \"CUSTOMERS\", \"RECORD_ID\": \"1060\", \"RECORD_TYPE\": \"PERSON\", \"PRIMARY_NAME_LAST\": \"Roderick\", \"PRIMARY_NAME_FIRST\": \"R\", \"PHONE_TYPE\": \"HOME\", \"PHONE_NUMBER\": \"9714218250\", \"DATE\": \"1/17/18\", \"STATUS\": \"Active\", \"AMOUNT\": \"100\"}\n",
      "{\"DATA_SOURCE\": \"CUSTOMERS\", \"RECORD_ID\": \"1061\", \"RECORD_TYPE\": \"PERSON\", \"PRIMARY_NAME_LAST\": \"Andreason\", \"PHONE_TYPE\": \"MOBILE\", \"PHONE_NUMBER\": \"(807) 422-9031\", \"DATE\": \"1/18/18\", \"STATUS\": \"Active\", \"AMOUNT\": \"200\"}\n",
      "{\"DATA_SOURCE\": \"CUSTOMERS\", \"RECORD_ID\": \"1062\", \"RECORD_TYPE\": \"PERSON\", \"PRIMARY_NAME_LAST\": \"Andreason\", \"PHONE_NUMBER\": \"807-422-9031\", \"DATE\": \"1/19/18\", \"STATUS\": \"Active\", \"AMOUNT\": \"300\"}\n",
      "{\"DATA_SOURCE\": \"CUSTOMERS\", \"RECORD_ID\": \"1063\", \"RECORD_TYPE\": \"PERSON\", \"PRIMARY_NAME_LAST\": \"Mooney\", \"PRIMARY_NAME_FIRST\": \"Susan\", \"DATE_OF_BIRTH\": \"6/15/98\", \"DATE\": \"1/20/18\", \"STATUS\": \"Active\", \"AMOUNT\": \"400\"}\n",
      "{\"DATA_SOURCE\": \"CUSTOMERS\", \"RECORD_ID\": \"1064\", \"RECORD_TYPE\": \"PERSON\", \"PRIMARY_NAME_LAST\": \"Mooney\", \"PRIMARY_NAME_FIRST\": \"Susanne\", \"DATE_OF_BIRTH\": \"6/15/98\", \"PASSPORT_NUMBER\": \"1231345345\", \"PASSPORT_COUNTRY\": \"US\", \"DATE\": \"1/21/18\", \"STATUS\": \"Active\", \"AMOUNT\": \"500\"}\n",
      "{\"DATA_SOURCE\": \"CUSTOMERS\", \"RECORD_ID\": \"1065\", \"RECORD_TYPE\": \"PERSON\", \"PRIMARY_NAME_LAST\": \"Mooney\", \"PRIMARY_NAME_FIRST\": \"Susan\", \"PASSPORT_NUMBER\": \"1231345345\", \"PASSPORT_COUNTRY\": \"US\", \"DRIVERS_LICENSE_NUMBER\": \"8923322\", \"DRIVERS_LICENSE_STATE\": \"OR\", \"DATE\": \"1/22/18\", \"STATUS\": \"Active\", \"AMOUNT\": \"600\"}\n",
      "{\"DATA_SOURCE\": \"CUSTOMERS\", \"RECORD_ID\": \"1066\", \"RECORD_TYPE\": \"PERSON\", \"PRIMARY_NAME_LAST\": \"Mooney\", \"PRIMARY_NAME_FIRST\": \"Susan\", \"DRIVERS_LICENSE_NUMBER\": \"8923322\", \"DRIVERS_LICENSE_STATE\": \"OR\", \"SSN_NUMBER\": \"521-21-2123\", \"DATE\": \"1/23/18\", \"STATUS\": \"Active\", \"AMOUNT\": \"700\"}\n",
      "{\"DATA_SOURCE\": \"CUSTOMERS\", \"RECORD_ID\": \"1067\", \"RECORD_TYPE\": \"PERSON\", \"PRIMARY_NAME_LAST\": \"Moonie\", \"PRIMARY_NAME_FIRST\": \"Susan\", \"SSN_NUMBER\": \"521212123\", \"ADDR_TYPE\": \"HOME\", \"ADDR_LINE1\": \"638 Downey St, Salem, OR\", \"DATE\": \"1/24/18\", \"STATUS\": \"Active\", \"AMOUNT\": \"800\"}\n",
      "{\"DATA_SOURCE\": \"CUSTOMERS\", \"RECORD_ID\": \"1068\", \"RECORD_TYPE\": \"PERSON\", \"PRIMARY_NAME_LAST\": \"Moony\", \"PRIMARY_NAME_FIRST\": \"Susan\", \"ADDR_TYPE\": \"MAILING\", \"ADDR_LINE1\": \"Adventura Aparments 638 Downey St, Salem, OR\", \"DATE\": \"1/25/18\", \"STATUS\": \"Active\", \"AMOUNT\": \"900\"}\n",
      "{\"DATA_SOURCE\": \"CUSTOMERS\", \"RECORD_ID\": \"1069\", \"RECORD_TYPE\": \"PERSON\", \"NATIVE_NAME_FULL\": \"\\u738b\\u6770\", \"GENDER\": \"M\", \"DATE_OF_BIRTH\": \"9/14/93\", \"NATIONAL_ID_NUMBER\": \"832721\", \"ADDR_TYPE\": \"HOME\", \"ADDR_LINE1\": \"12 Constitution Street \", \"DATE\": \"1/26/18\", \"STATUS\": \"Active\", \"AMOUNT\": \"100\"}\n",
      "{\"DATA_SOURCE\": \"CUSTOMERS\", \"RECORD_ID\": \"1070\", \"RECORD_TYPE\": \"PERSON\", \"PRIMARY_NAME_LAST\": \"Wang\", \"PRIMARY_NAME_FIRST\": \"Jie\", \"GENDER\": \"Male\", \"DATE_OF_BIRTH\": \"9/14/93\", \"NATIONAL_ID_NUMBER\": \"832721\", \"NATIONAL_ID_COUNTRY\": \"Hong Kong\", \"ADDR_TYPE\": \"HOME\", \"ADDR_LINE1\": \"12 Constitution Street \", \"DATE\": \"1/27/18\", \"STATUS\": \"Active\", \"AMOUNT\": \"200\"}\n",
      "{\"DATA_SOURCE\": \"CUSTOMERS\", \"RECORD_ID\": \"1071\", \"RECORD_TYPE\": \"PERSON\", \"NATIVE_NAME_FULL\": \"\\u738b\\u4f1f\", \"GENDER\": \"F\", \"DATE_OF_BIRTH\": \"9/14/97\", \"NATIONAL_ID_NUMBER\": \"7123833\", \"NATIONAL_ID_COUNTRY\": \"China\", \"ADDR_TYPE\": \"HOME\", \"ADDR_LINE1\": \"169 3rd Ave. Camden, NJ 08030\", \"DATE\": \"1/28/18\", \"STATUS\": \"Active\", \"AMOUNT\": \"300\"}\n",
      "{\"DATA_SOURCE\": \"CUSTOMERS\", \"RECORD_ID\": \"1072\", \"RECORD_TYPE\": \"PERSON\", \"PRIMARY_NAME_LAST\": \"Wang\", \"PRIMARY_NAME_FIRST\": \"Wei\", \"GENDER\": \"Female\", \"DATE_OF_BIRTH\": \"9/14/97\", \"NATIONAL_ID_NUMBER\": \"7123833\", \"NATIONAL_ID_COUNTRY\": \"China\", \"ADDR_TYPE\": \"HOME\", \"ADDR_LINE1\": \"169 3rd Ave. Camden, NJ 08030\", \"DATE\": \"1/29/18\", \"STATUS\": \"Active\", \"AMOUNT\": \"400\"}\n",
      "{\"DATA_SOURCE\": \"CUSTOMERS\", \"RECORD_ID\": \"1073\", \"RECORD_TYPE\": \"PERSON\", \"NATIVE_NAME_FULL\": \"\\u5f20\\u4f1f\", \"GENDER\": \"M\", \"DATE_OF_BIRTH\": \"8/2/06\", \"ADDR_TYPE\": \"HOME\", \"ADDR_LINE1\": \"173 John Lane, Camden, NJ 08030\", \"DATE\": \"1/30/18\", \"STATUS\": \"Active\", \"AMOUNT\": \"500\"}\n",
      "{\"DATA_SOURCE\": \"CUSTOMERS\", \"RECORD_ID\": \"1074\", \"RECORD_TYPE\": \"PERSON\", \"PRIMARY_NAME_LAST\": \"Zhang\", \"PRIMARY_NAME_FIRST\": \"Wei\", \"GENDER\": \"Male\", \"DATE_OF_BIRTH\": \"2/8/06\", \"ADDR_TYPE\": \"HOME\", \"ADDR_LINE1\": \"173 John Lane, 08030\", \"DATE\": \"1/31/18\", \"STATUS\": \"Active\", \"AMOUNT\": \"600\"}\n",
      "{\"DATA_SOURCE\": \"CUSTOMERS\", \"RECORD_ID\": \"1075\", \"RECORD_TYPE\": \"PERSON\", \"NATIVE_NAME_FULL\": \"\\u5f20\\u79c0\\u82f1\", \"GENDER\": \"F\", \"DATE_OF_BIRTH\": \"2/4/31\", \"ADDR_TYPE\": \"HOME\", \"ADDR_LINE1\": \"329 Leatherwood Street, Las Vegas, 89117\", \"DATE\": \"1/2/18\", \"STATUS\": \"Active\", \"AMOUNT\": \"700\"}\n",
      "{\"DATA_SOURCE\": \"CUSTOMERS\", \"RECORD_ID\": \"1076\", \"RECORD_TYPE\": \"PERSON\", \"PRIMARY_NAME_LAST\": \"Zhang\", \"PRIMARY_NAME_FIRST\": \"Xiu Ying\", \"GENDER\": \"Female\", \"DATE_OF_BIRTH\": \"4/2/31\", \"ADDR_TYPE\": \"HOME\", \"ADDR_LINE1\": \"329 Leatherwood Street, Las Vegas, NV\", \"DATE\": \"1/3/18\", \"STATUS\": \"Active\", \"AMOUNT\": \"800\"}\n",
      "{\"DATA_SOURCE\": \"CUSTOMERS\", \"RECORD_ID\": \"1077\", \"RECORD_TYPE\": \"PERSON\", \"NATIVE_NAME_FULL\": \"\\u5218\\u6770\", \"GENDER\": \"F\", \"DATE_OF_BIRTH\": \"6/25/08\", \"ADDR_TYPE\": \"HOME\", \"ADDR_LINE1\": \"37 Campfire St. \", \"DATE\": \"1/4/18\", \"STATUS\": \"Active\", \"AMOUNT\": \"900\"}\n",
      "{\"DATA_SOURCE\": \"CUSTOMERS\", \"RECORD_ID\": \"1078\", \"RECORD_TYPE\": \"PERSON\", \"PRIMARY_NAME_LAST\": \"Liu\", \"PRIMARY_NAME_FIRST\": \"Jie\", \"GENDER\": \"Unknown\", \"DATE_OF_BIRTH\": \"25-Jun-08\", \"ADDR_TYPE\": \"HOME\", \"ADDR_LINE1\": \"37 Campfire St. \", \"DATE\": \"1/5/18\", \"STATUS\": \"Active\", \"AMOUNT\": \"100\"}\n",
      "{\"DATA_SOURCE\": \"CUSTOMERS\", \"RECORD_ID\": \"1079\", \"RECORD_TYPE\": \"PERSON\", \"PRIMARY_NAME_LAST\": \"Brown\", \"PRIMARY_NAME_FIRST\": \"Jeffrey\", \"GENDER\": \"U\", \"DATE_OF_BIRTH\": \"6/21/82\", \"SSN_NUMBER\": \"3241\", \"DATE\": \"1/6/18\", \"STATUS\": \"Active\", \"AMOUNT\": \"200\"}\n",
      "{\"DATA_SOURCE\": \"CUSTOMERS\", \"RECORD_ID\": \"1080\", \"RECORD_TYPE\": \"PERSON\", \"PRIMARY_NAME_LAST\": \"Brown Jr\", \"PRIMARY_NAME_FIRST\": \"Geoffrey\", \"GENDER\": \"M\", \"DATE_OF_BIRTH\": \"6/21/82\", \"SSN_NUMBER\": \"3241\", \"DATE\": \"1/7/18\", \"STATUS\": \"Active\", \"AMOUNT\": \"300\"}\n",
      "{\"DATA_SOURCE\": \"CUSTOMERS\", \"RECORD_ID\": \"1081\", \"RECORD_TYPE\": \"PERSON\", \"PRIMARY_NAME_LAST\": \"Frankens\", \"PRIMARY_NAME_FIRST\": \"George\", \"DATE_OF_BIRTH\": \"15-Mar-92\", \"PASSPORT_NUMBER\": \"234456456\", \"PASSPORT_COUNTRY\": \"DE\", \"ADDR_TYPE\": \"HOME\", \"ADDR_LINE1\": \"Ansbacher Strasse 23, 56422 Dusseldorf\", \"ADDR_POSTAL_CODE\": \"56244\", \"DATE\": \"1/8/18\", \"STATUS\": \"Active\", \"AMOUNT\": \"400\"}\n",
      "{\"DATA_SOURCE\": \"CUSTOMERS\", \"RECORD_ID\": \"1082\", \"RECORD_TYPE\": \"PERSON\", \"PRIMARY_NAME_LAST\": \"Frankens\", \"PRIMARY_NAME_FIRST\": \"Georg\", \"DATE_OF_BIRTH\": \"15-Mar-92\", \"PASSPORT_NUMBER\": \"234456456\", \"PASSPORT_COUNTRY\": \"Germany\", \"ADDR_TYPE\": \"MAILING\", \"ADDR_LINE1\": \"23 Ansbacher Street\", \"ADDR_CITY\": \"Dusseldorf\", \"ADDR_POSTAL_CODE\": \"56244\", \"ADDR_COUNTRY\": \"Germany\", \"DATE\": \"1/9/18\", \"STATUS\": \"Active\", \"AMOUNT\": \"500\"}\n",
      "{\"DATA_SOURCE\": \"CUSTOMERS\", \"RECORD_ID\": \"1083\", \"RECORD_TYPE\": \"PERSON\", \"PRIMARY_NAME_LAST\": \"Klempski\", \"PRIMARY_NAME_FIRST\": \"Morris\", \"DATE_OF_BIRTH\": \"17-May-90\", \"PASSPORT_NUMBER\": \"34543555\", \"PASSPORT_COUNTRY\": \"CA\", \"ADDR_TYPE\": \"HOME\", \"ADDR_LINE1\": \"Skyline Apartments, 705 Sheppard Ave\", \"ADDR_CITY\": \"Toronto\", \"ADDR_POSTAL_CODE\": \"M1S 1T4\", \"DATE\": \"1/10/18\", \"STATUS\": \"Active\", \"AMOUNT\": \"600\"}\n",
      "{\"DATA_SOURCE\": \"CUSTOMERS\", \"RECORD_ID\": \"1084\", \"RECORD_TYPE\": \"PERSON\", \"PRIMARY_NAME_LAST\": \"Klempsky\", \"PRIMARY_NAME_FIRST\": \"Morrie\", \"DATE_OF_BIRTH\": \"17-May-90\", \"PASSPORT_NUMBER\": \"34543555\", \"PASSPORT_COUNTRY\": \"Canada\", \"ADDR_TYPE\": \"MAILING\", \"ADDR_LINE1\": \"705 Sheppard Ave\", \"ADDR_CITY\": \"Toronto\", \"ADDR_POSTAL_CODE\": \"M1S 1T4\", \"ADDR_COUNTRY\": \"CAN\", \"DATE\": \"1/11/18\", \"STATUS\": \"Active\", \"AMOUNT\": \"700\"}\n",
      "{\"DATA_SOURCE\": \"CUSTOMERS\", \"RECORD_ID\": \"1085\", \"RECORD_TYPE\": \"PERSON\", \"PRIMARY_NAME_LAST\": \"D'esquire\", \"PRIMARY_NAME_FIRST\": \"Ellie\", \"DATE_OF_BIRTH\": \"19-Feb-91\", \"PHONE_TYPE\": \"HOME\", \"PHONE_NUMBER\": \"0352 6553537\", \"EMAIL_ADDRESS\": \"dellie@fmail.com\", \"DATE\": \"1/12/18\", \"STATUS\": \"Active\", \"AMOUNT\": \"800\"}\n",
      "{\"DATA_SOURCE\": \"CUSTOMERS\", \"RECORD_ID\": \"1086\", \"RECORD_TYPE\": \"PERSON\", \"PRIMARY_NAME_LAST\": \"Desqueir\", \"PRIMARY_NAME_FIRST\": \"Ellie\", \"DATE_OF_BIRTH\": \"19-Feb-91\", \"PHONE_TYPE\": \"HOME\", \"PHONE_NUMBER\": \"+39 0352 6553537\", \"EMAIL_ADDRESS\": \"dellie@fmail.com\", \"DATE\": \"1/13/18\", \"STATUS\": \"Active\", \"AMOUNT\": \"900\"}\n",
      "{\"DATA_SOURCE\": \"CUSTOMERS\", \"RECORD_ID\": \"1087\", \"RECORD_TYPE\": \"PERSON\", \"PRIMARY_NAME_LAST\": \"Wiest\", \"PRIMARY_NAME_FIRST\": \"George\", \"GENDER\": \"M\", \"DATE_OF_BIRTH\": \"3/12/87\", \"PHONE_TYPE\": \"HOME\", \"PHONE_NUMBER\": \"702-221-2412\", \"EMAIL_ADDRESS\": \"pfranks@ishmail.com\", \"DATE\": \"1/14/18\", \"STATUS\": \"Active\", \"AMOUNT\": \"100\"}\n",
      "{\"DATA_SOURCE\": \"CUSTOMERS\", \"RECORD_ID\": \"1088\", \"RECORD_TYPE\": \"PERSON\", \"PRIMARY_NAME_LAST\": \"Weest\", \"PRIMARY_NAME_FIRST\": \"George\", \"GENDER\": \"F\", \"DATE_OF_BIRTH\": \"3/12/87\", \"PHONE_TYPE\": \"HOME\", \"PHONE_NUMBER\": \"221-2412\", \"EMAIL_ADDRESS\": \"pfranks@ishmail.com\", \"DATE\": \"1/15/18\", \"STATUS\": \"Active\", \"AMOUNT\": \"200\"}\n",
      "{\"DATA_SOURCE\": \"CUSTOMERS\", \"RECORD_ID\": \"1089\", \"RECORD_TYPE\": \"PERSON\", \"PRIMARY_NAME_LAST\": \"Klein\", \"PRIMARY_NAME_FIRST\": \"Morris I\", \"DATE_OF_BIRTH\": \"4/12/82\", \"DATE\": \"1/16/18\", \"STATUS\": \"Active\", \"AMOUNT\": \"300\"}\n",
      "{\"DATA_SOURCE\": \"CUSTOMERS\", \"RECORD_ID\": \"1090\", \"RECORD_TYPE\": \"PERSON\", \"PRIMARY_NAME_LAST\": \"Klein\", \"PRIMARY_NAME_FIRST\": \"Morris II\", \"DATE_OF_BIRTH\": \"4/12/82\", \"DATE\": \"1/17/18\", \"STATUS\": \"Active\", \"AMOUNT\": \"400\"}\n",
      "{\"DATA_SOURCE\": \"CUSTOMERS\", \"RECORD_ID\": \"1091\", \"RECORD_TYPE\": \"PERSON\", \"PRIMARY_NAME_LAST\": \"Ohare\", \"PRIMARY_NAME_FIRST\": \"Ellie\", \"DATE_OF_BIRTH\": \"8/15/67\", \"PHONE_TYPE\": \"HOME\", \"PHONE_NUMBER\": \"0352 6553537\", \"EMAIL_ADDRESS\": \"ellie.ohare@fmail.com\", \"DATE\": \"1/18/18\", \"STATUS\": \"Active\", \"AMOUNT\": \"500\"}\n",
      "{\"DATA_SOURCE\": \"CUSTOMERS\", \"RECORD_ID\": \"1092\", \"RECORD_TYPE\": \"PERSON\", \"PRIMARY_NAME_LAST\": \"O'hare\", \"PRIMARY_NAME_FIRST\": \"Ellie\", \"DATE_OF_BIRTH\": \"8/15/67\", \"PHONE_TYPE\": \"HOME\", \"PHONE_NUMBER\": \"+39 0352 6553537\", \"EMAIL_ADDRESS\": \"ellie.ohare@fmail.com\", \"DATE\": \"1/19/18\", \"STATUS\": \"Active\", \"AMOUNT\": \"600\"}\n",
      "{\"DATA_SOURCE\": \"CUSTOMERS\", \"RECORD_ID\": \"1093\", \"RECORD_TYPE\": \"PERSON\", \"PRIMARY_NAME_LAST\": \"Anderson\", \"PRIMARY_NAME_FIRST\": \"Amanda\", \"DATE_OF_BIRTH\": \"3/12/87\", \"DRIVERS_LICENSE_NUMBER\": \"73423499\", \"DRIVERS_LICENSE_STATE\": \"MN\", \"DATE\": \"1/20/18\", \"STATUS\": \"Active\", \"AMOUNT\": \"700\"}\n",
      "{\"DATA_SOURCE\": \"CUSTOMERS\", \"RECORD_ID\": \"1094\", \"RECORD_TYPE\": \"PERSON\", \"PRIMARY_NAME_LAST\": \"Jones\", \"PRIMARY_NAME_FIRST\": \"Amanda\", \"DATE_OF_BIRTH\": \"3/12/87\", \"DRIVERS_LICENSE_NUMBER\": \"73423499\", \"DRIVERS_LICENSE_STATE\": \"MN\", \"DATE\": \"1/21/18\", \"STATUS\": \"Active\", \"AMOUNT\": \"800\"}\n",
      "{\"DATA_SOURCE\": \"CUSTOMERS\", \"RECORD_ID\": \"1095\", \"RECORD_TYPE\": \"PERSON\", \"PRIMARY_NAME_LAST\": \"Aguilar\", \"PRIMARY_NAME_FIRST\": \"Juan\", \"GENDER\": \"Male\", \"DATE_OF_BIRTH\": \"4/12/82\", \"DRIVERS_LICENSE_NUMBER\": \"234234455\", \"DRIVERS_LICENSE_STATE\": \"MN\", \"DATE\": \"1/22/18\", \"STATUS\": \"Active\", \"AMOUNT\": \"900\"}\n",
      "{\"DATA_SOURCE\": \"CUSTOMERS\", \"RECORD_ID\": \"1096\", \"RECORD_TYPE\": \"PERSON\", \"PRIMARY_NAME_LAST\": \"Aguilar\", \"PRIMARY_NAME_FIRST\": \"Juann\", \"DATE_OF_BIRTH\": \"4/12/82\", \"DRIVERS_LICENSE_NUMBER\": \"234234455\", \"DRIVERS_LICENSE_STATE\": \"MN\", \"DATE\": \"1/23/18\", \"STATUS\": \"Active\", \"AMOUNT\": \"100\"}\n",
      "{\"DATA_SOURCE\": \"CUSTOMERS\", \"RECORD_ID\": \"1097\", \"RECORD_TYPE\": \"PERSON\", \"PRIMARY_NAME_LAST\": \"Sanchez\", \"PRIMARY_NAME_FIRST\": \"Marie\", \"ADDR_TYPE\": \"MAILING\", \"ADDR_LINE1\": \"P.O. Box 12987\", \"ADDR_CITY\": \"Andersonville\", \"ADDR_STATE\": \"IL\", \"ADDR_POSTAL_CODE\": \"60611\", \"PHONE_TYPE\": \"MOBILE\", \"EMAIL_ADDRESS\": \"mickey@mmail.com\", \"DATE\": \"1/24/18\", \"STATUS\": \"Active\", \"AMOUNT\": \"200\"}\n",
      "{\"DATA_SOURCE\": \"CUSTOMERS\", \"RECORD_ID\": \"1098\", \"RECORD_TYPE\": \"PERSON\", \"PRIMARY_NAME_LAST\": \"Sanchez Mendoza\", \"PRIMARY_NAME_FIRST\": \"Marie\", \"ADDR_TYPE\": \"MAILING\", \"ADDR_LINE1\": \"PO BOX 12987\", \"ADDR_CITY\": \"Chicago\", \"ADDR_STATE\": \"IL\", \"ADDR_POSTAL_CODE\": \"60611\", \"PHONE_TYPE\": \"MOBILE\", \"EMAIL_ADDRESS\": \"mickey@mmail.com\", \"DATE\": \"1/25/18\", \"STATUS\": \"Active\", \"AMOUNT\": \"300\"}\n",
      "{\"DATA_SOURCE\": \"CUSTOMERS\", \"RECORD_ID\": \"1099\", \"RECORD_TYPE\": \"PERSON\", \"PRIMARY_NAME_LAST\": \"Aguilar\", \"PRIMARY_NAME_FIRST\": \"Anna Maria\", \"GENDER\": \"Female\", \"ADDR_TYPE\": \"HOME\", \"ADDR_LINE1\": \"1812 Overture way\", \"ADDR_CITY\": \"Chicago\", \"ADDR_STATE\": \"IL\", \"PHONE_TYPE\": \"MOBILE\", \"EMAIL_ADDRESS\": \"mouse@mmail.com\", \"DATE\": \"1/26/18\", \"STATUS\": \"Active\", \"AMOUNT\": \"400\"}\n",
      "{\"DATA_SOURCE\": \"CUSTOMERS\", \"RECORD_ID\": \"1100\", \"RECORD_TYPE\": \"PERSON\", \"PRIMARY_NAME_LAST\": \"Aguilar\", \"PRIMARY_NAME_FIRST\": \"Anna\", \"PRIMARY_NAME_MIDDLE\": \"Marie\", \"GENDER\": \"Unknown\", \"ADDR_TYPE\": \"HOME\", \"ADDR_LINE1\": \"9881 Freedom way\", \"ADDR_CITY\": \"Chicago\", \"ADDR_STATE\": \"IL\", \"PHONE_TYPE\": \"MOBILE\", \"EMAIL_ADDRESS\": \"mouse@mmail.com\", \"DATE\": \"1/27/18\", \"STATUS\": \"Active\", \"AMOUNT\": \"500\"}\n",
      "{\"DATA_SOURCE\": \"CUSTOMERS\", \"RECORD_ID\": \"1101\", \"RECORD_TYPE\": \"PERSON\", \"PRIMARY_NAME_LAST\": \"Miller\", \"PRIMARY_NAME_FIRST\": \"Mark\", \"EMAIL_ADDRESS\": \"mark@marksfoods.com\", \"DATE\": \"1/28/18\", \"STATUS\": \"Active\", \"AMOUNT\": \"600\"}\n",
      "{\"DATA_SOURCE\": \"CUSTOMERS\", \"RECORD_ID\": \"1102\", \"RECORD_TYPE\": \"PERSON\", \"PRIMARY_NAME_LAST\": \"Milner\", \"PRIMARY_NAME_FIRST\": \"Mark\", \"EMAIL_ADDRESS\": \"mark@marksfoods.com\", \"DATE\": \"1/29/18\", \"STATUS\": \"Active\", \"AMOUNT\": \"700\"}\n",
      "{\"DATA_SOURCE\": \"CUSTOMERS\", \"RECORD_ID\": \"1103\", \"RECORD_TYPE\": \"PERSON\", \"PRIMARY_NAME_LAST\": \"Becker\", \"PRIMARY_NAME_FIRST\": \"Anabella\", \"GENDER\": \"U\", \"DRIVERS_LICENSE_NUMBER\": \"823123\", \"DRIVERS_LICENSE_STATE\": \"TX\", \"DATE\": \"1/30/18\", \"STATUS\": \"Active\", \"AMOUNT\": \"800\"}\n",
      "{\"DATA_SOURCE\": \"CUSTOMERS\", \"RECORD_ID\": \"1104\", \"RECORD_TYPE\": \"PERSON\", \"PRIMARY_NAME_LAST\": \"Becker\", \"PRIMARY_NAME_FIRST\": \"Annabelle\", \"GENDER\": \"F\", \"DRIVERS_LICENSE_NUMBER\": \"823123\", \"DRIVERS_LICENSE_STATE\": \"Texas\", \"DATE\": \"1/31/18\", \"STATUS\": \"Active\", \"AMOUNT\": \"900\"}\n",
      "{\"DATA_SOURCE\": \"CUSTOMERS\", \"RECORD_ID\": \"2011\", \"RECORD_TYPE\": \"ORGANIZATION\", \"PRIMARY_NAME_ORG\": \"Hajah Mamunah (Jln Pisang)\", \"ADDR_TYPE\": \"BUSINESS\", \"ADDR_FULL\": \"#01-11, HillV2, 4 Hillview Rise, 667979\", \"ADDR_COUNTRY\": \"Singapore\", \"DATE\": \"1/31/18\", \"STATUS\": \"Inactive\", \"CATEGORY\": \"Platinum\"}\n",
      "{\"DATA_SOURCE\": \"CUSTOMERS\", \"RECORD_ID\": \"2031\", \"RECORD_TYPE\": \"PERSON\", \"PRIMARY_NAME_LAST\": \"\\u1782\\u17b9\\u1798\", \"PRIMARY_NAME_FIRST\": \"\\u178f\\u17b6\\u179a\\u17b6\", \"ADDR_TYPE\": \"PRIMARY\", \"ADDR_FULL\": \"Street 128 Phnom Penh Cambodia\", \"DATE\": \"3/15/1992\", \"STATUS\": \"Active\", \"CATEGORY\": \"Gold\"}\n",
      "{\"DATA_SOURCE\": \"CUSTOMERS\", \"RECORD_ID\": \"2032\", \"RECORD_TYPE\": \"PERSON\", \"PRIMARY_NAME_LAST\": \"Kim\", \"PRIMARY_NAME_FIRST\": \"Dara\", \"ADDR_TYPE\": \"PRIMARY\", \"ADDR_LINE1\": \"Street 128 \", \"ADDR_CITY\": \"Phnom Penh\", \"ADDR_COUNTRY\": \"Cambodia\", \"DATE\": \"3/12/1998\", \"STATUS\": \"Active\", \"CATEGORY\": \"Silver\"}\n",
      "{\"DATA_SOURCE\": \"CUSTOMERS\", \"RECORD_ID\": \"2042\", \"RECORD_TYPE\": \"ORGANIZATION\", \"PRIMARY_NAME_ORG\": \"Mullenkrants \", \"SECONDARY_NAME_ORG\": \"Autoworks\", \"ADDR_TYPE\": \"PRIMARY\", \"ADDR_LINE1\": \"Hardenbergstrasse 87\", \"ADDR_POSTAL_CODE\": \"66879\", \"ADDR_COUNTRY\": \"Germany\", \"DATE\": \"3/15/2019\", \"STATUS\": \"Terminated\", \"CATEGORY\": \"Platinum\"}\n",
      "{\"DATA_SOURCE\": \"CUSTOMERS\", \"RECORD_ID\": \"2063\", \"RECORD_TYPE\": \"PERSON\", \"PRIMARY_NAME_FULL\": \"Alexander Pavlovich Vasiliev\", \"PHONE_NUMBER\": \"481-285-6234\", \"DATE\": \"1/15/2000\", \"STATUS\": \"Active\", \"CATEGORY\": \"Platinum\"}\n",
      "{\"DATA_SOURCE\": \"CUSTOMERS\", \"RECORD_ID\": \"2072\", \"RECORD_TYPE\": \"ORGANIZATION\", \"PRIMARY_NAME_ORG\": \"Univrsl Export Inc\", \"ADDR_TYPE\": \"BUSINESS\", \"ADDR_LINE1\": \"100 Howard Hughs Plaza\", \"ADDR_CITY\": \"Las Vegas\", \"ADDR_STATE\": \"NV\", \"ADDR_POSTAL_CODE\": \"89111\", \"PHONE_NUMBER\": \"800-111-1234\", \"DATE\": \"6/15/2005\", \"STATUS\": \"Active\", \"CATEGORY\": \"Silver\"}\n",
      "{\"DATA_SOURCE\": \"CUSTOMERS\", \"RECORD_ID\": \"2073\", \"RECORD_TYPE\": \"ORGANIZATION\", \"PRIMARY_NAME_ORG\": \"Worldwide Exports \", \"ADDR_TYPE\": \"REGISTERED\", \"ADDR_LINE1\": \"Chrysler Building, 405 Lexington Avenue\", \"ADDR_CITY\": \"New York\", \"ADDR_STATE\": \"NY\", \"ADDR_POSTAL_CODE\": \"10174\", \"DATE\": \"12/10/2020\", \"STATUS\": \"Active\", \"CATEGORY\": \"Platinum\"}\n",
      "{\"DATA_SOURCE\": \"CUSTOMERS\", \"RECORD_ID\": \"2142\", \"RECORD_TYPE\": \"ORGANIZATION\", \"PRIMARY_NAME_ORG\": \"Singapore exports\", \"ADDR_TYPE\": \"PRIMARY\", \"ADDR_FULL\": \"133 New Bridge Road, Chinatown Point, Singapore 059413\", \"ADDR_COUNTRY\": \"Singapore\", \"DATE\": \"2/4/2012\", \"STATUS\": \"Active\", \"CATEGORY\": \"Silver\"}\n",
      "{\"DATA_SOURCE\": \"CUSTOMERS\", \"RECORD_ID\": \"2152\", \"RECORD_TYPE\": \"ORGANIZATION\", \"PRIMARY_NAME_ORG\": \"India Exports\", \"ADDR_TYPE\": \"PRIMARY\", \"ADDR_FULL\": \"Mullanpara Road, Old Vythiri, Vythiri, Wayanad, 673576, India\", \"DATE\": \"3/1/2010\", \"STATUS\": \"Active\", \"CATEGORY\": \"Gold\"}\n",
      "{\"DATA_SOURCE\": \"CUSTOMERS\", \"RECORD_ID\": \"2171\", \"RECORD_TYPE\": \"PERSON\", \"PRIMARY_NAME_LAST\": \"Anderson\", \"PRIMARY_NAME_FIRST\": \"Andrew\", \"EMAIL_ADDRESS\": \"info@ca-state.gov\"}\n",
      "{\"DATA_SOURCE\": \"CUSTOMERS\", \"RECORD_ID\": \"2172\", \"RECORD_TYPE\": \"PERSON\", \"PRIMARY_NAME_LAST\": \"Anderson\", \"PRIMARY_NAME_FIRST\": \"Andy \", \"EMAIL_ADDRESS\": \"info@ca-state.gov\"}\n",
      "{\"DATA_SOURCE\": \"CUSTOMERS\", \"RECORD_ID\": \"2181\", \"RECORD_TYPE\": \"PERSON\", \"PRIMARY_NAME_LAST\": \"Anderson\", \"PRIMARY_NAME_FIRST\": \"Anna\", \"PHONE_NUMBER\": \"702-221-2211\", \"EMAIL_ADDRESS\": \"info@ca-state.gov\"}\n",
      "{\"DATA_SOURCE\": \"CUSTOMERS\", \"RECORD_ID\": \"2182\", \"RECORD_TYPE\": \"PERSON\", \"PRIMARY_NAME_LAST\": \"Anderson\", \"PRIMARY_NAME_FIRST\": \"Annabelle\", \"PHONE_NUMBER\": \"702-221-2211\", \"EMAIL_ADDRESS\": \"info@ca-state.gov\"}\n",
      "{\"DATA_SOURCE\": \"CUSTOMERS\", \"RECORD_ID\": \"2191\", \"RECORD_TYPE\": \"PERSON\", \"PRIMARY_NAME_LAST\": \"Muir\", \"PRIMARY_NAME_FIRST\": \"Jim\", \"DATE_OF_BIRTH\": \"1997-11-12\", \"ADDR_LINE1\": \"12396 Austin Rd\", \"ADDR_CITY\": \"Sacramento\", \"ADDR_STATE\": \"CA\", \"ADDR_POSTAL_CODE\": \"95823\", \"EMAIL_ADDRESS\": \"info@ca-state.gov\"}\n",
      "{\"DATA_SOURCE\": \"CUSTOMERS\", \"RECORD_ID\": \"2192\", \"RECORD_TYPE\": \"PERSON\", \"PRIMARY_NAME_LAST\": \"Muir\", \"PRIMARY_NAME_FIRST\": \"Jane\", \"DATE_OF_BIRTH\": \"1999-12-10\", \"ADDR_LINE1\": \"12396 Austin Rd\", \"ADDR_CITY\": \"Sacramento\", \"ADDR_STATE\": \"CA\", \"ADDR_POSTAL_CODE\": \"95823\", \"EMAIL_ADDRESS\": \"info@ca-state.gov\"}\n",
      "{\"DATA_SOURCE\": \"CUSTOMERS\", \"RECORD_ID\": \"2193\", \"RECORD_TYPE\": \"PERSON\", \"PRIMARY_NAME_LAST\": \"Muir\", \"PRIMARY_NAME_FIRST\": \"J\", \"DATE_OF_BIRTH\": \"1999-12-10\", \"ADDR_LINE1\": \"12396 Austin Rd\", \"ADDR_CITY\": \"Sacramento\", \"ADDR_STATE\": \"CA\", \"ADDR_POSTAL_CODE\": \"95823\", \"EMAIL_ADDRESS\": \"info@ca-state.gov\"}\n",
      "{\"DATA_SOURCE\": \"CUSTOMERS\", \"RECORD_ID\": \"2201\", \"RECORD_TYPE\": \"PERSON\", \"PRIMARY_NAME_LAST\": \"Swarm\", \"PRIMARY_NAME_FIRST\": \"Jorg\", \"ADDR_LINE1\": \"127 14th Ave\", \"ADDR_CITY\": \"Elmwood Park\", \"ADDR_STATE\": \"CA\", \"ADDR_POSTAL_CODE\": \"95865\", \"EMAIL_ADDRESS\": \"info@ca-state.gov\"}\n",
      "{\"DATA_SOURCE\": \"CUSTOMERS\", \"RECORD_ID\": \"2202\", \"RECORD_TYPE\": \"PERSON\", \"PRIMARY_NAME_LAST\": \"Barge\", \"PRIMARY_NAME_FIRST\": \"Jorge\", \"ADDR_LINE1\": \"4362 Belmont Lane\", \"ADDR_CITY\": \"Elmwood Park\", \"ADDR_STATE\": \"CA\", \"ADDR_POSTAL_CODE\": \"95865\", \"EMAIL_ADDRESS\": \"info@ca-state.gov\"}\n",
      "{\"DATA_SOURCE\": \"CUSTOMERS\", \"RECORD_ID\": \"2203\", \"RECORD_TYPE\": \"PERSON\", \"PRIMARY_NAME_LAST\": \"Gray\", \"PRIMARY_NAME_FIRST\": \"Gaston\", \"ADDR_LINE1\": \"1376 BlueBell Road\", \"ADDR_CITY\": \"Sacramento\", \"ADDR_STATE\": \"CA\", \"ADDR_POSTAL_CODE\": \"95823\", \"EMAIL_ADDRESS\": \"info@ca-state.gov\"}\n",
      "{\"DATA_SOURCE\": \"CUSTOMERS\", \"RECORD_ID\": \"2204\", \"RECORD_TYPE\": \"PERSON\", \"PRIMARY_NAME_LAST\": \"Howard\", \"PRIMARY_NAME_FIRST\": \"Henry\", \"ADDR_LINE1\": \"538 Blanco St\", \"ADDR_CITY\": \"Sacramento\", \"ADDR_STATE\": \"CA\", \"ADDR_POSTAL_CODE\": \"95823\", \"EMAIL_ADDRESS\": \"info@ca-state.gov\"}\n",
      "{\"DATA_SOURCE\": \"CUSTOMERS\", \"RECORD_ID\": \"2205\", \"RECORD_TYPE\": \"PERSON\", \"PRIMARY_NAME_LAST\": \"Inverness\", \"PRIMARY_NAME_FIRST\": \"Inez\", \"ADDR_LINE1\": \"2516 BentTree Ln\", \"ADDR_CITY\": \"Sacramento\", \"ADDR_STATE\": \"CA\", \"ADDR_POSTAL_CODE\": \"95823\", \"EMAIL_ADDRESS\": \"info@ca-state.gov\"}\n",
      "{\"DATA_SOURCE\": \"CUSTOMERS\", \"RECORD_ID\": \"2206\", \"RECORD_TYPE\": \"PERSON\", \"PRIMARY_NAME_LAST\": \"Jackson\", \"PRIMARY_NAME_FIRST\": \"Julia\", \"ADDR_LINE1\": \"319 Cody Road\", \"ADDR_CITY\": \"Elmwood Park\", \"ADDR_STATE\": \"CA\", \"ADDR_POSTAL_CODE\": \"95865\", \"EMAIL_ADDRESS\": \"info@ca-state.gov\"}\n",
      "{\"DATA_SOURCE\": \"CUSTOMERS\", \"RECORD_ID\": \"2207\", \"RECORD_TYPE\": \"PERSON\", \"PRIMARY_NAME_LAST\": \"Kellar\", \"PRIMARY_NAME_FIRST\": \"Kandace\", \"ADDR_LINE1\": \"1824 AspenOak Way\", \"ADDR_CITY\": \"Elmwood Park\", \"ADDR_STATE\": \"CA\", \"ADDR_POSTAL_CODE\": \"95865\", \"EMAIL_ADDRESS\": \"info@ca-state.gov\"}\n",
      "{\"DATA_SOURCE\": \"CUSTOMERS\", \"RECORD_ID\": \"2208\", \"RECORD_TYPE\": \"PERSON\", \"PRIMARY_NAME_LAST\": \"Leonard\", \"PRIMARY_NAME_FIRST\": \"Leslie\", \"ADDR_LINE1\": \"4362 Belmont Lane\", \"ADDR_CITY\": \"Elmwood Park\", \"ADDR_STATE\": \"CA\", \"ADDR_POSTAL_CODE\": \"95865\", \"EMAIL_ADDRESS\": \"info@ca-state.gov\"}\n",
      "{\"DATA_SOURCE\": \"CUSTOMERS\", \"RECORD_ID\": \"2209\", \"RECORD_TYPE\": \"PERSON\", \"PRIMARY_NAME_LAST\": \"Miller\", \"PRIMARY_NAME_FIRST\": \"Millie\", \"ADDR_LINE1\": \"1376 BlueBell Road\", \"ADDR_CITY\": \"Sacramento\", \"ADDR_STATE\": \"CA\", \"ADDR_POSTAL_CODE\": \"95823\", \"EMAIL_ADDRESS\": \"info@ca-state.gov\"}\n",
      "{\"DATA_SOURCE\": \"CUSTOMERS\", \"RECORD_ID\": \"2210\", \"RECORD_TYPE\": \"PERSON\", \"PRIMARY_NAME_LAST\": \"Nice\", \"PRIMARY_NAME_FIRST\": \"Nelson\", \"ADDR_LINE1\": \"319 Cody Road\", \"ADDR_CITY\": \"Elmwood Park\", \"ADDR_STATE\": \"CA\", \"ADDR_POSTAL_CODE\": \"95865\", \"EMAIL_ADDRESS\": \"info@ca-state.gov\"}\n",
      "{\"DATA_SOURCE\": \"CUSTOMERS\", \"RECORD_ID\": \"2211\", \"RECORD_TYPE\": \"PERSON\", \"PRIMARY_NAME_LAST\": \"Otter\", \"PRIMARY_NAME_FIRST\": \"Otto\", \"ADDR_LINE1\": \"1824 AspenOak Way\", \"ADDR_CITY\": \"Elmwood Park\", \"ADDR_STATE\": \"CA\", \"ADDR_POSTAL_CODE\": \"95865\", \"EMAIL_ADDRESS\": \"info@ca-state.gov\"}\n",
      "{\"DATA_SOURCE\": \"CUSTOMERS\", \"RECORD_ID\": \"2212\", \"RECORD_TYPE\": \"PERSON\", \"PRIMARY_NAME_LAST\": \"Pemberton\", \"PRIMARY_NAME_FIRST\": \"Penny\", \"ADDR_LINE1\": \"1824 AspenOak Way\", \"ADDR_CITY\": \"Elmwood Park\", \"ADDR_STATE\": \"CA\", \"ADDR_POSTAL_CODE\": \"95823\", \"EMAIL_ADDRESS\": \"info@ca-state.gov\"}\n",
      "{\"DATA_SOURCE\": \"CUSTOMERS\", \"RECORD_ID\": \"2213\", \"RECORD_TYPE\": \"PERSON\", \"PRIMARY_NAME_LAST\": \"Kellar\", \"PRIMARY_NAME_FIRST\": \"Candace\", \"ADDR_LINE1\": \"1824 AspenOak Way\", \"ADDR_CITY\": \"Elmwood Park\", \"ADDR_STATE\": \"CA\", \"ADDR_POSTAL_CODE\": \"95865\", \"EMAIL_ADDRESS\": \"info@ca-state.gov\"}\n",
      "{\"DATA_SOURCE\": \"CUSTOMERS\", \"RECORD_ID\": \"2214\", \"RECORD_TYPE\": \"PERSON\", \"PRIMARY_NAME_LAST\": \"Sanders\", \"PRIMARY_NAME_FIRST\": \"Sandy\", \"ADDR_LINE1\": \"1376 BlueBell Rd\", \"ADDR_CITY\": \"Sacramento\", \"ADDR_STATE\": \"CA\", \"ADDR_POSTAL_CODE\": \"95823\", \"EMAIL_ADDRESS\": \"info@ca-state.gov\"}\n",
      "{\"DATA_SOURCE\": \"REFERENCE\", \"RECORD_ID\": \"2012\", \"RECORD_TYPE\": \"ORGANIZATION\", \"PRIMARY_NAME_ORG\": \"Hajah Maimunah\", \"ADDR_TYPE\": \"REGISTERED\", \"ADDR_LINE1\": \"4 Hillview Rise\", \"ADDR_CITY\": \"SINGAPORE\", \"ADDR_POSTAL_CODE\": \"667979\", \"ADDR_COUNTRY\": \"Singapore\", \"REL_ANCHOR_KEY\": \"2011\", \"DATE\": \"2010\", \"STATUS\": \"Active\", \"CATEGORY\": \"Proprietorship\"}\n",
      "{\"DATA_SOURCE\": \"REFERENCE\", \"RECORD_ID\": \"2013\", \"RECORD_TYPE\": \"PERSON\", \"PRIMARY_NAME_FULL\": \"Wang Jie\", \"DATE_OF_BIRTH\": \"1993-09-14\", \"REL_POINTER_KEY\": \"2011\", \"REL_POINTER_ROLE\": \"Owns 60%\", \"STATUS\": \"Current\", \"CATEGORY\": \"Owner\"}\n",
      "{\"DATA_SOURCE\": \"REFERENCE\", \"RECORD_ID\": \"2014\", \"RECORD_TYPE\": \"PERSON\", \"PRIMARY_NAME_FULL\": \"Wang Wei\", \"DATE_OF_BIRTH\": \"1997-09-14\", \"REL_POINTER_KEY\": \"2011\", \"REL_POINTER_ROLE\": \"Owns 40%\", \"STATUS\": \"Current\", \"CATEGORY\": \"Owner\"}\n",
      "{\"DATA_SOURCE\": \"REFERENCE\", \"RECORD_ID\": \"2041\", \"RECORD_TYPE\": \"ORGANIZATION\", \"PRIMARY_NAME_ORG\": \"M\\u00fcllenkranz \", \"SECONDARY_NAME_ORG\": \"Autowerkz\", \"ADDR_TYPE\": \"PRIMARY\", \"ADDR_LINE1\": \"Hardenbergstra\\u00dfe 87\", \"ADDR_CITY\": \"Rheinland-Pfalz\", \"ADDR_POSTAL_CODE\": \"66879\", \"ADDR_COUNTRY\": \"Germany\", \"REL_ANCHOR_KEY\": \"2041\", \"DATE\": \"2009\", \"STATUS\": \"Inactive\", \"CATEGORY\": \"Partnership\"}\n",
      "{\"DATA_SOURCE\": \"REFERENCE\", \"RECORD_ID\": \"2051\", \"RECORD_TYPE\": \"PERSON\", \"EMPLOYER_NAME\": \"M\\u00fcllenkranz\", \"PRIMARY_NAME_FULL\": \"Faisal Siddiqui\", \"ADDR_TYPE\": \"HOME\", \"ADDR_LINE1\": \"Jia Musa Shahdara Sheikhupura Road\", \"ADDR_CITY\": \"Lahore\", \"ADDR_COUNTRY\": \"Pakistan\", \"PHONE_NUMBER\": \"+92 42-7925774\", \"REL_POINTER_KEY\": \"2041\", \"REL_POINTER_ROLE\": \"President\", \"STATUS\": \"Current\", \"CATEGORY\": \"President\"}\n",
      "{\"DATA_SOURCE\": \"REFERENCE\", \"RECORD_ID\": \"2061\", \"RECORD_TYPE\": \"PERSON\", \"EMPLOYER_NAME\": \"M\\u00fcllenkranz\", \"NATIVE_NAME_FULL\": \"\\u0412\\u0410\\u0421\\u0406\\u041b\\u042c\\u0415\\u040e, \\u0410\\u043b\\u044f\\u043a\\u0441\\u0430\\u043d\\u0434\\u0440 \\u041f\\u0430\\u045e\\u043b\\u0430\\u0432\\u0456\\u0447\", \"ADDR_FULL\": \"Tolmacheva Ul., bld. 8, appt. 71 Smolensk\", \"ADDR_COUNTRY\": \"RUS\", \"PHONE_TYPE\": \"PRIMARY\", \"PHONE_NUMBER\": \"+7(4812)85-62-34\", \"REL_POINTER_KEY\": \"2041\", \"REL_POINTER_ROLE\": \"Owns 100%\", \"STATUS\": \"Current\", \"CATEGORY\": \"Owner\"}\n",
      "{\"DATA_SOURCE\": \"REFERENCE\", \"RECORD_ID\": \"2071\", \"RECORD_TYPE\": \"ORGANIZATION\", \"PRIMARY_NAME_ORG\": \"Universal Exports, USA\", \"SECONDARY_NAME_ORG\": \"Universal Exports\", \"ADDR_TYPE\": \"BUSINESS\", \"ADDR_FULL\": \"Hughes Plaza, 100 Howard Hughes Way, Las Vegas, NV 89111\", \"PHONE_NUMBER\": \"800-111-1234\", \"REL_ANCHOR_KEY\": \"2071\", \"REL_POINTER_KEY\": \"2074\", \"REL_POINTER_ROLE\": \"Global Parent\", \"DATE\": \"1990\", \"STATUS\": \"Active\", \"CATEGORY\": \"Corporation\"}\n",
      "{\"DATA_SOURCE\": \"REFERENCE\", \"RECORD_ID\": \"2074\", \"RECORD_TYPE\": \"ORGANIZATION\", \"PRIMARY_NAME_ORG\": \"Universal Exports Worldwide\", \"SECONDARY_NAME_ORG\": \"Universal Exports\", \"ADDR_TYPE\": \"REGISTERED\", \"ADDR_LINE1\": \"405 Lexington Avenue\", \"ADDR_CITY\": \"Manhattan\", \"ADDR_STATE\": \"NY\", \"ADDR_POSTAL_CODE\": \"10174\", \"REL_ANCHOR_KEY\": \"2074\", \"DATE\": \"1990\", \"STATUS\": \"Active\", \"CATEGORY\": \"Corporation\"}\n",
      "{\"DATA_SOURCE\": \"REFERENCE\", \"RECORD_ID\": \"2081\", \"RECORD_TYPE\": \"PERSON\", \"EMPLOYER_NAME\": \"Universal Exports Worldwide\", \"PRIMARY_NAME_FULL\": \"Howard Hughess\", \"REL_POINTER_KEY\": \"2074\", \"REL_POINTER_ROLE\": \"Owns 50%\", \"STATUS\": \"Current\", \"CATEGORY\": \"Owner\"}\n",
      "{\"DATA_SOURCE\": \"REFERENCE\", \"RECORD_ID\": \"2091\", \"RECORD_TYPE\": \"PERSON\", \"EMPLOYER_NAME\": \"Universal Exports Worldwide\", \"PRIMARY_NAME_FULL\": \"Margaret Charney\", \"REL_POINTER_KEY\": \"2074\", \"REL_POINTER_ROLE\": \"Owns 50%\", \"STATUS\": \"Current\", \"CATEGORY\": \"Owner\"}\n",
      "{\"DATA_SOURCE\": \"REFERENCE\", \"RECORD_ID\": \"2101\", \"RECORD_TYPE\": \"PERSON\", \"EMPLOYER_NAME\": \"Universal Exports, USA\", \"PRIMARY_NAME_FULL\": \"Keeley Jones\", \"PHONE_NUMBER\": \"818-892-2818\", \"EMAIL_ADDRESS\": \"kjones@universal.com\", \"REL_POINTER_KEY\": \"2071\", \"REL_POINTER_ROLE\": \"Principal\", \"STATUS\": \"Current\", \"CATEGORY\": \"Director\"}\n",
      "{\"DATA_SOURCE\": \"REFERENCE\", \"RECORD_ID\": \"2102\", \"RECORD_TYPE\": \"PERSON\", \"PRIMARY_NAME_FULL\": \"Jones, Kaylee\", \"PHONE_NUMBER\": \"18188922818\", \"EMAIL_ADDRESS\": \"kjones@universal.com\", \"STATUS\": \"Active\", \"CATEGORY\": \"Contact\"}\n",
      "{\"DATA_SOURCE\": \"REFERENCE\", \"RECORD_ID\": \"2111\", \"RECORD_TYPE\": \"PERSON\", \"EMPLOYER_NAME\": \"Universal Exports, USA\", \"PRIMARY_NAME_FULL\": \"Susan Meyer\", \"ADDR_TYPE\": \"PRIMARY\", \"ADDR_LINE1\": \"Fieldstrasse 10, FL-2198 Triesen\", \"ADDR_COUNTRY\": \"Lichtenstein\", \"REL_POINTER_KEY\": \"2071\", \"REL_POINTER_ROLE\": \"Principal\", \"STATUS\": \"Current\", \"CATEGORY\": \"Director\"}\n",
      "{\"DATA_SOURCE\": \"REFERENCE\", \"RECORD_ID\": \"2112\", \"RECORD_TYPE\": \"PERSON\", \"PRIMARY_NAME_FULL\": \"Susan Meyer Thomas\", \"ADDR_TYPE\": \"PRIMARY\", \"ADDR_FULL\": \"Fieldstrasse 10, FL-2198 Triesen, Lichtenstein\", \"STATUS\": \"Active\", \"CATEGORY\": \"Contact\"}\n",
      "{\"DATA_SOURCE\": \"REFERENCE\", \"RECORD_ID\": \"2121\", \"RECORD_TYPE\": \"PERSON\", \"EMPLOYER_NAME\": \"Universal Exports, USA\", \"PRIMARY_NAME_FULL\": \"Kristen Salinger\", \"ADDR_TYPE\": \"PRIMARY\", \"ADDR_LINE1\": \"123 King street\", \"ADDR_CITY\": \"New York\", \"ADDR_STATE\": \"NY\", \"ADDR_POSTAL_CODE\": \"10012\", \"PHONE_TYPE\": \"MOBILE\", \"PHONE_NUMBER\": \"320-392-2137\", \"REL_POINTER_KEY\": \"2071\", \"REL_POINTER_ROLE\": \"Principal\", \"STATUS\": \"Current\", \"CATEGORY\": \"Director\"}\n",
      "{\"DATA_SOURCE\": \"REFERENCE\", \"RECORD_ID\": \"2122\", \"RECORD_TYPE\": \"PERSON\", \"PRIMARY_NAME_FULL\": \"Salenger, Kristin\", \"ADDR_TYPE\": \"PRIMARY\", \"ADDR_LINE1\": \"8321 Duke Street\", \"ADDR_CITY\": \"Los Angeles\", \"ADDR_STATE\": \"CA\", \"ADDR_POSTAL_CODE\": \"90015\", \"PHONE_TYPE\": \"MOBILE\", \"PHONE_NUMBER\": \"(320) 392-2137\", \"STATUS\": \"Active\", \"CATEGORY\": \"Contact\"}\n",
      "{\"DATA_SOURCE\": \"REFERENCE\", \"RECORD_ID\": \"2131\", \"RECORD_TYPE\": \"PERSON\", \"EMPLOYER_NAME\": \"Universal Exports, USA\", \"PRIMARY_NAME_FULL\": \"Rosemay A Thomas\", \"ADDR_TYPE\": \"PRIMARY\", \"ADDR_FULL\": \"18 Danver Place, Loughborough, Leicestershire, LE11 1UU, United Kingdom\", \"REL_POINTER_KEY\": \"2071\", \"REL_POINTER_ROLE\": \"Principal\", \"STATUS\": \"Current\", \"CATEGORY\": \"Director\"}\n",
      "{\"DATA_SOURCE\": \"REFERENCE\", \"RECORD_ID\": \"2132\", \"RECORD_TYPE\": \"PERSON\", \"PRIMARY_NAME_LAST\": \"Thomas\", \"PRIMARY_NAME_FIRST\": \"Rosemary A\", \"ADDR_TYPE\": \"PRIMARY\", \"ADDR_FULL\": \"18 Danver Place, Loughborough, Leicestershire, United Kingdom, LE11 1UU\", \"STATUS\": \"Active\", \"CATEGORY\": \"Contact\"}\n",
      "{\"DATA_SOURCE\": \"REFERENCE\", \"RECORD_ID\": \"2141\", \"RECORD_TYPE\": \"ORGANIZATION\", \"PRIMARY_NAME_ORG\": \"Universal Exports Singapore\", \"SECONDARY_NAME_ORG\": \"Universal Exports\", \"ADDR_TYPE\": \"REGISTERED\", \"ADDR_FULL\": \"Chinatown Point, 133 New Bridge Road, 059413 singapore\", \"ADDR_COUNTRY\": \"Singapore\", \"REL_POINTER_KEY\": \"2074\", \"REL_POINTER_ROLE\": \"Global Parent\", \"DATE\": \"1994\", \"STATUS\": \"Active\", \"CATEGORY\": \"Corporation\"}\n",
      "{\"DATA_SOURCE\": \"REFERENCE\", \"RECORD_ID\": \"2151\", \"RECORD_TYPE\": \"ORGANIZATION\", \"PRIMARY_NAME_ORG\": \"Universal Exports India\", \"SECONDARY_NAME_ORG\": \"Universal Exports\", \"ADDR_TYPE\": \"REGISTERED\", \"ADDR_FULL\": \"Mullanpara Road, Vythiri, 673576, India\", \"REL_POINTER_KEY\": \"2074\", \"REL_POINTER_ROLE\": \"Global Parent\", \"DATE\": \"1998\", \"STATUS\": \"Active\", \"CATEGORY\": \"Corporation\"}\n",
      "{\"DATA_SOURCE\": \"REFERENCE\", \"RECORD_ID\": \"2161\", \"RECORD_TYPE\": \"PERSON\", \"EMPLOYER_NAME\": \"Universal Exports, USA\", \"PRIMARY_NAME_LAST\": \"Alexopoulos\", \"PRIMARY_NAME_FIRST\": \"Anastassia\", \"ADDR_TYPE\": \"HOME\", \"ADDR_LINE1\": \"6781 Metaxa Forest, Suite 296\", \"ADDR_CITY\": \"Athens\", \"ADDR_STATE\": \"GA\", \"ADDR_POSTAL_CODE\": \"30009\", \"EMAIL_ADDRESS\": \"Nastassia<patak@universal.com>\", \"REL_POINTER_KEY\": \"2071\", \"REL_POINTER_ROLE\": \"Principal\", \"STATUS\": \"Current\", \"CATEGORY\": \"Director\"}\n",
      "{\"DATA_SOURCE\": \"REFERENCE\", \"RECORD_ID\": \"2162\", \"RECORD_TYPE\": \"PERSON\", \"PRIMARY_NAME_FULL\": \"Alexopoulos, Nastassia\", \"ADDR_TYPE\": \"PRIMARY\", \"ADDR_LINE1\": \"6781 Metaxa Forest\", \"ADDR_CITY\": \"Athens\", \"ADDR_STATE\": \"GA\", \"ADDR_POSTAL_CODE\": \"30009\", \"EMAIL_ADDRESS\": \"patak@universal.com\", \"STATUS\": \"Active\", \"CATEGORY\": \"Contact\"}\n",
      "{\"DATA_SOURCE\": \"WATCHLIST\", \"RECORD_ID\": \"1006\", \"RECORD_TYPE\": \"PERSON\", \"PRIMARY_NAME_LAST\": \"Smith Sr\", \"PRIMARY_NAME_FIRST\": \"Robert\", \"PRIMARY_NAME_MIDDLE\": \"E\", \"DATE_OF_BIRTH\": \"3/31/1954\", \"DRIVERS_LICENSE_NUMBER\": \"112233\", \"DRIVERS_LICENSE_STATE\": \"NV\", \"ADDR_TYPE\": \"MAILING\", \"ADDR_LINE1\": \"123 Main St, Las Vegas \", \"DATE\": \"1/3/17\", \"STATUS\": \"Active\", \"CATEGORY\": \"Fraud\"}\n",
      "{\"DATA_SOURCE\": \"WATCHLIST\", \"RECORD_ID\": \"1007\", \"RECORD_TYPE\": \"PERSON\", \"PRIMARY_NAME_LAST\": \"Smith\", \"PRIMARY_NAME_FIRST\": \"Patricia\", \"ADDR_TYPE\": \"HOME\", \"ADDR_LINE1\": \"1515 Adela Ln, LV, NV\", \"ADDR_POSTAL_CODE\": \"89132\", \"EMAIL_ADDRESS\": \"psmith@email.com\", \"DATE\": \"2/4/20\", \"STATUS\": \"Active\", \"CATEGORY\": \"Fraud\"}\n",
      "{\"DATA_SOURCE\": \"WATCHLIST\", \"RECORD_ID\": \"1008\", \"RECORD_TYPE\": \"PERSON\", \"PRIMARY_NAME_LAST\": \"Smith\", \"PRIMARY_NAME_FIRST\": \"Robert\", \"EMAIL_ADDRESS\": \"robert.smith@email.com\", \"DATE\": \"3/5/19\", \"STATUS\": \"Active\", \"CATEGORY\": \"Fraud\"}\n",
      "{\"DATA_SOURCE\": \"WATCHLIST\", \"RECORD_ID\": \"1012\", \"RECORD_TYPE\": \"PERSON\", \"PRIMARY_NAME_LAST\": \"Kusha\", \"PRIMARY_NAME_FIRST\": \"Eddie\", \"DATE_OF_BIRTH\": \"3/1/1970\", \"ADDR_TYPE\": \"MAILING\", \"ADDR_LINE1\": \"1602 Brenville Pl, San Francisco, CA 94105\", \"ADDR_CITY\": \"San Francisco\", \"ADDR_STATE\": \"CA\", \"ADDR_POSTAL_CODE\": \"94105\", \"DATE\": \"4/6/19\", \"STATUS\": \"Active\", \"CATEGORY\": \"Fraud\"}\n",
      "{\"DATA_SOURCE\": \"WATCHLIST\", \"RECORD_ID\": \"1014\", \"RECORD_TYPE\": \"PERSON\", \"PRIMARY_NAME_LAST\": \"Knight\", \"PRIMARY_NAME_FIRST\": \"Eddie\", \"DATE_OF_BIRTH\": \"3/1/70\", \"SSN_NUMBER\": \"294-66-9999\", \"ADDR_TYPE\": \"MAILING\", \"ADDR_LINE1\": \"160 Brenville Pl\", \"ADDR_CITY\": \"San Francisco\", \"ADDR_STATE\": \"CA\", \"ADDR_POSTAL_CODE\": \"94105\", \"DATE\": \"5/7/15\", \"STATUS\": \"Inactive\", \"CATEGORY\": \"Fraud\"}\n",
      "{\"DATA_SOURCE\": \"WATCHLIST\", \"RECORD_ID\": \"1021\", \"RECORD_TYPE\": \"PERSON\", \"SSN_NUMBER\": \"201-77-7719\", \"ADDR_TYPE\": \"HOME\", \"ADDR_LINE1\": \"1304 Poppy Hills Dr\", \"ADDR_CITY\": \"Blacklick\", \"ADDR_STATE\": \"OH\", \"ADDR_POSTAL_CODE\": \"43004\", \"EMAIL_ADDRESS\": \"Kusha123@hmail.com\", \"DATE\": \"6/8/16\", \"STATUS\": \"Active\", \"CATEGORY\": \"Fraud\"}\n",
      "{\"DATA_SOURCE\": \"WATCHLIST\", \"RECORD_ID\": \"1024\", \"RECORD_TYPE\": \"PERSON\", \"PRIMARY_NAME_LAST\": \"Antoun\", \"PRIMARY_NAME_FIRST\": \"Mhd\", \"DATE_OF_BIRTH\": \"1/7/80\", \"DATE\": \"7/9/18\", \"STATUS\": \"Active\", \"CATEGORY\": \"Fraud\"}\n",
      "{\"DATA_SOURCE\": \"WATCHLIST\", \"RECORD_ID\": \"1027\", \"RECORD_TYPE\": \"PERSON\", \"PRIMARY_NAME_LAST\": \"Anderson\", \"PRIMARY_NAME_FIRST\": \"Darletta\", \"DATE_OF_BIRTH\": \"1/7/80\", \"DATE\": \"3/5/19\", \"STATUS\": \"Active\", \"CATEGORY\": \"Fraud\"}\n",
      "{\"DATA_SOURCE\": \"WATCHLIST\", \"RECORD_ID\": \"1029\", \"RECORD_TYPE\": \"PERSON\", \"PRIMARY_NAME_LAST\": \"Dobbins Senior\", \"PRIMARY_NAME_FIRST\": \"David\", \"ADDR_TYPE\": \"HOME\", \"ADDR_LINE1\": \"Suite 900, 1450 N City Rd\", \"ADDR_CITY\": \"Arlington\", \"ADDR_POSTAL_CODE\": \"23208\", \"DATE\": \"4/6/20\", \"STATUS\": \"Active\", \"CATEGORY\": \"Fraud\"}\n",
      "{\"DATA_SOURCE\": \"WATCHLIST\", \"RECORD_ID\": \"1037\", \"RECORD_TYPE\": \"PERSON\", \"PRIMARY_NAME_LAST\": \"Sentosa\", \"PRIMARY_NAME_FIRST\": \"Maria\", \"DATE_OF_BIRTH\": \"12/11/73\", \"DATE\": \"5/7/15\", \"STATUS\": \"Active\", \"CATEGORY\": \"Fraud\"}\n",
      "{\"DATA_SOURCE\": \"WATCHLIST\", \"RECORD_ID\": \"1038\", \"RECORD_TYPE\": \"PERSON\", \"PRIMARY_NAME_LAST\": \"Medina\", \"PRIMARY_NAME_FIRST\": \"Maria\", \"DATE_OF_BIRTH\": \"12/11/73\", \"ADDR_TYPE\": \"HOME\", \"ADDR_LINE1\": \"9304 W. 15th St La Blanca, FL 60527\", \"EMAIL_ADDRESS\": \"msentosa@fmail.com\", \"DATE\": \"1/3/19\", \"STATUS\": \"Active\", \"CATEGORY\": \"Fraud\"}\n",
      "{\"DATA_SOURCE\": \"WATCHLIST\", \"RECORD_ID\": \"1041\", \"RECORD_TYPE\": \"PERSON\", \"PRIMARY_NAME_LAST\": \"Smith\", \"PRIMARY_NAME_FIRST\": \"John\", \"ADDR_TYPE\": \"HOME\", \"ADDR_LINE1\": \"3212 W. 32nd St Palm Harbor, FL 60527\", \"DATE\": \"2/4/19\", \"STATUS\": \"Active\", \"CATEGORY\": \"Fraud\"}\n",
      "{\"DATA_SOURCE\": \"WATCHLIST\", \"RECORD_ID\": \"1042\", \"RECORD_TYPE\": \"PERSON\", \"PRIMARY_NAME_LAST\": \"Smith\", \"PRIMARY_NAME_FIRST\": \"John\", \"GENDER\": \"M\", \"ADDR_TYPE\": \"HOME\", \"ADDR_LINE1\": \"3212 W. 32nd St Palm Harbor, FL 60527\", \"DATE\": \"3/5/18\", \"STATUS\": \"Inactive\", \"CATEGORY\": \"Fraud\"}\n",
      "{\"DATA_SOURCE\": \"WATCHLIST\", \"RECORD_ID\": \"2052\", \"RECORD_TYPE\": \"PERSON\", \"NATIVE_NAME_FULL\": \"\\u0641\\u064a\\u0635\\u0644 \\u0635\\u062f\\u064a\\u0642\\u064a\", \"ADDR_TYPE\": \"PRIMARY\", \"ADDR_LINE1\": \"Jia Musa Shahdara Sheikhupura Road\", \"ADDR_CITY\": \"Lahore\", \"ADDR_COUNTRY\": \"Pakistan\", \"PHONE_NUMBER\": \"42-7925774\", \"DATE\": \"2/22/2002\", \"STATUS\": \"Current\", \"CATEGORY\": \"Sanctioned\"}\n",
      "{\"DATA_SOURCE\": \"WATCHLIST\", \"RECORD_ID\": \"2062\", \"RECORD_TYPE\": \"PERSON\", \"NATIVE_NAME_FULL\": \"\\u0412\\u0410\\u0421\\u0418\\u041b\\u042c\\u0415\\u0412, \\u0410\\u043b\\u0435\\u043a\\u0441\\u0430\\u043d\\u0434\\u0440 \\u041f\\u0430\\u0432\\u043b\\u043e\\u0432\\u0438\\u0447\", \"ADDR_LINE1\": \"Tolmacheva Ul., bld. 8, appt. 71 \", \"ADDR_CITY\": \"Smolensk\", \"PHONE_NUMBER\": \"(4812)85-62-34\", \"DATE\": \"4/14/2014\", \"STATUS\": \"Current\", \"CATEGORY\": \"Sanctioned\"}\n",
      "{\"DATA_SOURCE\": \"WATCHLIST\", \"RECORD_ID\": \"2082\", \"RECORD_TYPE\": \"PERSON\", \"EMPLOYER_NAME\": \"Universal Exports\", \"PRIMARY_NAME_FULL\": \"Hughes, Howard\", \"ADDR_TYPE\": \"HOME\", \"ADDR_LINE1\": \"1231 Las Vegas Blvd, Penthouse Suite\", \"ADDR_CITY\": \"Las Vegas\", \"ADDR_STATE\": \"NV\", \"DATE\": \"4/3/2019\", \"STATUS\": \"Current\", \"CATEGORY\": \"PEP\"}\n",
      "{\"DATA_SOURCE\": \"WATCHLIST\", \"RECORD_ID\": \"2092\", \"RECORD_TYPE\": \"PERSON\", \"EMPLOYER_NAME\": \"Universal Exports\", \"PRIMARY_NAME_FULL\": \"Charney, Peggie\", \"DATE\": \"4/3/2019\", \"STATUS\": \"Current\", \"CATEGORY\": \"PEP\"}\n"
     ]
    }
   ],
   "source": [
    "%%\n",
    "homePath := \"./\"\n",
    "truthSetFilenames := getTruthSetFilenames()\n",
    "\n",
    "for i := 0; i < len(truthSetFilenames); i++ {\n",
    "    filepath := fmt.Sprintf(\"%s%s\", homePath, truthSetFilenames[i])\n",
    "    file, err := os.Open(filepath)\n",
    "    if err != nil {\n",
    "        panic(err)\n",
    "    }\n",
    "    defer file.Close()   \n",
    "\n",
    "    scanner := bufio.NewScanner(file)\n",
    "    for scanner.Scan() {\n",
    "        fmt.Println(scanner.Text())\n",
    "    }\n",
    "\n",
    "    if err := scanner.Err(); err != nil {\n",
    "        log.Fatal(err)\n",
    "    }    \n",
    "}"
   ]
  },
  {
   "cell_type": "markdown",
   "id": "847fe215-7295-451d-af26-e02b96785c8c",
   "metadata": {},
   "source": [
    "## Update Senzing configuration"
   ]
  },
  {
   "cell_type": "markdown",
   "id": "edb6eba8-f9ec-4838-a11f-afac1a204abb",
   "metadata": {},
   "source": [
    "Create an [abstract factory] for accessing Senzing via gRPC.\n",
    "\n",
    "[abstract factory]: https://en.wikipedia.org/wiki/Abstract_factory_pattern"
   ]
  },
  {
   "cell_type": "code",
   "execution_count": null,
   "id": "f15d4a45-0efb-470e-9ab5-ab4c983c9bb1",
   "metadata": {},
   "outputs": [],
   "source": []
  },
  {
   "cell_type": "markdown",
   "id": "4bf3bee2-0286-421e-aa10-3dcff1c8f575",
   "metadata": {},
   "source": [
    "Using the abstract factory, create Senzing objects."
   ]
  },
  {
   "cell_type": "code",
   "execution_count": null,
   "id": "e63c8471-baa5-4f58-ba0c-2fcef6f1d86c",
   "metadata": {},
   "outputs": [],
   "source": []
  },
  {
   "cell_type": "markdown",
   "id": "9d66494e-ecc7-4fe2-a563-8aa0e41616c6",
   "metadata": {},
   "source": [
    "Get current Senzing configuration."
   ]
  },
  {
   "cell_type": "code",
   "execution_count": null,
   "id": "8857f25b-d55d-42e4-a6e3-1d7bc35b57c1",
   "metadata": {},
   "outputs": [],
   "source": []
  },
  {
   "cell_type": "markdown",
   "id": "ed24476a-0979-4c6b-9243-d119a7d49f48",
   "metadata": {},
   "source": [
    "Add DataSources to Senzing configuration."
   ]
  },
  {
   "cell_type": "code",
   "execution_count": null,
   "id": "34b8cf1e-ba63-4084-8486-9426cfeecf31",
   "metadata": {},
   "outputs": [],
   "source": []
  },
  {
   "cell_type": "markdown",
   "id": "3bfd934f-1041-405f-9253-db4096385e39",
   "metadata": {},
   "source": [
    "Persist new Senzing configuration."
   ]
  },
  {
   "cell_type": "code",
   "execution_count": null,
   "id": "8beac8c5-3368-4cef-b561-d90b541c3e3a",
   "metadata": {},
   "outputs": [],
   "source": []
  },
  {
   "cell_type": "markdown",
   "id": "2ffc09e3-dc87-4fc0-9b01-63f3d8885661",
   "metadata": {},
   "source": [
    "With the change in Senzing configuration, Senzing objects need to be updated."
   ]
  },
  {
   "cell_type": "code",
   "execution_count": null,
   "id": "9c843e84-cc89-460c-9036-641d78218c6a",
   "metadata": {},
   "outputs": [],
   "source": []
  },
  {
   "cell_type": "markdown",
   "id": "3bca3570-9da5-4aca-b9db-1c01695e97d8",
   "metadata": {},
   "source": [
    "## Add records"
   ]
  },
  {
   "cell_type": "markdown",
   "id": "35ed65ef-5607-4807-9c13-3c1c7907bc6a",
   "metadata": {},
   "source": [
    "Print help for `sz_engine.add_record()` to see parameters."
   ]
  },
  {
   "cell_type": "code",
   "execution_count": null,
   "id": "eaa34d6e-0dfe-4af6-b6d7-f0f219ecc7b4",
   "metadata": {},
   "outputs": [],
   "source": []
  },
  {
   "cell_type": "markdown",
   "id": "3dc91753-7825-4eda-a64b-b1bb2a48f944",
   "metadata": {},
   "source": [
    "Call Senzing repeatedly to add records."
   ]
  },
  {
   "cell_type": "code",
   "execution_count": null,
   "id": "3bbbd3f9-6d35-48e5-9927-eea2805bcc74",
   "metadata": {},
   "outputs": [],
   "source": []
  },
  {
   "cell_type": "markdown",
   "id": "f43f49c9-3aa2-49f4-baa7-68a801f83fc9",
   "metadata": {},
   "source": [
    "## View results"
   ]
  },
  {
   "cell_type": "markdown",
   "id": "ac81b0b0-1c17-450c-b04e-18c4ef54fc24",
   "metadata": {},
   "source": [
    "Retrieve an entity by identifying a record of the entity. Use the `SZ_ENTITY_INCLUDE_RECORD_SUMMARY` flag from among the [get_entity flags].\n",
    "\n",
    "[get_entity flags]: https://senzing.com/docs/4_beta/flags/flags_get_entity/"
   ]
  },
  {
   "cell_type": "code",
   "execution_count": null,
   "id": "a1d50a95-6470-4e5f-944d-41e0662f92cf",
   "metadata": {},
   "outputs": [],
   "source": []
  },
  {
   "cell_type": "markdown",
   "id": "8996fd0d-f607-4a91-84f6-093dd4e88e97",
   "metadata": {},
   "source": [
    "Search for entities by attributes."
   ]
  },
  {
   "cell_type": "code",
   "execution_count": null,
   "id": "1ff90ba8-7054-42a1-a8b1-133b9dd7f81e",
   "metadata": {},
   "outputs": [],
   "source": []
  }
 ],
 "metadata": {
  "kernelspec": {
   "display_name": "Go (gonb)",
   "language": "go",
   "name": "gonb"
  },
  "language_info": {
   "codemirror_mode": "",
   "file_extension": ".go",
   "mimetype": "",
   "name": "go",
   "nbconvert_exporter": "",
   "pygments_lexer": "",
   "version": "go1.23.3"
  }
 },
 "nbformat": 4,
 "nbformat_minor": 5
}

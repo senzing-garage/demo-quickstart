{
 "cells": [
  {
   "cell_type": "markdown",
   "id": "ed864bf9-c2eb-409b-aa7a-0981ae8a9e1a",
   "metadata": {},
   "source": [
    "# Load Senzing truth-sets\n",
    "\n",
    "These instructions load the [Senzing truth-sets] into the Senzing engine.\n",
    "\n",
    "In this exercise:\n",
    "\n",
    "1. [Senzing truth-sets] are downloaded from the internet.\n",
    "1. Data source names are extracted from the downloaded data.\n",
    "1. The data source names are added to the Senzing configuration.\n",
    "1. Records from the downloaded data are added to Senzing.\n",
    "1. Example queries are demonstrated.\n",
    "\n",
    "**Warning**:\n",
    "Remember that the notebooks are not permanent when using the Playground docker container. \n",
    "You can save a notebook to your workstation by selecting <b>File</b> > <b>Download</b> in Jupyter Lab.\n",
    "\n",
    "[Senzing truth-sets]: https://github.com/Senzing/truth-sets"
   ]
  },
  {
   "cell_type": "markdown",
   "id": "8a28a8ad-9db4-4841-82db-655bc01258b3",
   "metadata": {},
   "source": [
    "## Prepare Go enviroment"
   ]
  },
  {
   "cell_type": "markdown",
   "id": "a954a605-4e27-4824-b8fa-0a9c5be389f3",
   "metadata": {},
   "source": [
    "Define global imports, types, variables, and functions."
   ]
  },
  {
   "cell_type": "code",
   "execution_count": null,
   "id": "c2793d3b-5476-416a-825f-79a4ebc29a4b",
   "metadata": {},
   "outputs": [],
   "source": [
    "import (\n",
    "\t\"google.golang.org/grpc\"\n",
    "\t\"google.golang.org/grpc/credentials/insecure\"\n",
    "    \"github.com/senzing-garage/sz-sdk-go-grpc/szabstractfactory\"\n",
    "    \"github.com/senzing-garage/sz-sdk-go/senzing\"    \n",
    ")\n",
    "\n",
    "type DataSourceKey struct {\n",
    "    Data_Source      string\n",
    "}\n",
    "\n",
    "type Record struct {\n",
    "    Data_Source      string\n",
    "    Record_ID        string\n",
    "}\n",
    "\n",
    "var (\n",
    "    ctx = context.TODO()\n",
    "    err error\n",
    "\tgrpcAddress    = \"localhost:8261\"\n",
    "    jsonDataSource DataSourceKey\n",
    "    homePath = \"./\"\n",
    "    jsonRecord Record    \n",
    "    szConfig senzing.SzConfig\n",
    "    truthSetURLPrefix = \"https://raw.githubusercontent.com/Senzing/truth-sets/refs/heads/main/truthsets/demo/\"\n",
    "    truthSetFileNames = []string{\"customers.json\", \"reference.json\", \"watchlist.json\"}\n",
    ")   "
   ]
  },
  {
   "cell_type": "markdown",
   "id": "aea8c8b1-37bd-4a57-88aa-80a4831d8edc",
   "metadata": {},
   "source": [
    "Create a function for testing error conditions."
   ]
  },
  {
   "cell_type": "code",
   "execution_count": null,
   "id": "408848dd-5143-424d-bba5-d3174d201fe8",
   "metadata": {},
   "outputs": [],
   "source": [
    "func testErr(err error) {\n",
    "    if err != nil {\n",
    "        panic(err)\n",
    "    }\n",
    "}"
   ]
  },
  {
   "cell_type": "markdown",
   "id": "23722b20-5ac9-44b8-9956-215da7e82839",
   "metadata": {},
   "source": [
    "Create a function for getting an SzAbstractFactory that talks over gRPC."
   ]
  },
  {
   "cell_type": "code",
   "execution_count": null,
   "id": "ceb65bc4-349f-4a1d-ad79-4de4dc8a608c",
   "metadata": {},
   "outputs": [],
   "source": [
    "func getSzAbstractFactory() senzing.SzAbstractFactory {\n",
    "    grpcConnection, err := grpc.NewClient(grpcAddress, grpc.WithTransportCredentials(insecure.NewCredentials()))\n",
    "    testErr(err)\n",
    "    return &szabstractfactory.Szabstractfactory{\n",
    "    \tGrpcConnection: grpcConnection,\n",
    "    }    \n",
    "} "
   ]
  },
  {
   "cell_type": "markdown",
   "id": "88036967-f2d9-494b-9934-db01d6fe60f0",
   "metadata": {},
   "source": [
    "Create functions for getting Senzing objects from the SzAbstractFactory."
   ]
  },
  {
   "cell_type": "code",
   "execution_count": null,
   "id": "055547af-31ef-48de-a693-09fcf8ff1a20",
   "metadata": {},
   "outputs": [],
   "source": [
    "func getSzConfig(ctx context.Context, szAbstractFactory senzing.SzAbstractFactory) senzing.SzConfig {\n",
    "    result, err := szAbstractFactory.CreateConfig(ctx)\n",
    "    testErr(err)\n",
    "    return result\n",
    "}\n",
    "\n",
    "func getSzConfigManager(ctx context.Context, szAbstractFactory senzing.SzAbstractFactory) senzing.SzConfigManager {\n",
    "    result, err := szAbstractFactory.CreateConfigManager(ctx)\n",
    "    testErr(err)\n",
    "    return result\n",
    "}\n",
    "\n",
    "func getSzDiagnostic(ctx context.Context, szAbstractFactory senzing.SzAbstractFactory) senzing.SzDiagnostic {\n",
    "    result, err := szAbstractFactory.CreateDiagnostic(ctx)\n",
    "    testErr(err)\n",
    "    return result\n",
    "}\n",
    "\n",
    "func getSzEngine(ctx context.Context, szAbstractFactory senzing.SzAbstractFactory) senzing.SzEngine {\n",
    "    result, err := szAbstractFactory.CreateEngine(ctx)\n",
    "    testErr(err)\n",
    "    return result\n",
    "}\n",
    "\n",
    "func getSzProduct(ctx context.Context, szAbstractFactory senzing.SzAbstractFactory) senzing.SzProduct {\n",
    "    result, err := szAbstractFactory.CreateProduct(ctx)\n",
    "    testErr(err)\n",
    "    return result\n",
    "}"
   ]
  },
  {
   "cell_type": "markdown",
   "id": "70a1d1bb-0b64-4458-a737-9573772839d2",
   "metadata": {},
   "source": [
    " Create a function for downloading file via URL."
   ]
  },
  {
   "cell_type": "code",
   "execution_count": null,
   "id": "e401b3a3-f40b-4403-997a-4f28c0fdaba5",
   "metadata": {},
   "outputs": [],
   "source": [
    "func downloadFile(url string, filepath string) error {\n",
    "\toutputFile, err := os.Create(filepath)\n",
    "\tif err != nil {\n",
    "\t\treturn err\n",
    "\t}\n",
    "\tdefer outputFile.Close()\n",
    "\n",
    "\tresponse, err := http.Get(url)\n",
    "\tif err != nil {\n",
    "\t\treturn err\n",
    "\t}\n",
    "\tdefer response.Body.Close()\n",
    "\n",
    "\t_, err = io.Copy(outputFile, response.Body)\n",
    "\tif err != nil {\n",
    "\t\treturn err\n",
    "\t}\n",
    "\n",
    "\treturn nil\n",
    "}"
   ]
  },
  {
   "cell_type": "markdown",
   "id": "7957728f-b2f7-4bab-bdbf-7bfc3198824a",
   "metadata": {},
   "source": [
    "Create a function for extracting \"DATA_SOURCE\" values from JSON lines in files."
   ]
  },
  {
   "cell_type": "code",
   "execution_count": null,
   "id": "d0878137-ed16-4c2a-9fd7-6f0c6419e610",
   "metadata": {},
   "outputs": [],
   "source": [
    "func getDataSources() []string {\n",
    "    result := []string{}\n",
    "    for i := 0; i < len(truthSetFileNames); i++ {\n",
    "        filepath := fmt.Sprintf(\"%s%s\", homePath, truthSetFileNames[i])\n",
    "        file, err := os.Open(filepath)\n",
    "        if err != nil {\n",
    "            panic(err)\n",
    "        }\n",
    "        defer file.Close()   \n",
    "\n",
    "        scanner := bufio.NewScanner(file)\n",
    "        for scanner.Scan() {\n",
    "            line := scanner.Bytes()\n",
    "            err := json.Unmarshal(line, &jsonDataSource)  \n",
    "            testErr(err)\n",
    "            if !slices.Contains(result, jsonDataSource.Data_Source) {\n",
    "                result = append(result, jsonDataSource.Data_Source) \n",
    "            }        \n",
    "        }\n",
    "\n",
    "        if err := scanner.Err(); err != nil {\n",
    "            log.Fatal(err)\n",
    "        }    \n",
    "    }\n",
    "    return result\n",
    "}"
   ]
  },
  {
   "cell_type": "markdown",
   "id": "9ea0deba-8ed6-45e4-85a2-7df083bd724f",
   "metadata": {},
   "source": [
    "Download truth-set files."
   ]
  },
  {
   "cell_type": "code",
   "execution_count": null,
   "id": "178f794a-b19c-46f0-94cc-215ffea76aca",
   "metadata": {},
   "outputs": [],
   "source": [
    "%% \n",
    "for i := 0; i < len(truthSetFileNames); i++ {\n",
    "    url := fmt.Sprintf(\"%s/%s\", truthSetURLPrefix, truthSetFileNames[i])\n",
    "    filepath := fmt.Sprintf(\"%s%s\", homePath, truthSetFileNames[i])\n",
    "    err := downloadFile(url, filepath)\n",
    "    testErr(err)\n",
    "}"
   ]
  },
  {
   "cell_type": "markdown",
   "id": "3a73d9c6-e25a-4617-b20b-1984d387f927",
   "metadata": {},
   "source": [
    "## Identify data sources"
   ]
  },
  {
   "cell_type": "markdown",
   "id": "75cfe9ad-ecaf-4f1a-a380-c8fb54fd00a5",
   "metadata": {},
   "source": [
    "Discover `DATA_SOURCE` values in records."
   ]
  },
  {
   "cell_type": "code",
   "execution_count": null,
   "id": "3e153ec0-f932-4efa-a68b-74d89266fc3b",
   "metadata": {},
   "outputs": [],
   "source": [
    "var dataSources = getDataSources()\n",
    "\n",
    "%%\n",
    "fmt.Printf(\"Found the following DATA_SOURCE values in the data: %v\\n\", dataSources)"
   ]
  },
  {
   "cell_type": "markdown",
   "id": "847fe215-7295-451d-af26-e02b96785c8c",
   "metadata": {},
   "source": [
    "## Update Senzing configuration"
   ]
  },
  {
   "cell_type": "markdown",
   "id": "edb6eba8-f9ec-4838-a11f-afac1a204abb",
   "metadata": {},
   "source": [
    "Create an [abstract factory] for accessing Senzing via gRPC.\n",
    "\n",
    "[abstract factory]: https://en.wikipedia.org/wiki/Abstract_factory_pattern"
   ]
  },
  {
   "cell_type": "code",
   "execution_count": null,
   "id": "f15d4a45-0efb-470e-9ab5-ab4c983c9bb1",
   "metadata": {},
   "outputs": [],
   "source": [
    "var szAbstractFactory = getSzAbstractFactory()"
   ]
  },
  {
   "cell_type": "markdown",
   "id": "4bf3bee2-0286-421e-aa10-3dcff1c8f575",
   "metadata": {},
   "source": [
    "Using the abstract factory, create Senzing objects.\n",
    "**Note:** This implementation is a little awkward, but it is needed to make global variables using the [gonb] Jupyter Kernel.\n",
    "Normally it would be something like:\n",
    "\n",
    "```go\n",
    "szConfig, err := szAbstractFactory.CreateConfig(ctx)\n",
    "```\n",
    "\n",
    "[gonb]: https://github.com/janpfeifer/gonb"
   ]
  },
  {
   "cell_type": "code",
   "execution_count": null,
   "id": "e63c8471-baa5-4f58-ba0c-2fcef6f1d86c",
   "metadata": {},
   "outputs": [],
   "source": [
    "var szConfig = getSzConfig(ctx, szAbstractFactory)\n",
    "var szConfigManager = getSzConfigManager(ctx, szAbstractFactory)\n",
    "var szDiagnostic = getSzDiagnostic(ctx, szAbstractFactory)"
   ]
  },
  {
   "cell_type": "markdown",
   "id": "9d66494e-ecc7-4fe2-a563-8aa0e41616c6",
   "metadata": {},
   "source": [
    "Get current Senzing configuration."
   ]
  },
  {
   "cell_type": "code",
   "execution_count": null,
   "id": "8857f25b-d55d-42e4-a6e3-1d7bc35b57c1",
   "metadata": {},
   "outputs": [],
   "source": [
    "%%\n",
    "oldConfigID, err := szConfigManager.GetDefaultConfigID(ctx)\n",
    "testErr(err)\n",
    "oldJsonConfig, err := szConfigManager.GetConfig(ctx, oldConfigID)\n",
    "testErr(err)\n",
    "configHandle, err := szConfig.ImportConfig(ctx, oldJsonConfig)\n",
    "testErr(err)\n",
    "\n",
    "for _, value := range dataSources {\n",
    "    _, err := szConfig.AddDataSource(ctx, configHandle, value)\n",
    "    if err != nil {\n",
    "        fmt.Println(err)\n",
    "    }\n",
    "}  \n",
    "\n",
    "newJsonConfig, err := szConfig.ExportConfig(ctx, configHandle)\n",
    "testErr(err)\n",
    "\n",
    "newConfigID, err := szConfigManager.AddConfig(ctx, newJsonConfig, \"Add TruthSet datasources\")\n",
    "testErr(err)\n",
    "\n",
    "\n",
    "err = szConfigManager.ReplaceDefaultConfigID(ctx, oldConfigID, newConfigID)\n",
    "testErr(err)\n",
    "\n",
    "szAbstractFactory.Reinitialize(ctx, newConfigID)\n",
    "\n",
    "fmt.Printf(\"Old: %d; New: %d\\n\", oldConfigID, newConfigID)\n"
   ]
  },
  {
   "cell_type": "markdown",
   "id": "ed24476a-0979-4c6b-9243-d119a7d49f48",
   "metadata": {},
   "source": [
    "Add DataSources to Senzing configuration."
   ]
  },
  {
   "cell_type": "code",
   "execution_count": null,
   "id": "34b8cf1e-ba63-4084-8486-9426cfeecf31",
   "metadata": {},
   "outputs": [],
   "source": []
  },
  {
   "cell_type": "markdown",
   "id": "3bfd934f-1041-405f-9253-db4096385e39",
   "metadata": {},
   "source": [
    "Persist new Senzing configuration."
   ]
  },
  {
   "cell_type": "code",
   "execution_count": null,
   "id": "8beac8c5-3368-4cef-b561-d90b541c3e3a",
   "metadata": {},
   "outputs": [],
   "source": []
  },
  {
   "cell_type": "markdown",
   "id": "2ffc09e3-dc87-4fc0-9b01-63f3d8885661",
   "metadata": {},
   "source": [
    "With the change in Senzing configuration, Senzing objects need to be updated."
   ]
  },
  {
   "cell_type": "code",
   "execution_count": null,
   "id": "9c843e84-cc89-460c-9036-641d78218c6a",
   "metadata": {},
   "outputs": [],
   "source": [
    "var szEngine = getSzEngine(ctx, szAbstractFactory)\n",
    "\n",
    "%%\n",
    "defaultConfigID, err := szConfigManager.GetDefaultConfigID(ctx)\n",
    "fmt.Printf(\"default: %d\\n\", defaultConfigID)\n",
    "\n",
    "configDefinition, err := szConfigManager.GetConfig(ctx, defaultConfigID)\n",
    "testErr(err)\n",
    "\n",
    "configHandle, err := szConfig.ImportConfig(ctx, configDefinition)\n",
    "testErr(err)\n",
    "\n",
    "dataXX, err := szConfig.GetDataSources(ctx, configHandle)\n",
    "testErr(err)\n",
    "\n",
    "fmt.Println(dataXX)\n",
    "\n",
    "\n",
    "\n",
    "// result, err := szConfig.GetDataSources(ctx, configHandle)\n",
    "// testErr(err)\n",
    "// fmt.Printf(\">>>> Result: %s\\n\", result)"
   ]
  },
  {
   "cell_type": "markdown",
   "id": "3bca3570-9da5-4aca-b9db-1c01695e97d8",
   "metadata": {},
   "source": [
    "## Add records"
   ]
  },
  {
   "cell_type": "markdown",
   "id": "35ed65ef-5607-4807-9c13-3c1c7907bc6a",
   "metadata": {},
   "source": [
    "Print help for `sz_engine.add_record()` to see parameters."
   ]
  },
  {
   "cell_type": "code",
   "execution_count": null,
   "id": "eaa34d6e-0dfe-4af6-b6d7-f0f219ecc7b4",
   "metadata": {},
   "outputs": [],
   "source": []
  },
  {
   "cell_type": "markdown",
   "id": "3dc91753-7825-4eda-a64b-b1bb2a48f944",
   "metadata": {},
   "source": [
    "Call Senzing repeatedly to add records."
   ]
  },
  {
   "cell_type": "code",
   "execution_count": null,
   "id": "3bbbd3f9-6d35-48e5-9927-eea2805bcc74",
   "metadata": {},
   "outputs": [],
   "source": [
    "%%\n",
    "\n",
    "for _, value := range truthSetFileNames {\n",
    "    filepath := fmt.Sprintf(\"%s%s\", homePath, value)\n",
    "    file, err := os.Open(filepath)\n",
    "    testErr(err)\n",
    "    defer file.Close()      \n",
    "\n",
    "    scanner := bufio.NewScanner(file)\n",
    "    for scanner.Scan() {\n",
    "        line := scanner.Bytes()\n",
    "        err := json.Unmarshal(line, &jsonRecord)  \n",
    "        testErr(err)\n",
    "        fmt.Printf(\"UID: %s.%s\\n\", jsonRecord.Data_Source, jsonRecord.Record_ID)\n",
    "        result, err := szEngine.AddRecord(ctx, jsonRecord.Data_Source, jsonRecord.Record_ID, string(line), senzing.SzWithInfo)\n",
    "        testErr(err)\n",
    "        fmt.Println(result)\n",
    "    }    \n",
    "}    \n",
    "\n",
    "// for filename in truth_set_filenames:\n",
    "//     filepath = home_path + filename\n",
    "//     with open(filepath, \"r\") as file:\n",
    "//         for line in file:\n",
    "//             try:\n",
    "//                 line_as_dict = json.loads(line)\n",
    "//                 info = sz_engine.add_record(\n",
    "//                     line_as_dict.get(\"DATA_SOURCE\"),\n",
    "//                     line_as_dict.get(\"RECORD_ID\"),\n",
    "//                     line,\n",
    "//                     SzEngineFlags.SZ_WITH_INFO,\n",
    "//                 )\n",
    "//                 print(info)\n",
    "//             except SzError as err:\n",
    "//                 print(err)"
   ]
  },
  {
   "cell_type": "markdown",
   "id": "f43f49c9-3aa2-49f4-baa7-68a801f83fc9",
   "metadata": {},
   "source": [
    "## View results"
   ]
  },
  {
   "cell_type": "markdown",
   "id": "ac81b0b0-1c17-450c-b04e-18c4ef54fc24",
   "metadata": {},
   "source": [
    "Retrieve an entity by identifying a record of the entity. Use the `SZ_ENTITY_INCLUDE_RECORD_SUMMARY` flag from among the [get_entity flags].\n",
    "\n",
    "[get_entity flags]: https://senzing.com/docs/4_beta/flags/flags_get_entity/"
   ]
  },
  {
   "cell_type": "code",
   "execution_count": null,
   "id": "a1d50a95-6470-4e5f-944d-41e0662f92cf",
   "metadata": {},
   "outputs": [],
   "source": []
  },
  {
   "cell_type": "markdown",
   "id": "8996fd0d-f607-4a91-84f6-093dd4e88e97",
   "metadata": {},
   "source": [
    "Search for entities by attributes."
   ]
  },
  {
   "cell_type": "code",
   "execution_count": null,
   "id": "1ff90ba8-7054-42a1-a8b1-133b9dd7f81e",
   "metadata": {},
   "outputs": [],
   "source": []
  }
 ],
 "metadata": {
  "kernelspec": {
   "display_name": "Go (gonb)",
   "language": "go",
   "name": "gonb"
  },
  "language_info": {
   "codemirror_mode": "",
   "file_extension": ".go",
   "mimetype": "",
   "name": "go",
   "nbconvert_exporter": "",
   "pygments_lexer": "",
   "version": "go1.23.3"
  }
 },
 "nbformat": 4,
 "nbformat_minor": 5
}

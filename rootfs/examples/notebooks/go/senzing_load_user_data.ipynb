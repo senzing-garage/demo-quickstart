{
 "cells": [
  {
   "cell_type": "markdown",
   "id": "ed864bf9-c2eb-409b-aa7a-0981ae8a9e1a",
   "metadata": {},
   "source": [
    "# Load user data\n",
    "\n",
    "These instructions show how to load user data into the Senzing engine.\n",
    "\n",
    "In this exercise:\n",
    "\n",
    "1. You upload a file of records to be inserted into Senzing.\n",
    "1. Data source names are extracted from the file of records.\n",
    "1. The data source names are added to the Senzing configuration.\n",
    "1. Records from the file of records are added to Senzing.\n",
    "\n",
    "**Warning**:\n",
    "Remember that the notebooks are not permanent when using the Playground docker container. \n",
    "You can save a notebook to your workstation by selecting <b>File</b> > <b>Download</b> in Jupyter Lab."
   ]
  },
  {
   "cell_type": "markdown",
   "id": "0478af09-b694-4f43-89aa-d4400d8c72d7",
   "metadata": {},
   "source": [
    "## Upload file of records"
   ]
  },
  {
   "attachments": {
    "a47890fa-694e-4f50-bb92-0c23347caaa0.png": {
     "image/png": "[encoded data removed]"
    }
   },
   "cell_type": "markdown",
   "id": "bd009324-6f57-4f34-b02c-a6ecf4816491",
   "metadata": {},
   "source": [
    "The following instructions show how to upload a file of JSON lines.\n",
    "Here is an [example file] to download.\n",
    "\n",
    "1. In upper-left corner of JuypterLab, click on the\n",
    "   \"Upload Files\" icon\n",
    "   (![upload-icon.png](attachment:a47890fa-694e-4f50-bb92-0c23347caaa0.png))\n",
    "1. Choose the file of JSON lines to upload.\n",
    "   When successful the file is seen in the left-hand file list.\n",
    "1. Modify the value of <code>fileName</code> to match your file name.\n",
    "\n",
    "[example file]: https://raw.githubusercontent.com/senzing-garage/playground/refs/heads/main/rootfs/examples/notebooks/python/senzing-example-data.json"
   ]
  },
  {
   "cell_type": "markdown",
   "id": "8a28a8ad-9db4-4841-82db-655bc01258b3",
   "metadata": {},
   "source": [
    "## Prepare Go enviroment"
   ]
  },
  {
   "cell_type": "markdown",
   "id": "a954a605-4e27-4824-b8fa-0a9c5be389f3",
   "metadata": {},
   "source": [
    "Define global imports, types, and variables."
   ]
  },
  {
   "cell_type": "code",
   "execution_count": null,
   "id": "c2793d3b-5476-416a-825f-79a4ebc29a4b",
   "metadata": {},
   "outputs": [],
   "source": [
    "import (\n",
    "\t\"google.golang.org/grpc\"\n",
    "\t\"google.golang.org/grpc/credentials/insecure\"\n",
    "    \"github.com/senzing-garage/sz-sdk-go-grpc/szabstractfactory\"\n",
    "    \"github.com/senzing-garage/sz-sdk-go/senzing\"\n",
    ")\n",
    "\n",
    "type DataSourceKey struct {\n",
    "    Data_Source string\n",
    "}\n",
    "\n",
    "type Record struct {\n",
    "    Data_Source string\n",
    "    Record_ID   string\n",
    "}\n",
    "\n",
    "var (\n",
    "    ctx = context.TODO()\n",
    "    fileName = \"senzing-example-data.json\"\n",
    "    err error\n",
    "\tgrpcAddress = \"localhost:8261\"\n",
    "    jsonDataSource DataSourceKey\n",
    "    jsonRecord Record\n",
    "    homePath = \"./\"\n",
    ")"
   ]
  },
  {
   "cell_type": "markdown",
   "id": "69ba6220-9e07-4033-933b-77c72cd5c0d0",
   "metadata": {},
   "source": [
    "## Define functions"
   ]
  },
  {
   "cell_type": "markdown",
   "id": "aea8c8b1-37bd-4a57-88aa-80a4831d8edc",
   "metadata": {},
   "source": [
    "Create a function for testing error conditions."
   ]
  },
  {
   "cell_type": "code",
   "execution_count": null,
   "id": "408848dd-5143-424d-bba5-d3174d201fe8",
   "metadata": {},
   "outputs": [],
   "source": [
    "func testErr(err error) {\n",
    "    if err != nil {\n",
    "        panic(err)\n",
    "    }\n",
    "}"
   ]
  },
  {
   "cell_type": "markdown",
   "id": "23722b20-5ac9-44b8-9956-215da7e82839",
   "metadata": {},
   "source": [
    "Create a function for getting an SzAbstractFactory that talks over gRPC."
   ]
  },
  {
   "cell_type": "code",
   "execution_count": null,
   "id": "ceb65bc4-349f-4a1d-ad79-4de4dc8a608c",
   "metadata": {},
   "outputs": [],
   "source": [
    "func getSzAbstractFactory() senzing.SzAbstractFactory {\n",
    "    grpcConnection, err := grpc.NewClient(grpcAddress, grpc.WithTransportCredentials(insecure.NewCredentials()))\n",
    "    testErr(err)\n",
    "    return &szabstractfactory.Szabstractfactory{\n",
    "    \tGrpcConnection: grpcConnection,\n",
    "    }\n",
    "}"
   ]
  },
  {
   "cell_type": "markdown",
   "id": "9ea0deba-8ed6-45e4-85a2-7df083bd724f",
   "metadata": {},
   "source": [
    "Create a function for extracting \"DATA_SOURCE\" values from JSON lines in files."
   ]
  },
  {
   "cell_type": "code",
   "execution_count": null,
   "id": "178f794a-b19c-46f0-94cc-215ffea76aca",
   "metadata": {},
   "outputs": [],
   "source": [
    "func extractDataSources(filePath string) []string {\n",
    "\tresult := []string{}\n",
    "\tfile, err := os.Open(filePath)\n",
    "\tif err != nil {\n",
    "\t\tpanic(err)\n",
    "\t}\n",
    "\tdefer file.Close()\n",
    "\n",
    "\tscanner := bufio.NewScanner(file)\n",
    "\tfor scanner.Scan() {\n",
    "\t\tline := scanner.Bytes()\n",
    "\t\terr := json.Unmarshal(line, &jsonDataSource)\n",
    "\t\ttestErr(err)\n",
    "\t\tif !slices.Contains(result, jsonDataSource.Data_Source) {\n",
    "\t\t\tresult = append(result, jsonDataSource.Data_Source)\n",
    "\t\t}\n",
    "\t}\n",
    "\n",
    "\tif err := scanner.Err(); err != nil {\n",
    "\t\tlog.Fatal(err)\n",
    "\t}\n",
    "\treturn result\n",
    "}"
   ]
  },
  {
   "cell_type": "markdown",
   "id": "d7bd8a07-06eb-4d12-94db-d7dc79f10ae1",
   "metadata": {},
   "source": [
    "Create a function to add DataSource names to Senzing configuration."
   ]
  },
  {
   "cell_type": "code",
   "execution_count": null,
   "id": "74355b4e-910e-44b2-8894-2cd21210c878",
   "metadata": {},
   "outputs": [],
   "source": [
    "func addDatasourcesToSenzingConfig(szAbstractFactory senzing.SzAbstractFactory, dataSourceNames []string) error {\n",
    "\n",
    "\tszConfig, err := szAbstractFactory.CreateConfig(ctx)\n",
    "\tif err != nil {\n",
    "\t\treturn err\n",
    "\t}\n",
    "\n",
    "\tszConfigManager, err := szAbstractFactory.CreateConfigManager(ctx)\n",
    "\tif err != nil {\n",
    "\t\treturn err\n",
    "\t}\n",
    "\n",
    "\toldConfigID, err := szConfigManager.GetDefaultConfigID(ctx)\n",
    "\tif err != nil {\n",
    "\t\treturn err\n",
    "\t}\n",
    "\n",
    "\toldJsonConfig, err := szConfigManager.GetConfig(ctx, oldConfigID)\n",
    "\tif err != nil {\n",
    "\t\treturn err\n",
    "\t}\n",
    "\n",
    "\tconfigHandle, err := szConfig.ImportConfig(ctx, oldJsonConfig)\n",
    "\tif err != nil {\n",
    "\t\treturn err\n",
    "\t}\n",
    "\n",
    "\tfor _, value := range dataSourceNames {\n",
    "\t\t_, err := szConfig.AddDataSource(ctx, configHandle, value)\n",
    "\t\tif err != nil {\n",
    "\t\t\tfmt.Println(err)\n",
    "\t\t}\n",
    "\t}\n",
    "\n",
    "\tnewJsonConfig, err := szConfig.ExportConfig(ctx, configHandle)\n",
    "\tif err != nil {\n",
    "\t\treturn err\n",
    "\t}\n",
    "\n",
    "\tnewConfigID, err := szConfigManager.AddConfig(ctx, newJsonConfig, \"Add TruthSet datasources\")\n",
    "\tif err != nil {\n",
    "\t\treturn err\n",
    "\t}\n",
    "\n",
    "\terr = szConfigManager.ReplaceDefaultConfigID(ctx, oldConfigID, newConfigID)\n",
    "\tif err != nil {\n",
    "\t\treturn err\n",
    "\t}\n",
    "\n",
    "\terr = szAbstractFactory.Reinitialize(ctx, newConfigID)\n",
    "\tif err != nil {\n",
    "\t\treturn err\n",
    "\t}\n",
    "\n",
    "\treturn nil\n",
    "}"
   ]
  },
  {
   "cell_type": "markdown",
   "id": "90e5100e-ea82-4f41-9518-e9f6c43c4937",
   "metadata": {},
   "source": [
    "Create a function to add records to Senzing from a file of JSON lines."
   ]
  },
  {
   "cell_type": "code",
   "execution_count": null,
   "id": "e26a4b39-afcf-49eb-9be5-f52c7e901c74",
   "metadata": {},
   "outputs": [],
   "source": [
    "func addRecords(szAbstractFactory senzing.SzAbstractFactory, filepath string) error {\n",
    "\tfile, err := os.Open(filepath)\n",
    "\tif err != nil {\n",
    "\t\treturn err\n",
    "\t}\n",
    "\tdefer file.Close()\n",
    "\n",
    "\tszEngine, err := szAbstractFactory.CreateEngine(ctx)\n",
    "\tif err != nil {\n",
    "\t\treturn err\n",
    "\t}\n",
    "\n",
    "\tscanner := bufio.NewScanner(file)\n",
    "\tfor scanner.Scan() {\n",
    "\t\tline := scanner.Bytes()\n",
    "\t\terr := json.Unmarshal(line, &jsonRecord)\n",
    "\t\ttestErr(err)\n",
    "\t\tresult, err := szEngine.AddRecord(ctx, jsonRecord.Data_Source, jsonRecord.Record_ID, string(line), senzing.SzWithInfo)\n",
    "\t\ttestErr(err)\n",
    "\t\tfmt.Println(result)\n",
    "\t}\n",
    "\treturn nil\n",
    "}"
   ]
  },
  {
   "cell_type": "markdown",
   "id": "dbe8f2d2-4248-40e3-868d-5f2d383d8abc",
   "metadata": {},
   "source": [
    "Create a function to pretty print JSON."
   ]
  },
  {
   "cell_type": "code",
   "execution_count": null,
   "id": "e4bbcc6c-7051-4a60-9574-a8214d71cfe7",
   "metadata": {},
   "outputs": [],
   "source": [
    "func asPrettyJSON(str string) string {\n",
    "\tvar prettyJSON bytes.Buffer\n",
    "\tif err := json.Indent(&prettyJSON, []byte(str), \"\", \"    \"); err != nil {\n",
    "\t\treturn str\n",
    "\t}\n",
    "\treturn prettyJSON.String()\n",
    "}"
   ]
  },
  {
   "cell_type": "markdown",
   "id": "394d6d20-b20e-455b-926f-738995b6d397",
   "metadata": {},
   "source": [
    "## Main"
   ]
  },
  {
   "cell_type": "markdown",
   "id": "9f37d28b-f775-4448-a698-672cd4b23974",
   "metadata": {},
   "source": [
    "Add records by calling previously defined functions."
   ]
  },
  {
   "cell_type": "code",
   "execution_count": null,
   "id": "2b3d01ce-9ac4-41b6-bf82-faa4464e87c2",
   "metadata": {},
   "outputs": [],
   "source": [
    "%%\n",
    "// User input.\n",
    "\n",
    "inputFile := fmt.Sprintf(\"%s%s\", homePath, fileName)\n",
    "\n",
    "// Create Senzing gRPC client.\n",
    "\n",
    "grpcConnection, err := grpc.NewClient(grpcAddress, grpc.WithTransportCredentials(insecure.NewCredentials()))\n",
    "testErr(err)\n",
    "szAbstractFactory := &szabstractfactory.Szabstractfactory{\n",
    "\tGrpcConnection: grpcConnection,\n",
    "}\n",
    "\n",
    "// Identify datasources and update Senzing configuration.\n",
    "\n",
    "dataSourceNames := extractDataSources(inputFile)\n",
    "fmt.Printf(\"Found the following DATA_SOURCE values in the data: %v\\n\", dataSourceNames)\n",
    "\n",
    "err = addDatasourcesToSenzingConfig(szAbstractFactory, dataSourceNames)\n",
    "testErr(err)\n",
    "\n",
    "// Add records.\n",
    "\n",
    "err = addRecords(szAbstractFactory, inputFile)\n",
    "testErr(err)"
   ]
  }
 ],
 "metadata": {
  "kernelspec": {
   "display_name": "Go (gonb)",
   "language": "go",
   "name": "gonb"
  },
  "language_info": {
   "codemirror_mode": "",
   "file_extension": ".go",
   "mimetype": "",
   "name": "go",
   "nbconvert_exporter": "",
   "pygments_lexer": "",
   "version": "go1.23.2"
  }
 },
 "nbformat": 4,
 "nbformat_minor": 5
}

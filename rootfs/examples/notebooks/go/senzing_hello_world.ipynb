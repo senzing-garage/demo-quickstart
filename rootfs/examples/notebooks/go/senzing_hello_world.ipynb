{
 "cells": [
  {
   "cell_type": "markdown",
   "id": "ed864bf9-c2eb-409b-aa7a-0981ae8a9e1a",
   "metadata": {},
   "source": [
    "# Senzing Hello World\n",
    "\n",
    "The following is a quick test of connectivity to Senzing using Python over gRPC.\n",
    "\n",
    "**Hints**:\n",
    "1. To step through the cells one at a time,\n",
    "   click on the \"Run this cell and advance (Shift+Enter)\" icon\n",
    "   (![step.png](attachment:065c0502-8299-4859-b227-cdf74c818c26.png))\n",
    "   near the top-left of this notebook repeatedly.\n",
    "1. To run all cells,\n",
    "   click on the \"Restart the kernel and run all cells\" icon\n",
    "   (![play.png](attachment:38021157-0761-48c6-a35d-3a4d37604283.png))\n",
    "   near the top-left of this notebook.\n",
    "   When prompted, restart the kernel.\n",
    "   "
   ]
  },
  {
   "cell_type": "markdown",
   "id": "a954a605-4e27-4824-b8fa-0a9c5be389f3",
   "metadata": {},
   "source": [
    "Create a function for creating the Senzing AbstractFactory."
   ]
  },
  {
   "cell_type": "code",
   "execution_count": null,
   "id": "c2793d3b-5476-416a-825f-79a4ebc29a4b",
   "metadata": {},
   "outputs": [],
   "source": [
    "import (\n",
    "\t\"google.golang.org/grpc\"\n",
    "\t\"google.golang.org/grpc/credentials/insecure\"\n",
    "    \"github.com/senzing-garage/sz-sdk-go-grpc/szabstractfactory\"\n",
    "    \"github.com/senzing-garage/sz-sdk-go/senzing\"    \n",
    ")\n",
    "\n",
    "var (\n",
    "\tgrpcAddress    = \"localhost:8261\"\n",
    ")\n",
    "\n",
    "func getSzAbstractFactory() senzing.SzAbstractFactory {\n",
    "    grpcConnection, err := grpc.NewClient(grpcAddress, grpc.WithTransportCredentials(insecure.NewCredentials()))\n",
    "    if err != nil {\n",
    "    \tpanic(err)\n",
    "    }\n",
    "    return &szabstractfactory.Szabstractfactory{\n",
    "    \tGrpcConnection: grpcConnection,\n",
    "    }    \n",
    "}    "
   ]
  },
  {
   "cell_type": "markdown",
   "id": "9ea0deba-8ed6-45e4-85a2-7df083bd724f",
   "metadata": {},
   "source": [
    "Get a Senzing object and use the Senzing object."
   ]
  },
  {
   "cell_type": "code",
   "execution_count": null,
   "id": "178f794a-b19c-46f0-94cc-215ffea76aca",
   "metadata": {},
   "outputs": [],
   "source": [
    "%%\n",
    "\n",
    "ctx := context.TODO()\n",
    "szAbstractFactory := getSzAbstractFactory()\n",
    "szProduct, err := szAbstractFactory.CreateSzProduct(ctx)\n",
    "\n",
    "version, err := szProduct.GetVersion(ctx)\n",
    "if err != nil {\n",
    "    panic(err)\n",
    "}\n",
    "fmt.Println(version)"
   ]
  }
 ],
 "metadata": {
  "kernelspec": {
   "display_name": "Go (gonb)",
   "language": "go",
   "name": "gonb"
  },
  "language_info": {
   "codemirror_mode": "",
   "file_extension": ".go",
   "mimetype": "",
   "name": "go",
   "nbconvert_exporter": "",
   "pygments_lexer": "",
   "version": "go1.23.3"
  }
 },
 "nbformat": 4,
 "nbformat_minor": 5
}

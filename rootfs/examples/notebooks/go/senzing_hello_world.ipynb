{
 "cells": [
  {
   "attachments": {
    "0df1d640-41c2-41a3-87e8-9ca4bd0bc2b5.png": {
     "image/png": "[encoded data removed]"
    },
    "5c81ee65-bc75-487e-a33b-2b4a6a6156e0.png": {
     "image/png": "[encoded data removed]"
    }
   },
   "cell_type": "markdown",
   "id": "ed864bf9-c2eb-409b-aa7a-0981ae8a9e1a",
   "metadata": {},
   "source": [
    "# Senzing Hello World\n",
    "\n",
    "The following is a quick test of connectivity to Senzing using Go over gRPC.\n",
    "\n",
    "**Hints**:\n",
    "1. To step through the cells one at a time,\n",
    "   click on the \"Run this cell and advance (Shift+Enter)\" icon\n",
    "   (![step.png](attachment:5c81ee65-bc75-487e-a33b-2b4a6a6156e0.png))\n",
    "   near the top-left of this notebook repeatedly.\n",
    "1. To run all cells,\n",
    "   click on the \"Restart the kernel and run all cells\" icon\n",
    "   (![play.png](attachment:0df1d640-41c2-41a3-87e8-9ca4bd0bc2b5.png))\n",
    "   near the top-left of this notebook.\n",
    "   When prompted, restart the kernel.\n",
    "1. For help with writing to the Go Kernel, see [gonb] and [tutorial.ipynb].\n",
    "\n",
    "[gonb]: https://github.com/janpfeifer/gonb\n",
    "[tutorial.ipynb]: https://github.com/janpfeifer/gonb/blob/main/examples/tutorial.ipynb   "
   ]
  },
  {
   "cell_type": "markdown",
   "id": "029ee6a9-5925-4f45-b06b-564308e3b485",
   "metadata": {},
   "source": [
    "## Prepare Go enviroment"
   ]
  },
  {
   "cell_type": "markdown",
   "id": "a954a605-4e27-4824-b8fa-0a9c5be389f3",
   "metadata": {},
   "source": [
    "Define global imports, types, variables, and functions."
   ]
  },
  {
   "cell_type": "code",
   "execution_count": null,
   "id": "c2793d3b-5476-416a-825f-79a4ebc29a4b",
   "metadata": {},
   "outputs": [],
   "source": [
    "import (\n",
    "\t\"google.golang.org/grpc\"\n",
    "\t\"google.golang.org/grpc/credentials/insecure\"\n",
    "    \"github.com/senzing-garage/sz-sdk-go-grpc/szabstractfactory\"\n",
    "    \"github.com/senzing-garage/sz-sdk-go/senzing\"    \n",
    ")\n",
    "\n",
    "var (\n",
    "\tgrpcAddress    = \"localhost:8261\"\n",
    ")    "
   ]
  },
  {
   "cell_type": "markdown",
   "id": "40ff2c2b-291d-4006-8dbc-5b9a67154d0f",
   "metadata": {},
   "source": [
    "Create a function for testing error conditions."
   ]
  },
  {
   "cell_type": "code",
   "execution_count": null,
   "id": "3f98c8f9-2859-4652-bcd0-a21eba431af8",
   "metadata": {},
   "outputs": [],
   "source": [
    "func testErr(err error) {\n",
    "    if err != nil {\n",
    "        panic(err)\n",
    "    }\n",
    "}"
   ]
  },
  {
   "cell_type": "markdown",
   "id": "cedf89e5-c276-4438-9f78-f0126af73476",
   "metadata": {},
   "source": [
    "Create a function to construct a Senzing AbstractFactory."
   ]
  },
  {
   "cell_type": "code",
   "execution_count": null,
   "id": "f3568e8c-fb49-44d3-ba78-cdccc5a2d638",
   "metadata": {},
   "outputs": [],
   "source": [
    "func getSzAbstractFactory() senzing.SzAbstractFactory {\n",
    "    grpcConnection, err := grpc.NewClient(grpcAddress, grpc.WithTransportCredentials(insecure.NewCredentials()))\n",
    "    testErr(err)\n",
    "    return &szabstractfactory.Szabstractfactory{\n",
    "    \tGrpcConnection: grpcConnection,\n",
    "    }    \n",
    "}"
   ]
  },
  {
   "cell_type": "markdown",
   "id": "185e8a0f-e414-4ef0-b26e-26ee2a64456b",
   "metadata": {},
   "source": [
    "Create a function to pretty print JSON."
   ]
  },
  {
   "cell_type": "code",
   "execution_count": null,
   "id": "8c4061b5-6e17-444e-91fe-44d32e5bbbec",
   "metadata": {},
   "outputs": [],
   "source": [
    "func prettyJSON(str string) (string, error) {\n",
    "    var prettyJSON bytes.Buffer\n",
    "    if err := json.Indent(&prettyJSON, []byte(str), \"\", \"    \"); err != nil {\n",
    "        return \"\", err\n",
    "    }\n",
    "    return prettyJSON.String(), nil\n",
    "}"
   ]
  },
  {
   "cell_type": "markdown",
   "id": "15e11d45-d174-4290-bfa5-ba28d5e96552",
   "metadata": {},
   "source": [
    "## Use Senzing object"
   ]
  },
  {
   "cell_type": "markdown",
   "id": "9ea0deba-8ed6-45e4-85a2-7df083bd724f",
   "metadata": {},
   "source": [
    "Get and use a Senzing object."
   ]
  },
  {
   "cell_type": "code",
   "execution_count": null,
   "id": "178f794a-b19c-46f0-94cc-215ffea76aca",
   "metadata": {},
   "outputs": [],
   "source": [
    "%%\n",
    "ctx := context.TODO()\n",
    "szAbstractFactory := getSzAbstractFactory()\n",
    "szProduct, err := szAbstractFactory.CreateProduct(ctx)\n",
    "\n",
    "version, err := szProduct.GetVersion(ctx)\n",
    "testErr(err)\n",
    "\n",
    "versionPretty, err := prettyJSON(version)\n",
    "testErr(err)\n",
    "\n",
    "fmt.Println(versionPretty)"
   ]
  },
  {
   "cell_type": "markdown",
   "id": "05cf0d2e-9a3c-48c3-b436-9c838af79551",
   "metadata": {},
   "source": [
    "...and for good measure,  \"Hello, World!\""
   ]
  },
  {
   "cell_type": "code",
   "execution_count": null,
   "id": "0f4a95b9-f875-4d65-8577-ba5e8759f3d1",
   "metadata": {},
   "outputs": [],
   "source": [
    "%%\n",
    "fmt.Println(\"Hello, World!\")"
   ]
  }
 ],
 "metadata": {
  "kernelspec": {
   "display_name": "Go (gonb)",
   "language": "go",
   "name": "gonb"
  },
  "language_info": {
   "codemirror_mode": "",
   "file_extension": ".go",
   "mimetype": "",
   "name": "go",
   "nbconvert_exporter": "",
   "pygments_lexer": "",
   "version": "go1.23.3"
  }
 },
 "nbformat": 4,
 "nbformat_minor": 5
}

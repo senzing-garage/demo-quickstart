{
 "cells": [
  {
   "cell_type": "markdown",
   "id": "671ae8b2-3d6a-4802-a544-2ca4c66a2497",
   "metadata": {},
   "source": [
    "# List DataSources\n",
    "\n",
    "These instructions list the active datasources."
   ]
  },
  {
   "cell_type": "markdown",
   "id": "e034c7cc-1c3d-4a88-a83c-f98041572d5a",
   "metadata": {},
   "source": [
    "## Prepare Python enviroment"
   ]
  },
  {
   "cell_type": "markdown",
   "id": "4ef6b70a-ce44-4d22-81b6-eba6606eb2be",
   "metadata": {},
   "source": [
    "Import Python packages."
   ]
  },
  {
   "cell_type": "code",
   "execution_count": null,
   "id": "de03a1c2-d7b1-40a9-8154-1df47cd49fef",
   "metadata": {},
   "outputs": [],
   "source": [
    "import json\n",
    "import grpc\n",
    "from senzing_grpc import SzAbstractFactory, SzAbstractFactoryParameters"
   ]
  },
  {
   "cell_type": "markdown",
   "id": "5f089e33-847d-4da7-8bb5-4edef5288e72",
   "metadata": {},
   "source": [
    "Set environment variables for downloading truth-set files."
   ]
  },
  {
   "cell_type": "markdown",
   "id": "57168a37-139b-44a1-957c-48ced52e684f",
   "metadata": {},
   "source": [
    "## Find and print the active datasources"
   ]
  },
  {
   "cell_type": "markdown",
   "id": "7df1865e-38e5-416a-835b-b326b4eaf7a5",
   "metadata": {},
   "source": [
    "Create an [abstract factory] for accessing Senzing via gRPC.\n",
    "\n",
    "[abstract factory]: https://en.wikipedia.org/wiki/Abstract_factory_pattern"
   ]
  },
  {
   "cell_type": "code",
   "execution_count": null,
   "id": "3272f76c-dc95-4ff8-b573-8bddd55fb779",
   "metadata": {},
   "outputs": [],
   "source": [
    "FACTORY_PARAMETERS: SzAbstractFactoryParameters = {\n",
    "    \"grpc_channel\": grpc.insecure_channel(\"localhost:8261\"),\n",
    "}\n",
    "\n",
    "sz_abstract_factory = SzAbstractFactory(**FACTORY_PARAMETERS)"
   ]
  },
  {
   "cell_type": "markdown",
   "id": "60c3824c-e3ac-4445-ac71-338361890405",
   "metadata": {},
   "source": [
    "Using the abstract factory, create Senzing objects."
   ]
  },
  {
   "cell_type": "code",
   "execution_count": null,
   "id": "301ce7eb-9069-4c8d-a1c4-ebe8f78d1bf6",
   "metadata": {},
   "outputs": [],
   "source": [
    "sz_config = sz_abstract_factory.create_config()\n",
    "sz_configmanager = sz_abstract_factory.create_configmanager()"
   ]
  },
  {
   "cell_type": "markdown",
   "id": "583094aa-9a08-4ad7-a1bf-4b11f19d63aa",
   "metadata": {},
   "source": [
    "Get current Senzing configuration."
   ]
  },
  {
   "cell_type": "code",
   "execution_count": null,
   "id": "fbf17cc3-3273-4097-90a2-f0b9a21674a1",
   "metadata": {},
   "outputs": [],
   "source": [
    "default_config_id = sz_configmanager.get_default_config_id()\n",
    "config = sz_configmanager.get_config(default_config_id)\n",
    "config_handle = sz_config.import_config(config)"
   ]
  },
  {
   "cell_type": "markdown",
   "id": "e1eeadba-2c85-4e99-802e-3f223997da28",
   "metadata": {},
   "source": [
    "Add DataSources to Senzing configuration."
   ]
  },
  {
   "cell_type": "code",
   "execution_count": null,
   "id": "97854ac2-ad01-4663-9f6c-4afd816230f9",
   "metadata": {},
   "outputs": [],
   "source": [
    "data_sources = sz_config.get_data_sources(config_handle)\n",
    "print(json.dumps(json.loads(data_sources), indent=2))"
   ]
  }
 ],
 "metadata": {
  "kernelspec": {
   "display_name": "Python 3 (ipykernel)",
   "language": "python",
   "name": "python3"
  },
  "language_info": {
   "codemirror_mode": {
    "name": "ipython",
    "version": 3
   },
   "file_extension": ".py",
   "mimetype": "text/x-python",
   "name": "python",
   "nbconvert_exporter": "python",
   "pygments_lexer": "ipython3",
   "version": "3.9.2"
  }
 },
 "nbformat": 4,
 "nbformat_minor": 5
}
